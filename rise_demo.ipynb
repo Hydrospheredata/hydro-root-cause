{
 "cells": [
  {
   "cell_type": "code",
   "execution_count": null,
   "metadata": {},
   "outputs": [],
   "source": [
    "%load_ext autoreload\n",
    "%autoreload 2"
   ]
  },
  {
   "cell_type": "code",
   "execution_count": 6,
   "metadata": {},
   "outputs": [],
   "source": [
    "import numpy as np\n",
    "import pandas as pd\n",
    "import requests\n",
    "import matplotlib.pyplot as plt\n",
    "from tqdm import tqdm_notebook as tqdm\n",
    "from time import sleep\n",
    "from hydro_serving_grpc.reqstore import reqstore_client\n",
    "\n",
    "import hydro_serving_grpc as hs_grpc\n",
    "from client import HydroServingClient, HydroServingServable, HydroServingModel"
   ]
  },
  {
   "cell_type": "code",
   "execution_count": 40,
   "metadata": {},
   "outputs": [],
   "source": [
    "hs_client = HydroServingClient(\"localhost:9090\")"
   ]
  },
  {
   "cell_type": "code",
   "execution_count": 41,
   "metadata": {},
   "outputs": [],
   "source": [
    "mnist_model = hs_client.get_model(\"mnist\", 1)"
   ]
  },
  {
   "cell_type": "code",
   "execution_count": 117,
   "metadata": {},
   "outputs": [
    {
     "data": {
      "text/plain": [
       "'hydro_root_cause_service'"
      ]
     },
     "execution_count": 117,
     "metadata": {},
     "output_type": "execute_result"
    }
   ],
   "source": [
    "# Check hello from rootcause service\n",
    "requests.get(\"http://localhost/rootcause/\").text"
   ]
  },
  {
   "cell_type": "code",
   "execution_count": 43,
   "metadata": {},
   "outputs": [],
   "source": [
    "import mnist\n",
    "images = mnist.train_images()"
   ]
  },
  {
   "cell_type": "markdown",
   "metadata": {},
   "source": [
    "Plot random image"
   ]
  },
  {
   "cell_type": "code",
   "execution_count": 44,
   "metadata": {},
   "outputs": [
    {
     "data": {
      "text/plain": [
       "<matplotlib.image.AxesImage at 0x1215de630>"
      ]
     },
     "execution_count": 44,
     "metadata": {},
     "output_type": "execute_result"
    },
    {
     "data": {
      "image/png": "[encoded data removed]",
      "text/plain": [
       "<Figure size 432x288 with 1 Axes>"
      ]
     },
     "metadata": {
      "needs_background": "light"
     },
     "output_type": "display_data"
    }
   ],
   "source": [
    "x = images[np.random.randint(0, images.shape[0])]\n",
    "plt.imshow(x)"
   ]
  },
  {
   "cell_type": "markdown",
   "metadata": {},
   "source": [
    "Send data to reqstore"
   ]
  },
  {
   "cell_type": "code",
   "execution_count": 45,
   "metadata": {},
   "outputs": [
    {
     "name": "stderr",
     "output_type": "stream",
     "text": [
      "2019-07-30 15:13:09.110 | INFO     | client:deploy_servable:76 - mnist-1-fluffy-parallax is ServableStatus.STARTING\n",
      "2019-07-30 15:13:14.030 | INFO     | client:deploy_servable:76 - mnist-1-fluffy-parallax is ServableStatus.SERVING\n"
     ]
    },
    {
     "data": {
      "application/vnd.jupyter.widget-view+json": {
       "model_id": "a0dc1a5ed20c46b69590dabc9edfc495",
       "version_major": 2,
       "version_minor": 0
      },
      "text/plain": [
       "HBox(children=(IntProgress(value=0, max=10), HTML(value='')))"
      ]
     },
     "metadata": {},
     "output_type": "display_data"
    },
    {
     "name": "stdout",
     "output_type": "stream",
     "text": [
      "\n"
     ]
    }
   ],
   "source": [
    "mnist_servable = hs_client.deploy_servable(\"mnist\", 1)\n",
    "for _ in tqdm(range(10)):\n",
    "    sleep(0.2)\n",
    "    x = images[np.random.randint(0, images.shape[0])].reshape((1, 28, 28))\n",
    "    x = x / 255.\n",
    "    mnist_servable(x, _profile=True)\n",
    "mnist_servable.delete()"
   ]
  },
  {
   "cell_type": "markdown",
   "metadata": {},
   "source": [
    "Check that data is in the reqstore"
   ]
  },
  {
   "cell_type": "code",
   "execution_count": 46,
   "metadata": {},
   "outputs": [
    {
     "data": {
      "text/plain": [
       "<matplotlib.image.AxesImage at 0x121739240>"
      ]
     },
     "execution_count": 46,
     "metadata": {},
     "output_type": "execute_result"
    },
    {
     "data": {
      "image/png": "[encoded data removed]",
      "text/plain": [
       "<Figure size 432x288 with 1 Axes>"
      ]
     },
     "metadata": {
      "needs_background": "light"
     },
     "output_type": "display_data"
    }
   ],
   "source": [
    "rs_client = reqstore_client.ReqstoreClient(\"localhost:9090\", insecure=True)\n",
    "subsample = list(rs_client.subsampling(\"1\", 10))\n",
    "image = list(mnist_model.contract.decode_request(subsample[0].entries[0].request).values())[0]\n",
    "plt.imshow(image[0])"
   ]
  },
  {
   "cell_type": "markdown",
   "metadata": {},
   "source": [
    "Fetch reqstore descriptors about this image"
   ]
  },
  {
   "cell_type": "code",
   "execution_count": 47,
   "metadata": {},
   "outputs": [],
   "source": [
    "folder = mnist_model.id\n",
    "ts = subsample[0].ts\n",
    "uid = subsample[0].entries[0].uid"
   ]
  },
  {
   "cell_type": "markdown",
   "metadata": {},
   "source": [
    "Check reqstore again"
   ]
  },
  {
   "cell_type": "code",
   "execution_count": 48,
   "metadata": {},
   "outputs": [
    {
     "data": {
      "text/plain": [
       "TsRecord(ts=1564488796200, entries=[Entry(uid=18)])"
      ]
     },
     "execution_count": 48,
     "metadata": {},
     "output_type": "execute_result"
    }
   ],
   "source": [
    "r = rs_client.get(str(folder), ts, uid)\n",
    "r"
   ]
  },
  {
   "cell_type": "markdown",
   "metadata": {},
   "source": [
    "Send model description and exlained instance description to rootcause"
   ]
  },
  {
   "cell_type": "code",
   "execution_count": 58,
   "metadata": {},
   "outputs": [],
   "source": [
    "r = requests.post(\"http://localhost/rootcause/rise\", json={\"model\":{\"name\":\"mnist\", \"version\":1},\n",
    "                                                      \"explained_instance\":{\"timestamp\":ts, \"uid\": uid}})\n"
   ]
  },
  {
   "cell_type": "code",
   "execution_count": 59,
   "metadata": {},
   "outputs": [
    {
     "data": {
      "text/plain": [
       "'{}\\n'"
      ]
     },
     "execution_count": 59,
     "metadata": {},
     "output_type": "execute_result"
    }
   ],
   "source": [
    "r.text"
   ]
  },
  {
   "cell_type": "code",
   "execution_count": 60,
   "metadata": {},
   "outputs": [
    {
     "name": "stdout",
     "output_type": "stream",
     "text": [
      "http://localhost/rootcause/status/rise/0701519c-545a-48ee-9a63-95f12a99ca84\n"
     ]
    },
    {
     "data": {
      "text/plain": [
       "'{\\n  \"state\": \"PENDING\"\\n}\\n'"
      ]
     },
     "execution_count": 60,
     "metadata": {},
     "output_type": "execute_result"
    }
   ],
   "source": [
    "redirect_url = r.headers['Location']\n",
    "print(redirect_url)\n",
    "requests.get(redirect_url).text"
   ]
  },
  {
   "cell_type": "code",
   "execution_count": 68,
   "metadata": {},
   "outputs": [
    {
     "data": {
      "text/plain": [
       "'{\\n  \"result\": \"5d40347868b663a1b4261539\", \\n  \"state\": \"SUCCESS\"\\n}\\n'"
      ]
     },
     "execution_count": 68,
     "metadata": {},
     "output_type": "execute_result"
    }
   ],
   "source": [
    "requests.get(redirect_url).text"
   ]
  },
  {
   "cell_type": "code",
   "execution_count": 79,
   "metadata": {},
   "outputs": [
    {
     "data": {
      "text/plain": [
       "{'completed_at': 'Tue, 30 Jul 2019 12:13:53 GMT',\n",
       " 'created_at': 'Tue, 30 Jul 2019 12:13:44 GMT',\n",
       " 'explained_instance': {'timestamp': 1564488796200, 'uid': 18},\n",
       " 'model': {'name': 'mnist', 'version': 1},\n",
       " 'result': {'masks': '[[[7, 7, 8, 7, 7, 7, 7, 7, 7, 7, 7, 7, 7, 7, 7, 7, 7, 7, 7, 8, 8, 8, 7, 7, 7, 7, 7, 7], [7, 8, 8, 8, 7, 7, 7, 7, 7, 7, 7, 7, 7, 6, 6, 7, 7, 7, 7, 7, 8, 7, 7, 7, 7, 7, 7, 7], [8, 8, 7, 7, 7, 7, 7, 7, 7, 7, 7, 7, 7, 7, 7, 7, 7, 7, 7, 7, 7, 7, 7, 7, 7, 7, 7, 7], [8, 8, 7, 7, 7, 7, 7, 7, 7, 7, 7, 7, 7, 7, 7, 7, 7, 7, 7, 7, 7, 7, 7, 7, 7, 7, 7, 7], [8, 8, 7, 7, 7, 7, 7, 7, 7, 7, 7, 7, 7, 7, 7, 7, 7, 7, 7, 7, 7, 8, 7, 7, 7, 7, 7, 7], [8, 8, 7, 7, 7, 7, 7, 7, 7, 7, 7, 7, 7, 7, 7, 7, 7, 7, 7, 8, 8, 8, 8, 7, 7, 7, 7, 7], [8, 8, 7, 7, 7, 7, 7, 6, 6, 6, 6, 6, 6, 6, 6, 6, 7, 7, 7, 8, 8, 8, 8, 8, 7, 7, 7, 7], [8, 8, 7, 7, 7, 7, 7, 6, 6, 6, 6, 6, 6, 6, 6, 6, 7, 7, 7, 8, 8, 8, 8, 8, 8, 7, 7, 7], [7, 7, 7, 7, 7, 7, 7, 6, 6, 6, 6, 6, 6, 6, 6, 6, 7, 7, 7, 8, 8, 8, 8, 8, 8, 7, 7, 7], [7, 7, 7, 7, 7, 7, 7, 7, 6, 6, 6, 6, 6, 6, 6, 7, 7, 7, 7, 8, 8, 9, 8, 8, 8, 7, 7, 7], [7, 6, 6, 6, 6, 7, 7, 7, 7, 7, 6, 6, 6, 6, 6, 6, 7, 7, 7, 8, 8, 9, 8, 8, 8, 7, 7, 7], [7, 6, 6, 6, 6, 7, 7, 7, 7, 7, 6, 6, 6, 6, 6, 6, 6, 7, 7, 8, 8, 9, 8, 8, 7, 7, 7, 7], [7, 7, 6, 6, 6, 7, 7, 7, 7, 7, 6, 6, 5, 5, 5, 5, 5, 6, 7, 7, 8, 8, 8, 8, 7, 7, 7, 7], [7, 7, 6, 6, 7, 7, 7, 7, 7, 7, 7, 5, 4, 4, 4, 4, 4, 5, 6, 7, 7, 7, 8, 8, 7, 7, 7, 7], [7, 7, 7, 7, 7, 7, 7, 7, 8, 7, 6, 5, 4, 3, 2, 3, 4, 4, 5, 6, 6, 7, 7, 7, 7, 7, 7, 7], [7, 7, 7, 7, 7, 7, 7, 7, 7, 7, 6, 5, 3, 2, 2, 2, 3, 4, 4, 5, 6, 7, 7, 7, 7, 7, 7, 7], [7, 7, 6, 6, 6, 7, 7, 7, 7, 7, 6, 4, 3, 2, 1, 2, 2, 3, 4, 5, 6, 7, 7, 7, 7, 7, 7, 7], [7, 7, 6, 6, 6, 6, 6, 7, 7, 7, 6, 5, 3, 2, 1, 2, 2, 4, 5, 5, 6, 7, 7, 7, 7, 7, 7, 7], [7, 7, 6, 6, 6, 6, 6, 6, 7, 7, 7, 5, 4, 2, 2, 2, 3, 4, 5, 6, 6, 7, 7, 7, 8, 7, 7, 7], [7, 7, 7, 6, 5, 5, 5, 6, 7, 7, 7, 6, 5, 4, 3, 3, 4, 5, 5, 6, 7, 7, 7, 7, 8, 8, 8, 7], [7, 7, 7, 6, 5, 5, 5, 5, 6, 7, 7, 7, 6, 5, 4, 4, 5, 5, 5, 6, 7, 7, 7, 7, 7, 8, 8, 8], [7, 7, 7, 6, 5, 5, 5, 5, 6, 7, 7, 7, 7, 6, 6, 5, 5, 5, 6, 6, 7, 7, 7, 7, 7, 7, 7, 7], [7, 7, 7, 6, 6, 6, 6, 6, 6, 7, 7, 7, 7, 7, 7, 6, 6, 6, 7, 7, 7, 7, 7, 7, 7, 7, 7, 7], [7, 7, 7, 7, 6, 6, 6, 6, 7, 7, 7, 7, 7, 7, 7, 7, 7, 7, 7, 7, 7, 7, 7, 7, 7, 7, 7, 7], [7, 7, 7, 7, 7, 6, 6, 6, 7, 7, 7, 7, 7, 7, 7, 7, 7, 7, 7, 7, 7, 7, 7, 7, 7, 7, 7, 7], [7, 7, 7, 7, 7, 7, 6, 7, 7, 7, 7, 7, 7, 7, 7, 7, 7, 7, 7, 7, 7, 7, 7, 7, 7, 7, 7, 7], [7, 7, 7, 7, 7, 7, 7, 7, 7, 7, 7, 7, 7, 7, 7, 7, 7, 7, 7, 7, 6, 6, 6, 7, 7, 7, 7, 7], [7, 7, 7, 7, 7, 7, 7, 7, 8, 7, 7, 7, 7, 7, 7, 7, 7, 7, 7, 6, 6, 6, 6, 7, 7, 7, 7, 7]], [[0, 0, 0, 0, 0, 0, 0, 0, 0, 0, 0, 0, 0, 0, 0, 0, 0, 0, 0, 0, 0, 0, 0, 0, 0, 0, 0, 0], [0, 0, 0, 0, 0, 0, 0, 0, 0, 0, 0, 0, 0, 0, 0, 0, 0, 0, 0, 0, 0, 0, 0, 0, 0, 0, 0, 0], [0, 0, 0, 0, 0, 0, 0, 0, 0, 0, 0, 0, 0, 0, 0, 0, 0, 0, 0, 0, 0, 0, 0, 0, 0, 0, 0, 0], [0, 0, 0, 0, 0, 0, 0, 0, 0, 0, 0, 0, 0, 0, 0, 0, 0, 0, 0, 0, 0, 0, 0, 0, 0, 0, 0, 0], [0, 0, 0, 0, 0, 0, 0, 0, 0, 0, 0, 0, 0, 0, 0, 0, 0, 0, 0, 0, 0, 0, 0, 0, 0, 0, 0, 0], [0, 0, 0, 0, 0, 0, 0, 0, 0, 0, 0, 0, 0, 0, 0, 0, 0, 0, 0, 0, 0, 0, 0, 0, 0, 0, 0, 0], [0, 0, 0, 0, 0, 0, 0, 0, 0, 0, 0, 0, 0, 0, 0, 0, 0, 0, 0, 0, 0, 0, 0, 0, 0, 0, 0, 0], [0, 0, 0, 0, 0, 0, 0, 0, 0, 0, 0, 0, 0, 0, 0, 0, 0, 0, 0, 0, 0, 0, 0, 0, 0, 0, 0, 0], [0, 0, 0, 0, 0, 0, 0, 0, 0, 0, 0, 0, 0, 0, 0, 0, 0, 0, 0, 0, 0, 0, 0, 0, 0, 0, 0, 0], [0, 0, 0, 0, 0, 0, 0, 0, 0, 0, 0, 0, 0, 0, 0, 0, 0, 0, 0, 0, 0, 0, 0, 0, 0, 0, 0, 0], [0, 0, 0, 0, 0, 0, 0, 0, 0, 0, 0, 0, 0, 0, 0, 0, 0, 0, 0, 0, 0, 0, 0, 0, 0, 0, 0, 0], [0, 0, 0, 0, 0, 0, 0, 0, 0, 0, 0, 0, 0, 0, 0, 0, 0, 0, 0, 0, 0, 0, 0, 0, 0, 0, 0, 0], [0, 0, 0, 0, 0, 0, 0, 0, 0, 0, 0, 0, 0, 0, 0, 0, 0, 0, 0, 0, 0, 0, 0, 0, 0, 0, 0, 0], [0, 0, 0, 0, 0, 0, 0, 0, 0, 0, 0, 0, 0, 0, 0, 0, 0, 0, 0, 0, 0, 0, 0, 0, 0, 0, 0, 0], [0, 0, 0, 0, 0, 0, 0, 0, 0, 0, 0, 0, 0, 0, 0, 0, 0, 0, 0, 0, 0, 0, 0, 0, 0, 0, 0, 0], [0, 0, 0, 0, 0, 0, 0, 0, 0, 0, 0, 0, 0, 0, 0, 0, 0, 0, 0, 0, 0, 0, 0, 0, 0, 0, 0, 0], [0, 0, 0, 0, 0, 0, 0, 0, 0, 0, 0, 0, 0, 0, 0, 0, 0, 0, 0, 0, 0, 0, 0, 0, 0, 0, 0, 0], [0, 0, 0, 0, 0, 0, 0, 0, 0, 0, 0, 0, 0, 0, 0, 0, 0, 0, 0, 0, 0, 0, 0, 0, 0, 0, 0, 0], [0, 0, 0, 0, 0, 0, 0, 0, 0, 0, 0, 0, 0, 0, 0, 0, 0, 0, 0, 0, 0, 0, 0, 0, 0, 0, 0, 0], [0, 0, 0, 0, 0, 0, 0, 0, 0, 0, 0, 0, 0, 0, 0, 0, 0, 0, 0, 0, 0, 0, 0, 0, 0, 0, 0, 0], [0, 0, 0, 0, 0, 0, 0, 0, 0, 0, 0, 0, 0, 0, 0, 0, 0, 0, 0, 0, 0, 0, 0, 0, 0, 0, 0, 0], [0, 0, 0, 0, 0, 0, 0, 0, 0, 0, 0, 0, 0, 0, 0, 0, 0, 0, 0, 0, 0, 0, 0, 0, 0, 0, 0, 0], [0, 0, 0, 0, 0, 0, 0, 0, 0, 0, 0, 0, 0, 0, 0, 0, 0, 0, 0, 0, 0, 0, 0, 0, 0, 0, 0, 0], [0, 0, 0, 0, 0, 0, 0, 0, 0, 0, 0, 0, 0, 0, 0, 0, 0, 0, 0, 0, 0, 0, 0, 0, 0, 0, 0, 0], [0, 0, 0, 0, 0, 0, 0, 0, 0, 0, 0, 0, 0, 0, 0, 0, 0, 0, 0, 0, 0, 0, 0, 0, 0, 0, 0, 0], [0, 0, 0, 0, 0, 0, 0, 0, 0, 0, 0, 0, 0, 0, 0, 0, 0, 0, 0, 0, 0, 0, 0, 0, 0, 0, 0, 0], [0, 0, 0, 0, 0, 0, 0, 0, 0, 0, 0, 0, 0, 0, 0, 0, 0, 0, 0, 0, 0, 0, 0, 0, 0, 0, 0, 0], [0, 0, 0, 0, 0, 0, 0, 0, 0, 0, 0, 0, 0, 0, 0, 0, 0, 0, 0, 0, 0, 0, 0, 0, 0, 0, 0, 0]], [[233, 231, 228, 228, 229, 231, 232, 232, 232, 231, 234, 237, 240, 239, 236, 234, 234, 234, 235, 234, 234, 231, 228, 224, 223, 222, 222, 223], [236, 232, 229, 229, 231, 232, 233, 231, 230, 228, 232, 233, 236, 235, 234, 234, 235, 236, 236, 235, 234, 231, 228, 224, 223, 222, 222, 222], [237, 234, 232, 232, 233, 232, 231, 229, 229, 229, 231, 231, 232, 231, 232, 235, 237, 238, 237, 234, 233, 231, 228, 226, 224, 223, 222, 221], [237, 235, 234, 235, 236, 233, 231, 229, 229, 230, 231, 229, 228, 229, 232, 236, 239, 240, 238, 234, 232, 231, 229, 228, 226, 224, 223, 223], [237, 236, 237, 238, 238, 235, 232, 230, 230, 232, 231, 228, 228, 230, 234, 238, 241, 240, 237, 233, 231, 231, 231, 230, 228, 226, 225, 226], [239, 237, 238, 238, 238, 236, 233, 231, 231, 232, 231, 229, 229, 232, 237, 240, 242, 240, 237, 233, 231, 231, 231, 230, 229, 228, 228, 229], [240, 237, 237, 236, 236, 235, 233, 233, 232, 232, 231, 229, 230, 234, 238, 240, 241, 240, 237, 233, 231, 229, 229, 228, 229, 229, 229, 229], [237, 235, 233, 230, 229, 229, 230, 231, 233, 234, 233, 231, 231, 233, 236, 237, 237, 237, 236, 233, 230, 227, 227, 227, 228, 228, 228, 228], [234, 233, 229, 226, 225, 225, 227, 231, 236, 238, 236, 233, 230, 230, 231, 233, 235, 236, 236, 233, 230, 225, 225, 225, 226, 227, 226, 227], [233, 231, 228, 226, 224, 223, 226, 231, 239, 242, 241, 235, 231, 228, 228, 231, 233, 235, 235, 233, 229, 225, 226, 226, 226, 226, 226, 227], [234, 232, 230, 229, 228, 228, 229, 234, 241, 244, 243, 236, 231, 227, 227, 229, 233, 234, 233, 231, 228, 227, 226, 226, 225, 226, 227, 230], [236, 234, 233, 234, 235, 235, 235, 237, 241, 242, 241, 235, 230, 226, 227, 230, 233, 236, 233, 231, 227, 228, 228, 227, 226, 227, 229, 233], [234, 234, 235, 237, 239, 240, 240, 239, 239, 238, 236, 233, 229, 226, 226, 228, 231, 234, 232, 230, 226, 227, 227, 228, 228, 229, 233, 237], [234, 235, 237, 240, 242, 243, 243, 241, 238, 235, 231, 230, 229, 227, 226, 227, 229, 233, 232, 229, 225, 225, 227, 229, 231, 233, 236, 241], [236, 236, 238, 240, 243, 244, 243, 241, 236, 232, 230, 231, 232, 231, 230, 229, 230, 232, 229, 227, 223, 225, 227, 230, 233, 236, 239, 242], [239, 237, 238, 240, 242, 243, 242, 240, 234, 232, 231, 235, 238, 239, 238, 237, 236, 233, 229, 226, 223, 226, 228, 231, 234, 236, 238, 239], [240, 238, 239, 240, 242, 243, 241, 239, 234, 234, 235, 241, 245, 247, 247, 245, 241, 236, 230, 226, 225, 228, 229, 231, 233, 234, 236, 234], [239, 238, 240, 242, 243, 242, 240, 238, 236, 238, 241, 248, 251, 253, 251, 247, 243, 237, 231, 229, 228, 230, 230, 230, 231, 232, 232, 230], [238, 240, 243, 245, 245, 242, 240, 240, 240, 243, 246, 253, 253, 252, 247, 243, 240, 237, 234, 233, 232, 233, 231, 231, 231, 232, 231, 229], [237, 242, 247, 250, 248, 245, 242, 242, 244, 247, 251, 255, 253, 248, 240, 235, 233, 234, 235, 236, 235, 234, 231, 230, 231, 233, 234, 233], [237, 242, 247, 250, 248, 246, 245, 246, 248, 249, 252, 253, 250, 243, 234, 230, 229, 233, 236, 239, 238, 238, 234, 233, 234, 236, 237, 236], [233, 236, 242, 246, 246, 245, 245, 246, 248, 247, 250, 250, 248, 242, 235, 231, 230, 234, 237, 240, 239, 237, 233, 231, 232, 234, 237, 238], [228, 228, 232, 236, 239, 240, 241, 242, 243, 242, 245, 246, 246, 242, 237, 234, 233, 237, 240, 243, 242, 240, 235, 232, 230, 231, 232, 232], [223, 220, 223, 228, 233, 235, 236, 236, 236, 236, 239, 240, 243, 242, 240, 237, 236, 238, 241, 243, 242, 239, 233, 229, 226, 226, 227, 228], [224, 219, 220, 223, 228, 230, 231, 231, 229, 228, 230, 233, 237, 238, 239, 238, 237, 238, 239, 241, 239, 237, 232, 228, 226, 225, 225, 225], [230, 225, 224, 225, 227, 228, 229, 229, 228, 225, 225, 225, 228, 232, 236, 238, 237, 236, 235, 237, 235, 235, 232, 229, 227, 226, 226, 226], [237, 233, 230, 227, 226, 227, 228, 229, 227, 224, 221, 219, 222, 226, 233, 236, 236, 234, 233, 233, 233, 235, 234, 233, 231, 230, 228, 228], [241, 238, 234, 229, 226, 226, 227, 228, 227, 224, 222, 220, 222, 226, 231, 235, 236, 234, 232, 233, 235, 237, 238, 237, 236, 232, 229, 228]], [[14, 14, 14, 14, 14, 14, 14, 15, 14, 14, 13, 13, 14, 14, 14, 14, 13, 13, 13, 14, 15, 15, 14, 14, 13, 13, 12, 12], [14, 13, 13, 14, 14, 14, 15, 15, 15, 14, 14, 14, 14, 15, 15, 14, 14, 13, 13, 14, 14, 14, 14, 13, 13, 13, 12, 12], [14, 13, 13, 13, 14, 14, 15, 15, 15, 14, 14, 14, 14, 15, 15, 15, 15, 14, 13, 13, 14, 14, 14, 13, 13, 13, 12, 13], [14, 13, 13, 13, 14, 14, 14, 15, 15, 15, 14, 14, 14, 14, 15, 15, 15, 14, 13, 13, 13, 14, 14, 13, 13, 13, 13, 13], [14, 14, 14, 14, 14, 14, 14, 15, 14, 14, 14, 14, 14, 14, 15, 15, 14, 14, 13, 13, 13, 14, 14, 14, 13, 13, 13, 13], [15, 14, 14, 14, 14, 14, 14, 15, 14, 14, 14, 14, 14, 14, 15, 15, 14, 14, 13, 13, 14, 15, 15, 14, 13, 13, 13, 13], [15, 14, 14, 13, 13, 14, 14, 15, 15, 14, 14, 14, 14, 14, 15, 15, 14, 14, 13, 13, 14, 15, 15, 14, 13, 13, 13, 13], [15, 14, 14, 13, 13, 14, 14, 15, 15, 15, 14, 14, 14, 14, 14, 15, 15, 14, 14, 14, 15, 15, 15, 14, 13, 13, 13, 13], [14, 14, 13, 13, 13, 13, 14, 15, 15, 15, 14, 13, 13, 13, 14, 14, 14, 15, 15, 15, 16, 16, 15, 14, 13, 13, 13, 13], [13, 13, 13, 13, 12, 13, 13, 14, 14, 14, 13, 13, 12, 13, 13, 14, 14, 15, 15, 15, 16, 16, 15, 14, 13, 13, 13, 13], [13, 13, 13, 12, 12, 12, 13, 13, 13, 13, 13, 12, 12, 12, 13, 13, 14, 15, 15, 15, 16, 16, 15, 14, 13, 13, 13, 14], [13, 13, 13, 13, 13, 12, 13, 13, 13, 13, 13, 12, 12, 12, 13, 14, 14, 15, 15, 15, 15, 15, 14, 13, 13, 13, 14, 14], [13, 13, 13, 13, 13, 13, 12, 12, 12, 12, 12, 12, 12, 12, 13, 14, 14, 14, 14, 14, 15, 15, 14, 13, 13, 13, 14, 15], [13, 13, 13, 13, 13, 13, 12, 12, 11, 11, 11, 12, 12, 12, 13, 14, 14, 14, 14, 14, 14, 14, 13, 13, 13, 14, 15, 15], [14, 13, 13, 13, 12, 12, 11, 10, 10, 10, 10, 11, 11, 12, 12, 13, 14, 14, 14, 14, 14, 14, 13, 14, 14, 15, 15, 15], [15, 14, 13, 13, 12, 11, 10, 9, 8, 8, 8, 9, 9, 10, 11, 12, 13, 14, 14, 14, 14, 14, 13, 14, 14, 15, 15, 15], [15, 15, 14, 13, 12, 10, 9, 8, 7, 7, 7, 7, 7, 8, 9, 11, 13, 14, 15, 15, 14, 14, 13, 13, 14, 15, 15, 15], [15, 15, 15, 13, 12, 11, 10, 8, 7, 7, 5, 5, 5, 6, 8, 10, 12, 14, 15, 15, 14, 13, 13, 13, 13, 14, 15, 14], [15, 15, 15, 15, 14, 12, 11, 9, 8, 7, 5, 5, 4, 5, 7, 10, 13, 15, 16, 15, 14, 13, 13, 13, 13, 13, 14, 14], [15, 16, 16, 16, 15, 14, 12, 11, 9, 7, 6, 5, 5, 6, 8, 10, 13, 16, 16, 16, 14, 13, 12, 12, 13, 13, 13, 14], [15, 16, 16, 17, 16, 15, 14, 12, 10, 9, 8, 7, 7, 8, 9, 12, 14, 16, 16, 16, 14, 13, 13, 12, 13, 13, 13, 14], [15, 15, 16, 16, 16, 15, 14, 13, 12, 11, 10, 9, 10, 11, 12, 14, 15, 16, 16, 16, 15, 13, 13, 13, 13, 13, 13, 14], [15, 14, 15, 15, 15, 15, 14, 13, 13, 12, 12, 12, 12, 13, 14, 15, 15, 16, 16, 16, 15, 14, 13, 13, 13, 13, 13, 14], [13, 13, 13, 14, 14, 14, 13, 13, 13, 13, 13, 13, 13, 14, 14, 15, 15, 15, 15, 15, 15, 14, 13, 13, 13, 13, 13, 13], [13, 12, 12, 13, 13, 13, 13, 13, 13, 13, 13, 13, 13, 13, 14, 14, 14, 15, 15, 15, 15, 14, 13, 13, 14, 14, 14, 14], [13, 13, 12, 13, 13, 13, 13, 14, 14, 13, 13, 13, 13, 13, 13, 13, 14, 14, 14, 14, 14, 13, 13, 13, 14, 14, 14, 14], [14, 13, 13, 13, 13, 14, 14, 14, 14, 14, 13, 13, 13, 13, 13, 13, 13, 13, 14, 14, 13, 13, 13, 13, 14, 14, 15, 15], [14, 14, 13, 13, 14, 14, 15, 15, 15, 14, 13, 13, 13, 13, 13, 13, 13, 13, 13, 13, 13, 13, 13, 13, 14, 14, 15, 15]], [[6, 6, 7, 7, 7, 7, 7, 7, 7, 7, 7, 7, 7, 6, 5, 5, 5, 6, 7, 7, 8, 8, 8, 8, 7, 7, 7, 6], [7, 7, 7, 7, 7, 6, 6, 6, 6, 7, 7, 7, 7, 6, 6, 5, 6, 6, 7, 7, 7, 8, 8, 7, 7, 6, 6, 6], [7, 7, 7, 7, 7, 7, 7, 6, 7, 7, 7, 7, 7, 6, 5, 5, 6, 7, 7, 7, 7, 8, 8, 7, 7, 6, 6, 6], [7, 6, 7, 7, 7, 7, 7, 7, 7, 7, 7, 7, 6, 6, 5, 5, 6, 7, 7, 7, 8, 7, 7, 7, 7, 6, 6, 6], [7, 7, 7, 7, 7, 8, 8, 8, 8, 7, 7, 7, 5, 5, 4, 5, 5, 7, 7, 8, 8, 8, 7, 7, 7, 7, 6, 6], [7, 7, 7, 7, 7, 7, 8, 8, 8, 7, 7, 6, 4, 4, 4, 4, 5, 6, 7, 7, 8, 8, 7, 7, 7, 7, 6, 6], [7, 7, 7, 7, 7, 7, 7, 8, 7, 7, 6, 5, 4, 3, 3, 4, 5, 5, 6, 7, 7, 7, 7, 7, 7, 7, 6, 6], [8, 7, 7, 7, 6, 7, 7, 7, 7, 6, 5, 4, 3, 3, 3, 4, 4, 5, 6, 7, 7, 7, 7, 6, 6, 6, 6, 6], [8, 8, 7, 7, 7, 6, 6, 6, 6, 6, 5, 4, 4, 3, 4, 4, 5, 5, 6, 6, 7, 7, 6, 6, 6, 6, 6, 7], [8, 8, 8, 7, 7, 6, 6, 6, 6, 6, 5, 5, 5, 5, 5, 5, 5, 6, 6, 7, 7, 6, 6, 6, 6, 6, 7, 7], [8, 8, 8, 8, 7, 7, 6, 6, 6, 6, 6, 6, 6, 6, 6, 6, 6, 6, 7, 7, 7, 7, 6, 6, 6, 6, 7, 7], [8, 8, 8, 8, 7, 7, 6, 6, 6, 6, 7, 7, 6, 6, 6, 7, 7, 7, 7, 7, 7, 7, 7, 6, 6, 6, 7, 7], [7, 8, 7, 7, 7, 7, 7, 6, 6, 7, 7, 7, 7, 7, 7, 7, 7, 8, 8, 8, 8, 8, 7, 7, 6, 7, 7, 7], [7, 7, 7, 7, 7, 7, 7, 7, 7, 7, 7, 7, 7, 7, 7, 8, 8, 9, 10, 10, 9, 9, 8, 7, 7, 7, 7, 7], [7, 7, 6, 6, 6, 7, 7, 7, 7, 7, 7, 7, 7, 8, 8, 9, 10, 10, 10, 10, 10, 9, 8, 7, 7, 7, 7, 7], [6, 6, 6, 6, 6, 6, 6, 7, 7, 7, 6, 6, 7, 8, 10, 10, 10, 11, 10, 10, 10, 9, 8, 7, 7, 7, 7, 7], [6, 5, 5, 5, 5, 5, 5, 6, 6, 6, 5, 6, 7, 9, 10, 11, 11, 11, 10, 10, 9, 8, 8, 7, 7, 7, 8, 8], [6, 5, 5, 4, 4, 4, 4, 5, 5, 4, 4, 5, 6, 8, 10, 10, 10, 10, 10, 9, 9, 8, 8, 8, 8, 8, 8, 8], [6, 6, 5, 4, 4, 3, 3, 3, 3, 3, 3, 4, 5, 7, 9, 9, 9, 9, 9, 8, 8, 8, 8, 8, 8, 8, 8, 8], [6, 7, 5, 4, 3, 2, 2, 2, 2, 2, 2, 3, 5, 7, 8, 8, 8, 8, 8, 8, 8, 8, 8, 8, 8, 8, 8, 7], [6, 7, 6, 5, 3, 2, 2, 2, 2, 2, 2, 3, 5, 6, 7, 7, 7, 8, 8, 7, 7, 7, 7, 8, 8, 7, 7, 7], [6, 7, 7, 5, 4, 4, 3, 3, 3, 3, 3, 4, 5, 6, 7, 7, 7, 8, 7, 7, 7, 6, 7, 7, 7, 7, 7, 6], [6, 7, 7, 6, 5, 5, 5, 5, 4, 4, 5, 5, 6, 7, 7, 7, 8, 8, 8, 7, 7, 6, 6, 7, 7, 7, 7, 7], [6, 6, 7, 7, 7, 6, 6, 6, 6, 5, 6, 7, 7, 7, 7, 7, 8, 8, 8, 8, 7, 7, 7, 7, 7, 7, 7, 7], [6, 6, 6, 7, 7, 7, 7, 7, 7, 7, 7, 7, 7, 7, 7, 7, 8, 8, 8, 8, 7, 7, 7, 7, 7, 7, 7, 7], [6, 6, 7, 7, 7, 8, 8, 7, 7, 7, 7, 7, 7, 7, 7, 7, 8, 8, 8, 7, 7, 7, 7, 8, 8, 7, 7, 7], [7, 7, 7, 7, 7, 8, 8, 7, 7, 7, 7, 7, 7, 7, 7, 7, 7, 7, 7, 7, 7, 7, 7, 8, 8, 7, 7, 7], [7, 7, 7, 7, 7, 7, 7, 7, 7, 7, 7, 6, 7, 7, 7, 7, 7, 7, 7, 6, 6, 7, 7, 7, 7, 7, 6, 6]], [[4, 5, 5, 5, 5, 4, 4, 4, 4, 4, 4, 4, 4, 4, 4, 4, 4, 5, 5, 5, 5, 5, 5, 5, 4, 4, 4, 4], [4, 4, 4, 4, 4, 4, 4, 4, 4, 4, 4, 4, 4, 4, 4, 4, 5, 5, 5, 5, 5, 5, 5, 5, 4, 4, 4, 4], [4, 4, 4, 4, 4, 4, 4, 4, 4, 4, 4, 5, 4, 4, 4, 4, 4, 5, 5, 5, 5, 5, 5, 5, 4, 4, 4, 4], [5, 4, 4, 4, 5, 4, 4, 4, 4, 4, 4, 5, 4, 4, 4, 4, 4, 5, 5, 5, 5, 5, 5, 5, 5, 4, 4, 4], [5, 5, 5, 5, 5, 5, 4, 4, 4, 4, 4, 4, 4, 4, 4, 4, 4, 4, 5, 5, 5, 6, 5, 5, 5, 5, 4, 4], [5, 5, 5, 5, 5, 5, 5, 5, 5, 5, 4, 4, 4, 4, 4, 4, 4, 4, 5, 5, 6, 6, 6, 5, 5, 5, 4, 4], [5, 5, 5, 5, 5, 5, 5, 5, 5, 5, 5, 4, 4, 4, 4, 4, 4, 4, 5, 5, 6, 6, 6, 6, 5, 5, 5, 4], [5, 5, 5, 5, 4, 4, 5, 5, 5, 5, 5, 5, 4, 4, 4, 4, 4, 4, 5, 5, 6, 6, 6, 6, 5, 5, 5, 5], [5, 5, 5, 4, 4, 4, 4, 5, 5, 5, 5, 5, 4, 4, 4, 4, 4, 4, 4, 5, 5, 6, 6, 5, 5, 5, 5, 5], [5, 5, 4, 4, 4, 4, 4, 5, 5, 5, 5, 5, 4, 4, 4, 4, 4, 4, 4, 4, 4, 5, 5, 5, 5, 5, 5, 5], [5, 5, 4, 4, 4, 4, 4, 5, 5, 5, 5, 5, 4, 4, 4, 4, 4, 4, 4, 4, 4, 4, 5, 5, 5, 5, 5, 5], [5, 5, 4, 4, 4, 4, 4, 4, 5, 5, 5, 5, 4, 4, 4, 4, 4, 4, 3, 3, 3, 4, 4, 5, 5, 5, 5, 5], [5, 4, 4, 4, 5, 5, 4, 4, 4, 5, 5, 4, 4, 4, 4, 4, 4, 4, 3, 3, 3, 3, 4, 4, 5, 5, 5, 5], [5, 4, 4, 4, 4, 4, 4, 4, 4, 4, 4, 4, 4, 4, 4, 4, 4, 3, 3, 3, 3, 3, 4, 4, 5, 5, 5, 5], [5, 4, 4, 4, 4, 4, 4, 4, 4, 4, 4, 4, 4, 4, 3, 3, 3, 3, 3, 3, 3, 3, 4, 5, 5, 5, 5, 5], [4, 4, 4, 4, 4, 4, 4, 4, 4, 4, 4, 3, 3, 3, 3, 3, 3, 3, 3, 3, 4, 4, 4, 5, 5, 5, 5, 5], [5, 4, 4, 4, 4, 4, 4, 4, 3, 3, 3, 3, 2, 2, 2, 3, 3, 3, 4, 4, 4, 4, 4, 5, 5, 5, 5, 5], [5, 4, 4, 4, 3, 3, 3, 3, 3, 3, 3, 2, 2, 2, 2, 3, 3, 4, 4, 4, 4, 4, 4, 5, 5, 5, 5, 5], [5, 4, 4, 4, 4, 3, 3, 4, 3, 3, 3, 2, 2, 2, 2, 3, 4, 4, 4, 4, 4, 4, 4, 5, 5, 5, 5, 5], [5, 5, 4, 4, 4, 4, 4, 4, 4, 3, 3, 3, 3, 3, 3, 3, 4, 4, 4, 4, 4, 4, 4, 4, 5, 5, 5, 5], [5, 5, 5, 4, 4, 4, 4, 4, 4, 4, 4, 4, 4, 4, 4, 4, 4, 5, 5, 5, 4, 4, 4, 4, 5, 5, 5, 5], [5, 5, 5, 5, 5, 4, 4, 4, 4, 4, 4, 4, 4, 4, 4, 4, 5, 5, 5, 5, 4, 4, 4, 4, 4, 5, 5, 5], [5, 5, 5, 5, 5, 5, 5, 4, 4, 4, 4, 4, 5, 5, 5, 5, 5, 5, 5, 5, 5, 5, 5, 5, 5, 5, 5, 5], [5, 5, 5, 5, 5, 5, 5, 5, 4, 4, 4, 4, 5, 5, 5, 5, 5, 5, 5, 5, 5, 5, 5, 5, 4, 5, 5, 5], [5, 5, 5, 5, 5, 5, 5, 5, 4, 4, 4, 4, 5, 5, 5, 5, 5, 5, 5, 4, 5, 5, 5, 5, 4, 4, 5, 5], [5, 5, 4, 4, 5, 5, 5, 5, 5, 4, 4, 4, 4, 5, 5, 5, 5, 5, 5, 4, 4, 4, 4, 4, 4, 4, 4, 5], [5, 5, 4, 4, 5, 5, 5, 5, 5, 5, 4, 4, 4, 4, 5, 5, 5, 5, 5, 4, 4, 4, 4, 4, 4, 4, 5, 5], [5, 5, 4, 4, 4, 5, 5, 5, 5, 5, 4, 4, 4, 4, 5, 5, 5, 5, 5, 4, 4, 4, 4, 4, 4, 4, 5, 5]], [[5, 4, 4, 4, 5, 5, 5, 5, 4, 4, 4, 4, 5, 5, 5, 5, 5, 5, 5, 5, 5, 5, 5, 5, 5, 5, 4, 4], [5, 4, 4, 4, 5, 5, 5, 5, 4, 4, 4, 4, 5, 5, 5, 5, 5, 5, 5, 5, 5, 5, 5, 5, 5, 5, 4, 4], [5, 5, 4, 4, 5, 5, 5, 5, 5, 5, 4, 4, 4, 4, 4, 5, 5, 5, 5, 5, 5, 5, 5, 5, 5, 5, 4, 4], [5, 5, 4, 4, 5, 5, 5, 5, 5, 5, 4, 4, 4, 4, 4, 4, 5, 5, 5, 5, 5, 5, 5, 5, 5, 4, 4, 4], [5, 5, 5, 5, 5, 5, 5, 5, 5, 5, 4, 4, 4, 3, 4, 4, 5, 5, 5, 6, 5, 5, 5, 5, 5, 4, 4, 4], [5, 5, 5, 5, 5, 5, 5, 5, 5, 5, 4, 4, 3, 3, 3, 4, 4, 5, 5, 6, 5, 5, 5, 4, 4, 4, 5, 5], [5, 5, 5, 5, 5, 5, 5, 5, 5, 4, 4, 3, 3, 2, 3, 4, 4, 5, 5, 5, 5, 4, 4, 4, 4, 5, 5, 5], [5, 5, 5, 5, 5, 5, 5, 5, 4, 4, 4, 3, 2, 2, 3, 3, 4, 4, 4, 4, 4, 4, 4, 4, 4, 5, 5, 5], [5, 5, 5, 5, 5, 5, 4, 4, 4, 4, 4, 3, 3, 3, 3, 3, 4, 4, 4, 4, 3, 3, 3, 4, 4, 5, 5, 5], [5, 5, 5, 5, 5, 5, 4, 4, 4, 4, 4, 4, 4, 3, 4, 4, 4, 4, 3, 3, 3, 3, 3, 4, 4, 5, 5, 5], [5, 5, 5, 5, 5, 5, 4, 4, 4, 4, 4, 4, 4, 4, 4, 4, 4, 4, 4, 3, 3, 3, 3, 4, 4, 5, 5, 5], [5, 5, 5, 5, 5, 5, 4, 4, 4, 4, 4, 4, 4, 4, 4, 4, 4, 4, 4, 4, 4, 4, 4, 4, 4, 5, 5, 5], [5, 5, 5, 5, 5, 5, 5, 5, 5, 5, 5, 5, 5, 4, 4, 4, 4, 4, 4, 5, 5, 5, 5, 5, 5, 5, 5, 5], [5, 4, 4, 4, 4, 5, 5, 5, 5, 5, 5, 5, 5, 5, 4, 4, 4, 4, 5, 5, 5, 5, 5, 5, 5, 5, 5, 5], [4, 4, 4, 4, 4, 4, 5, 5, 5, 5, 5, 5, 5, 5, 4, 4, 4, 4, 5, 5, 5, 5, 5, 5, 5, 5, 5, 5], [4, 4, 4, 3, 3, 4, 4, 5, 5, 6, 5, 5, 5, 5, 5, 4, 4, 5, 5, 5, 5, 5, 5, 5, 5, 5, 5, 5], [4, 4, 3, 3, 3, 3, 4, 5, 5, 5, 5, 5, 5, 5, 5, 5, 5, 5, 5, 5, 5, 5, 5, 5, 5, 5, 5, 5], [4, 4, 3, 2, 2, 2, 3, 4, 5, 5, 5, 5, 5, 5, 5, 5, 5, 5, 5, 5, 5, 5, 5, 5, 5, 5, 5, 5], [4, 4, 3, 2, 2, 2, 2, 3, 4, 5, 5, 5, 5, 5, 5, 5, 5, 5, 5, 5, 5, 5, 5, 5, 5, 5, 5, 5], [4, 4, 3, 2, 1, 1, 2, 2, 4, 5, 5, 5, 5, 5, 5, 5, 5, 5, 5, 5, 5, 5, 5, 5, 5, 5, 5, 5], [4, 4, 3, 2, 2, 2, 2, 3, 4, 5, 5, 6, 6, 6, 6, 6, 6, 6, 5, 5, 5, 5, 5, 5, 5, 5, 5, 5], [4, 4, 4, 3, 2, 2, 2, 3, 4, 5, 5, 6, 6, 6, 5, 5, 6, 6, 5, 5, 5, 5, 5, 5, 5, 5, 5, 5], [4, 4, 4, 3, 3, 3, 4, 4, 4, 5, 5, 5, 5, 5, 5, 5, 5, 6, 5, 5, 5, 5, 5, 5, 5, 5, 5, 5], [5, 4, 4, 4, 4, 4, 4, 5, 5, 5, 5, 5, 5, 5, 5, 5, 5, 5, 5, 5, 5, 5, 5, 5, 5, 5, 5, 5], [5, 4, 4, 4, 4, 5, 5, 5, 5, 5, 5, 5, 5, 5, 5, 5, 5, 5, 5, 5, 5, 5, 5, 5, 5, 5, 5, 5], [5, 4, 4, 4, 4, 5, 5, 5, 5, 5, 5, 4, 5, 5, 5, 5, 5, 5, 5, 5, 4, 4, 5, 5, 5, 5, 5, 5], [5, 4, 4, 4, 4, 4, 5, 5, 5, 4, 4, 4, 4, 5, 5, 5, 5, 5, 5, 4, 4, 4, 5, 5, 5, 5, 5, 5], [5, 5, 4, 4, 4, 4, 4, 4, 4, 4, 4, 4, 4, 5, 5, 5, 5, 5, 5, 5, 4, 5, 5, 5, 5, 5, 5, 5]], [[0, 0, 0, 0, 0, 0, 0, 0, 0, 0, 0, 0, 0, 0, 0, 0, 0, 0, 0, 0, 0, 0, 0, 0, 0, 0, 0, 0], [0, 0, 0, 0, 0, 0, 0, 0, 0, 0, 0, 0, 0, 0, 0, 0, 0, 0, 0, 0, 0, 0, 0, 0, 0, 0, 0, 0], [0, 0, 0, 0, 0, 0, 0, 0, 0, 0, 0, 0, 0, 0, 0, 0, 0, 0, 0, 0, 0, 0, 0, 0, 0, 0, 0, 0], [0, 0, 0, 0, 0, 0, 0, 0, 0, 0, 0, 0, 0, 0, 0, 0, 0, 0, 0, 0, 0, 0, 0, 0, 0, 0, 0, 0], [0, 0, 0, 0, 0, 0, 0, 0, 0, 0, 0, 0, 0, 0, 0, 0, 0, 0, 0, 0, 0, 0, 0, 0, 0, 0, 0, 0], [0, 0, 0, 0, 0, 0, 0, 0, 0, 0, 0, 0, 0, 0, 0, 0, 0, 0, 0, 0, 0, 0, 0, 0, 0, 0, 0, 0], [0, 0, 0, 0, 0, 0, 0, 0, 0, 0, 0, 0, 0, 0, 0, 0, 0, 0, 0, 0, 0, 0, 0, 0, 0, 0, 0, 0], [0, 0, 0, 0, 0, 0, 0, 0, 0, 0, 0, 0, 0, 0, 0, 0, 0, 0, 0, 0, 0, 0, 0, 0, 0, 0, 0, 0], [0, 0, 0, 0, 0, 0, 0, 0, 0, 0, 0, 0, 0, 0, 0, 0, 0, 0, 0, 0, 0, 0, 0, 0, 0, 0, 0, 0], [0, 0, 0, 0, 0, 0, 0, 0, 0, 0, 0, 0, 0, 0, 0, 0, 0, 0, 0, 0, 0, 0, 0, 0, 0, 0, 0, 0], [0, 0, 0, 0, 0, 0, 0, 0, 0, 0, 0, 0, 0, 0, 0, 0, 0, 0, 0, 0, 1, 1, 0, 0, 0, 0, 0, 0], [0, 0, 0, 0, 0, 0, 0, 0, 0, 0, 0, 0, 0, 0, 0, 0, 0, 0, 1, 1, 1, 1, 0, 0, 0, 0, 0, 0], [0, 0, 0, 0, 0, 0, 0, 0, 0, 0, 0, 0, 0, 0, 0, 0, 0, 1, 1, 1, 1, 1, 0, 0, 0, 0, 0, 0], [0, 0, 0, 0, 0, 0, 0, 0, 0, 0, 0, 0, 0, 0, 0, 0, 0, 1, 1, 1, 1, 1, 0, 0, 0, 0, 0, 0], [0, 0, 0, 0, 0, 0, 0, 0, 0, 0, 0, 0, 0, 0, 0, 0, 1, 1, 1, 1, 1, 0, 0, 0, 0, 0, 0, 0], [0, 0, 0, 0, 0, 0, 0, 0, 0, 0, 0, 0, 0, 0, 0, 0, 0, 1, 1, 1, 1, 0, 0, 0, 0, 0, 0, 0], [0, 0, 0, 0, 0, 0, 0, 0, 0, 0, 0, 0, 0, 0, 0, 0, 0, 0, 1, 0, 0, 0, 0, 0, 0, 0, 0, 0], [0, 0, 0, 0, 0, 0, 0, 0, 0, 0, 0, 0, 0, 0, 0, 0, 0, 0, 0, 0, 0, 0, 0, 0, 0, 0, 0, 0], [0, 0, 0, 0, 0, 0, 0, 0, 0, 0, 0, 0, 0, 0, 0, 0, 0, 0, 0, 0, 0, 0, 0, 0, 0, 0, 0, 0], [0, 0, 0, 0, 0, 0, 0, 0, 0, 0, 0, 0, 0, 0, 0, 0, 0, 0, 0, 0, 0, 0, 0, 0, 0, 0, 0, 0], [0, 0, 0, 0, 0, 0, 0, 0, 0, 0, 0, 0, 0, 0, 0, 0, 0, 0, 0, 0, 0, 0, 0, 0, 0, 0, 0, 0], [0, 0, 0, 0, 0, 0, 0, 0, 0, 0, 0, 0, 0, 0, 0, 0, 0, 0, 0, 0, 0, 0, 0, 0, 0, 0, 0, 0], [0, 0, 0, 0, 0, 0, 0, 0, 0, 0, 0, 0, 0, 0, 0, 0, 0, 0, 0, 0, 0, 0, 0, 0, 0, 0, 0, 0], [0, 0, 0, 0, 0, 0, 0, 0, 0, 0, 0, 0, 0, 0, 0, 0, 0, 0, 0, 0, 0, 0, 0, 0, 0, 0, 0, 0], [0, 0, 0, 0, 0, 0, 0, 0, 0, 0, 0, 0, 0, 0, 0, 0, 0, 0, 0, 0, 0, 0, 0, 0, 0, 0, 0, 0], [0, 0, 0, 0, 0, 0, 0, 0, 0, 0, 0, 0, 0, 0, 0, 0, 0, 0, 0, 0, 0, 0, 0, 0, 0, 0, 0, 0], [0, 0, 0, 0, 0, 0, 0, 0, 0, 0, 0, 0, 0, 0, 0, 0, 0, 0, 0, 0, 0, 0, 0, 0, 0, 0, 0, 0], [0, 0, 0, 0, 0, 0, 0, 0, 0, 0, 0, 0, 0, 0, 0, 0, 0, 0, 0, 0, 0, 0, 0, 0, 0, 0, 0, 0]], [[3, 3, 3, 3, 3, 3, 3, 3, 4, 4, 4, 4, 4, 4, 4, 3, 3, 3, 3, 4, 4, 4, 4, 3, 3, 3, 3, 3], [3, 3, 3, 3, 3, 4, 4, 4, 4, 4, 4, 4, 4, 3, 3, 3, 3, 3, 3, 3, 4, 4, 3, 3, 3, 3, 3, 3], [3, 3, 3, 3, 4, 4, 4, 4, 4, 3, 3, 3, 4, 4, 3, 3, 3, 3, 4, 4, 4, 4, 3, 3, 3, 3, 3, 3], [3, 3, 3, 3, 4, 4, 4, 4, 4, 3, 3, 3, 4, 4, 4, 4, 4, 4, 4, 4, 4, 4, 4, 3, 3, 3, 3, 3], [3, 3, 3, 3, 3, 3, 3, 3, 3, 3, 3, 4, 4, 4, 4, 4, 4, 4, 4, 4, 4, 4, 4, 4, 3, 3, 3, 3], [4, 3, 3, 3, 3, 3, 3, 3, 3, 3, 4, 4, 4, 4, 4, 4, 4, 4, 4, 4, 4, 4, 4, 4, 4, 3, 3, 3], [4, 3, 3, 3, 3, 3, 3, 3, 3, 3, 4, 4, 4, 4, 4, 4, 4, 4, 4, 4, 4, 4, 4, 4, 4, 3, 3, 3], [4, 3, 3, 3, 3, 3, 3, 3, 3, 3, 3, 3, 3, 3, 4, 4, 4, 4, 4, 4, 4, 4, 4, 4, 4, 4, 3, 3], [3, 3, 3, 3, 3, 3, 3, 3, 3, 3, 3, 3, 3, 3, 3, 3, 4, 4, 4, 4, 4, 4, 4, 4, 4, 4, 4, 4], [3, 3, 3, 3, 3, 3, 3, 3, 3, 3, 3, 3, 3, 3, 3, 3, 3, 3, 4, 4, 4, 4, 4, 4, 4, 4, 4, 4], [3, 3, 3, 3, 3, 3, 3, 3, 3, 3, 4, 4, 3, 3, 3, 3, 3, 3, 4, 4, 4, 4, 4, 4, 4, 4, 4, 4], [3, 3, 3, 3, 3, 3, 3, 3, 3, 4, 4, 4, 4, 4, 4, 3, 3, 3, 4, 4, 4, 4, 4, 4, 4, 4, 4, 4], [3, 3, 3, 3, 3, 3, 3, 3, 3, 3, 4, 4, 4, 4, 4, 4, 4, 4, 4, 4, 4, 4, 4, 4, 4, 4, 4, 4], [3, 3, 3, 3, 3, 3, 3, 3, 3, 3, 4, 4, 4, 4, 4, 4, 4, 3, 4, 4, 4, 4, 4, 4, 4, 4, 4, 4], [3, 3, 3, 3, 2, 2, 2, 2, 2, 3, 3, 4, 4, 4, 4, 4, 3, 3, 3, 3, 4, 4, 4, 4, 4, 4, 4, 4], [3, 3, 3, 2, 2, 2, 2, 2, 2, 3, 3, 4, 4, 4, 4, 3, 3, 3, 3, 3, 3, 3, 4, 4, 4, 4, 4, 4], [3, 3, 2, 2, 2, 1, 2, 2, 2, 3, 3, 3, 3, 3, 3, 3, 3, 2, 2, 3, 3, 3, 3, 4, 4, 4, 4, 4], [3, 3, 2, 2, 1, 1, 1, 2, 2, 3, 3, 3, 3, 3, 3, 2, 2, 2, 2, 2, 3, 3, 4, 4, 4, 4, 4, 4], [3, 3, 2, 2, 1, 1, 1, 2, 2, 3, 3, 3, 3, 2, 2, 2, 2, 2, 2, 3, 3, 4, 4, 4, 4, 4, 4, 4], [3, 3, 2, 2, 1, 1, 2, 2, 2, 3, 3, 3, 2, 2, 2, 2, 2, 2, 3, 3, 4, 4, 4, 4, 4, 4, 3, 3], [3, 3, 3, 2, 2, 2, 2, 2, 3, 3, 3, 3, 3, 2, 2, 2, 3, 3, 3, 3, 4, 4, 4, 4, 4, 3, 3, 3], [3, 3, 3, 2, 2, 2, 2, 3, 3, 3, 3, 3, 3, 3, 3, 3, 3, 3, 3, 4, 4, 4, 4, 4, 3, 3, 3, 4], [3, 3, 3, 3, 3, 3, 3, 3, 3, 3, 3, 3, 3, 3, 3, 3, 3, 3, 3, 4, 4, 4, 4, 4, 3, 3, 3, 4], [3, 3, 3, 3, 3, 3, 3, 3, 3, 3, 3, 4, 4, 4, 4, 4, 3, 3, 3, 4, 4, 4, 4, 4, 4, 3, 3, 4], [3, 3, 3, 4, 4, 4, 4, 3, 3, 3, 4, 4, 4, 4, 4, 4, 4, 3, 3, 4, 4, 4, 4, 4, 4, 3, 3, 3], [3, 3, 3, 4, 4, 4, 4, 4, 3, 4, 4, 4, 4, 4, 4, 4, 4, 4, 4, 4, 4, 4, 4, 4, 4, 4, 3, 3], [4, 4, 4, 4, 4, 4, 4, 4, 4, 4, 4, 3, 3, 3, 4, 4, 4, 4, 4, 4, 3, 4, 4, 4, 4, 4, 4, 3], [4, 4, 4, 4, 4, 4, 4, 4, 4, 4, 4, 3, 3, 3, 4, 4, 4, 4, 4, 4, 3, 4, 4, 4, 4, 4, 4, 3]], [[1, 1, 1, 1, 1, 1, 1, 1, 1, 1, 1, 1, 1, 1, 1, 1, 1, 1, 1, 1, 1, 1, 1, 1, 1, 1, 1, 1], [1, 1, 1, 1, 1, 1, 1, 1, 1, 1, 1, 1, 1, 1, 1, 1, 1, 1, 1, 1, 1, 1, 1, 1, 1, 1, 1, 1], [1, 1, 1, 1, 1, 1, 1, 1, 1, 1, 1, 1, 1, 1, 1, 1, 1, 1, 1, 1, 1, 1, 1, 1, 1, 1, 1, 1], [1, 1, 1, 1, 1, 1, 1, 1, 1, 1, 1, 1, 1, 1, 1, 1, 1, 1, 1, 1, 1, 1, 1, 1, 1, 1, 1, 1], [1, 1, 1, 1, 1, 1, 1, 1, 1, 1, 1, 1, 1, 1, 1, 1, 1, 1, 1, 1, 1, 1, 1, 1, 1, 1, 1, 1], [1, 1, 1, 1, 1, 1, 1, 1, 1, 1, 1, 1, 1, 1, 1, 1, 1, 1, 1, 1, 1, 1, 1, 1, 1, 1, 1, 1], [1, 1, 1, 1, 1, 1, 1, 1, 1, 1, 1, 1, 1, 1, 1, 1, 1, 1, 1, 1, 1, 1, 1, 1, 1, 1, 1, 1], [1, 1, 1, 1, 1, 1, 1, 1, 1, 1, 1, 1, 1, 1, 1, 1, 1, 1, 1, 1, 1, 1, 1, 1, 1, 1, 1, 1], [1, 1, 1, 1, 1, 1, 1, 1, 1, 1, 1, 1, 1, 1, 1, 1, 1, 1, 1, 1, 1, 1, 1, 1, 1, 1, 1, 1], [1, 1, 1, 1, 1, 1, 1, 1, 1, 1, 1, 1, 1, 1, 1, 1, 1, 1, 1, 1, 1, 1, 1, 1, 1, 1, 1, 1], [1, 1, 1, 1, 1, 1, 1, 1, 1, 1, 1, 1, 1, 1, 1, 1, 1, 1, 1, 1, 1, 1, 1, 1, 1, 1, 1, 1], [1, 1, 1, 1, 1, 1, 1, 1, 1, 1, 1, 1, 1, 1, 1, 1, 1, 1, 1, 1, 1, 1, 1, 1, 1, 1, 1, 1], [1, 1, 1, 1, 1, 1, 1, 1, 1, 1, 1, 1, 1, 1, 1, 1, 1, 1, 1, 1, 1, 1, 1, 1, 1, 1, 1, 1], [1, 1, 1, 1, 1, 1, 1, 1, 1, 1, 1, 1, 1, 1, 1, 1, 1, 1, 1, 1, 1, 1, 1, 1, 1, 1, 1, 1], [1, 1, 1, 1, 1, 1, 1, 1, 1, 1, 1, 1, 1, 1, 1, 1, 1, 1, 1, 1, 1, 1, 1, 1, 1, 1, 1, 1], [1, 1, 1, 1, 1, 1, 1, 1, 1, 1, 1, 1, 1, 1, 1, 1, 1, 1, 1, 1, 1, 1, 1, 1, 1, 1, 1, 1], [1, 1, 1, 1, 1, 1, 1, 1, 1, 1, 1, 1, 1, 1, 1, 1, 1, 1, 1, 1, 1, 1, 1, 1, 1, 1, 1, 1], [1, 1, 1, 1, 1, 1, 1, 1, 1, 1, 1, 1, 1, 1, 1, 1, 1, 1, 1, 1, 1, 1, 1, 1, 1, 1, 1, 1], [1, 1, 1, 1, 0, 0, 1, 1, 1, 1, 1, 1, 1, 1, 1, 1, 1, 1, 1, 1, 1, 1, 1, 1, 1, 1, 1, 1], [1, 1, 1, 1, 0, 0, 0, 0, 1, 0, 0, 0, 1, 1, 1, 1, 1, 1, 1, 1, 1, 1, 1, 1, 1, 1, 1, 1], [1, 1, 1, 1, 1, 1, 0, 0, 0, 0, 0, 0, 1, 1, 1, 1, 1, 1, 1, 1, 1, 1, 1, 1, 1, 1, 1, 1], [1, 1, 1, 1, 1, 1, 1, 1, 1, 1, 1, 1, 1, 1, 1, 1, 1, 1, 1, 1, 1, 1, 1, 1, 1, 1, 1, 1], [1, 1, 1, 1, 1, 1, 1, 1, 1, 1, 1, 1, 1, 1, 1, 1, 1, 1, 1, 1, 1, 1, 1, 1, 1, 1, 1, 1], [1, 1, 1, 1, 1, 1, 1, 1, 1, 1, 1, 1, 1, 1, 1, 1, 1, 1, 1, 1, 1, 1, 1, 1, 1, 1, 1, 1], [1, 1, 1, 1, 1, 1, 1, 1, 1, 1, 1, 1, 1, 1, 1, 1, 1, 1, 1, 1, 1, 1, 1, 1, 1, 1, 1, 1], [1, 1, 1, 1, 1, 1, 1, 1, 1, 1, 1, 1, 1, 1, 1, 1, 1, 1, 1, 1, 1, 1, 1, 1, 1, 1, 1, 1], [1, 1, 1, 1, 1, 1, 1, 1, 1, 1, 1, 1, 1, 1, 1, 1, 1, 1, 1, 1, 1, 1, 1, 1, 1, 1, 1, 1], [1, 1, 1, 1, 1, 1, 1, 1, 1, 1, 1, 1, 1, 1, 1, 1, 1, 1, 1, 1, 1, 1, 1, 1, 1, 1, 1, 1]]]'},\n",
       " 'started_at': 'Tue, 30 Jul 2019 12:13:45 GMT'}"
      ]
     },
     "execution_count": 79,
     "metadata": {},
     "output_type": "execute_result"
    }
   ],
   "source": [
    "import json\n",
    "import ast\n",
    "\n",
    "result_id = requests.get(redirect_url).json()['result']\n",
    "result = requests.get(f\"http://localhost/rootcause/fetch_result/rise/{result_id}\")\n",
    "result_response = result.json()\n",
    "result_response"
   ]
  },
  {
   "cell_type": "code",
   "execution_count": 80,
   "metadata": {},
   "outputs": [],
   "source": [
    "masks = np.array(ast.literal_eval(result_response['result']['masks']))"
   ]
  },
  {
   "cell_type": "markdown",
   "metadata": {},
   "source": [
    "Masks is an array of shape (number of classes, width, heigh). It can be seen as a collection of masks of shape (width, height), one for each class, which show which parts of images activate that particular class."
   ]
  },
  {
   "cell_type": "code",
   "execution_count": 81,
   "metadata": {},
   "outputs": [
    {
     "data": {
      "text/plain": [
       "(10, 28, 28)"
      ]
     },
     "execution_count": 81,
     "metadata": {},
     "output_type": "execute_result"
    }
   ],
   "source": [
    "masks.shape "
   ]
  },
  {
   "cell_type": "code",
   "execution_count": 94,
   "metadata": {},
   "outputs": [
    {
     "data": {
      "text/plain": [
       "<matplotlib.image.AxesImage at 0x122c2b1d0>"
      ]
     },
     "execution_count": 94,
     "metadata": {},
     "output_type": "execute_result"
    },
    {
     "data": {
      "image/png": "[encoded data removed]",
      "text/plain": [
       "<Figure size 432x288 with 1 Axes>"
      ]
     },
     "metadata": {
      "needs_background": "light"
     },
     "output_type": "display_data"
    }
   ],
   "source": [
    "request = rs_client.get(str(folder), ts, uid).entries[0].request\n",
    "x = mnist_model.contract.decode_request(request)['input']\n",
    "# Original image from reqstore\n",
    "plt.imshow(x[0])"
   ]
  },
  {
   "cell_type": "code",
   "execution_count": 116,
   "metadata": {},
   "outputs": [
    {
     "data": {
      "image/png": "[encoded data removed]",
      "text/plain": [
       "<Figure size 1440x360 with 10 Axes>"
      ]
     },
     "metadata": {
      "needs_background": "light"
     },
     "output_type": "display_data"
    }
   ],
   "source": [
    "fig, axes = plt.subplots(1, 10)\n",
    "fig.set_size_inches(20, 5)\n",
    "for i in range(10):\n",
    "    axes[i].imshow(x[0])\n",
    "    axes[i].imshow(masks[i]/255., alpha = 0.7, cmap = \"coolwarm\")\n",
    "    axes[i].axis(\"off\")"
   ]
  }
 ],
 "metadata": {
  "kernelspec": {
   "display_name": "Python 3",
   "language": "python",
   "name": "python3"
  },
  "language_info": {
   "codemirror_mode": {
    "name": "ipython",
    "version": 3
   },
   "file_extension": ".py",
   "mimetype": "text/x-python",
   "name": "python",
   "nbconvert_exporter": "python",
   "pygments_lexer": "ipython3",
   "version": "3.7.3"
  }
 },
 "nbformat": 4,
 "nbformat_minor": 1
}
