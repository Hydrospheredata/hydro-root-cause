{
 "cells": [
  {
   "cell_type": "markdown",
   "metadata": {},
   "source": [
    "# OUTDATED\n",
    "\n",
    "This is an example from sync version.\n",
    "\n",
    "Awaiting subsampling from reqstore"
   ]
  },
  {
   "cell_type": "markdown",
   "metadata": {},
   "source": [
    "Load libraries"
   ]
  },
  {
   "cell_type": "code",
   "execution_count": 1,
   "metadata": {
    "ExecuteTime": {
     "end_time": "2019-06-11T12:02:56.099218Z",
     "start_time": "2019-06-11T12:02:54.762834Z"
    }
   },
   "outputs": [],
   "source": [
    "import os\n",
    "import hydro_serving_grpc as hs\n",
    "\n",
    "import matplotlib.pyplot as plt\n",
    "import numpy as np\n",
    "import pandas as pd\n",
    "import sklearn\n",
    "import requests\n",
    "import time\n",
    "from tqdm import tqdm_notebook as tqdm"
   ]
  },
  {
   "cell_type": "code",
   "execution_count": 2,
   "metadata": {
    "ExecuteTime": {
     "end_time": "2019-06-11T12:02:56.376241Z",
     "start_time": "2019-06-11T12:02:56.100602Z"
    }
   },
   "outputs": [],
   "source": [
    "from sklearn.preprocessing import LabelEncoder\n",
    "import sklearn.model_selection"
   ]
  },
  {
   "cell_type": "markdown",
   "metadata": {
    "ExecuteTime": {
     "end_time": "2019-04-08T13:15:46.853274Z",
     "start_time": "2019-04-08T13:15:46.850465Z"
    }
   },
   "source": [
    "Get adult data"
   ]
  },
  {
   "cell_type": "code",
   "execution_count": 13,
   "metadata": {
    "ExecuteTime": {
     "end_time": "2019-06-13T12:48:54.318286Z",
     "start_time": "2019-06-13T12:48:53.436130Z"
    }
   },
   "outputs": [],
   "source": [
    "# Helepr function to process the data\n",
    "def map_array_values(series, value_map):\n",
    "    if series.dtype == 'object':\n",
    "        ret = series.str.strip().copy()\n",
    "    else:\n",
    "        ret = series.copy()\n",
    "    for src, target in value_map.items():\n",
    "        ret[ret == src] = target\n",
    "    return ret\n",
    "\n",
    "\n",
    "# Readble feature names\n",
    "feature_names = [\"Age\", \"Workclass\", \"fnlwgt\", \"Education\",\n",
    "                 \"Education-Num\", \"Marital Status\", \"Occupation\",\n",
    "                 \"Relationship\", \"Race\", \"Sex\", \"Capital Gain\",\n",
    "                 \"Capital Loss\", \"Hours per week\", \"Country\", 'Income']\n",
    "features_to_use = [0, 1, 3, 5, 6, 7, 8, 9, 10, 11, 12, 13]\n",
    "categorical_features = [1, 3, 5, 6, 7, 8, 9, 10, 11, 13]\n",
    "education_map = {\n",
    "    '10th': 'Dropout', '11th': 'Dropout', '12th': 'Dropout', '1st-4th':\n",
    "        'Dropout', '5th-6th': 'Dropout', '7th-8th': 'Dropout', '9th':\n",
    "        'Dropout', 'Preschool': 'Dropout', 'HS-grad': 'High School grad',\n",
    "    'Some-college': 'High School grad', 'Masters': 'Masters',\n",
    "    'Prof-school': 'Prof-School', 'Assoc-acdm': 'Associates',\n",
    "    'Assoc-voc': 'Associates',\n",
    "}\n",
    "occupation_map = {\n",
    "    \"Adm-clerical\": \"Admin\", \"Armed-Forces\": \"Military\",\n",
    "    \"Craft-repair\": \"Blue-Collar\", \"Exec-managerial\": \"White-Collar\",\n",
    "    \"Farming-fishing\": \"Blue-Collar\", \"Handlers-cleaners\":\n",
    "        \"Blue-Collar\", \"Machine-op-inspct\": \"Blue-Collar\", \"Other-service\":\n",
    "        \"Service\", \"Priv-house-serv\": \"Service\", \"Prof-specialty\":\n",
    "        \"Professional\", \"Protective-serv\": \"Other\", \"Sales\":\n",
    "        \"Sales\", \"Tech-support\": \"Other\", \"Transport-moving\":\n",
    "        \"Blue-Collar\",\n",
    "}\n",
    "country_map = {\n",
    "    'Cambodia': 'SE-Asia', 'Canada': 'British-Commonwealth', 'China':\n",
    "        'China', 'Columbia': 'South-America', 'Cuba': 'Other',\n",
    "    'Dominican-Republic': 'Latin-America', 'Ecuador': 'South-America',\n",
    "    'El-Salvador': 'South-America', 'England': 'British-Commonwealth',\n",
    "    'France': 'Euro_1', 'Germany': 'Euro_1', 'Greece': 'Euro_2',\n",
    "    'Guatemala': 'Latin-America', 'Haiti': 'Latin-America',\n",
    "    'Holand-Netherlands': 'Euro_1', 'Honduras': 'Latin-America',\n",
    "    'Hong': 'China', 'Hungary': 'Euro_2', 'India':\n",
    "        'British-Commonwealth', 'Iran': 'Other', 'Ireland':\n",
    "        'British-Commonwealth', 'Italy': 'Euro_1', 'Jamaica':\n",
    "        'Latin-America', 'Japan': 'Other', 'Laos': 'SE-Asia', 'Mexico':\n",
    "        'Latin-America', 'Nicaragua': 'Latin-America',\n",
    "    'Outlying-US(Guam-USVI-etc)': 'Latin-America', 'Peru':\n",
    "        'South-America', 'Philippines': 'SE-Asia', 'Poland': 'Euro_2',\n",
    "    'Portugal': 'Euro_2', 'Puerto-Rico': 'Latin-America', 'Scotland':\n",
    "        'British-Commonwealth', 'South': 'Euro_2', 'Taiwan': 'China',\n",
    "    'Thailand': 'SE-Asia', 'Trinadad&Tobago': 'Latin-America',\n",
    "    'United-States': 'United-States', 'Vietnam': 'SE-Asia'\n",
    "}\n",
    "married_map = {\n",
    "    'Never-married': 'Never-Married', 'Married-AF-spouse': 'Married',\n",
    "    'Married-civ-spouse': 'Married', 'Married-spouse-absent':\n",
    "        'Separated', 'Separated': 'Separated', 'Divorced':\n",
    "        'Separated', 'Widowed': 'Widowed'\n",
    "}\n",
    "\n",
    "\n",
    "# Transform Continiouse Cap Gains into the discrete variable\n",
    "def cap_gains_fn(x):\n",
    "    x = x.astype(float)\n",
    "    d = np.digitize(x, [0, np.median(x[x > 0]), float('inf')], right=True)\n",
    "    new_series = pd.Series([\"None\"] * len(d))\n",
    "    new_series[d == 0] = 'None'\n",
    "    new_series[d == 1] = 'Low'\n",
    "    new_series[d == 2] = 'High'\n",
    "    return new_series\n",
    "\n",
    "# Specify transofrmations for each column\n",
    "transformations = {\n",
    "    'Education': lambda x: map_array_values(x, education_map),\n",
    "    'Marital Status': lambda x: map_array_values(x, married_map),\n",
    "    'Occupation': lambda x: map_array_values(x, occupation_map),\n",
    "    'Capital Gain': cap_gains_fn,\n",
    "    'Capital Loss': cap_gains_fn,\n",
    "    'Country': lambda x: map_array_values(x, country_map),\n",
    "}\n",
    "\n",
    "# Load df\n",
    "df = pd.read_csv(\"../anchor2/anchor2/examples/data/adult/adult.data\", header=None)\n",
    "df.columns = feature_names\n",
    "target_labels = pd.Series(df.iloc[:, -1], index=df.index)\n",
    "df = df.iloc[:, features_to_use]\n",
    "df.dropna(inplace=True)\n",
    "\n",
    "# Transform features\n",
    "for feature, fun in transformations.items():\n",
    "    df[feature] = fun(df[feature])\n",
    "\n",
    "# Store dictionary with {Category id -> category classes}\n",
    "categorical_features_idx = [1, 2, 3, 4, 5, 6, 7, 8, 9, 11]\n",
    "categorical_names = {}  # Dictionary with (Category id -> category classes)\n",
    "for f_idx in categorical_features_idx:\n",
    "    le = LabelEncoder()\n",
    "    df.iloc[:, f_idx] = le.fit_transform(df.iloc[:, f_idx])\n",
    "    categorical_names[f_idx] = le.classes_\n",
    "\n",
    "# Encode target label\n",
    "le = LabelEncoder()\n",
    "target_labels = le.fit_transform(target_labels)\n",
    "class_names = list(le.classes_)\n",
    "\n",
    "# Split the dataset into train\\val\\test\n",
    "train_X, rest_X, train_y, rest_y = sklearn.model_selection.train_test_split(df, target_labels, stratify=target_labels,\n",
    "                                                                            test_size=0.5, random_state=42)\n",
    "val_X, test_X, val_y, test_y = sklearn.model_selection.train_test_split(rest_X, rest_y, stratify=rest_y,\n",
    "                                                                        test_size=0.5, random_state=42)"
   ]
  },
  {
   "cell_type": "markdown",
   "metadata": {},
   "source": [
    "Check random sample"
   ]
  },
  {
   "cell_type": "code",
   "execution_count": 14,
   "metadata": {
    "ExecuteTime": {
     "end_time": "2019-06-13T12:48:54.324840Z",
     "start_time": "2019-06-13T12:48:54.319814Z"
    }
   },
   "outputs": [
    {
     "name": "stdout",
     "output_type": "stream",
     "text": [
      "Age               45\n",
      "Workclass          4\n",
      "Education          4\n",
      "Marital Status     2\n",
      "Occupation         6\n",
      "Relationship       3\n",
      "Race               4\n",
      "Sex                1\n",
      "Capital Gain       2\n",
      "Capital Loss       2\n",
      "Hours per week    45\n",
      "Country            9\n",
      "Name: 17180, dtype: int64\n"
     ]
    }
   ],
   "source": [
    "idx = np.random.choice(range(test_X.shape[0]))\n",
    "x = test_X.iloc[idx]\n",
    "print(x)"
   ]
  },
  {
   "cell_type": "markdown",
   "metadata": {},
   "source": [
    "## Connect to HS"
   ]
  },
  {
   "cell_type": "markdown",
   "metadata": {
    "ExecuteTime": {
     "end_time": "2019-04-08T13:28:57.387064Z",
     "start_time": "2019-04-08T13:28:57.384800Z"
    }
   },
   "source": [
    "Specify the hydrosphere inference endpoint"
   ]
  },
  {
   "cell_type": "code",
   "execution_count": 15,
   "metadata": {
    "ExecuteTime": {
     "end_time": "2019-06-13T12:48:55.356471Z",
     "start_time": "2019-06-13T12:48:55.354276Z"
    }
   },
   "outputs": [],
   "source": [
    "service_link = \"https://dev.k8s.hydrosphere.io/gateway/application/adult\""
   ]
  },
  {
   "cell_type": "code",
   "execution_count": 16,
   "metadata": {
    "ExecuteTime": {
     "end_time": "2019-06-13T12:48:55.712156Z",
     "start_time": "2019-06-13T12:48:55.702815Z"
    }
   },
   "outputs": [],
   "source": [
    "# Function to store sample in a json with signature \n",
    "def make_signatured_json(sample):\n",
    "    output_json = {}\n",
    "    if type(sample) == pd.Series:\n",
    "        feature_names = sample.index\n",
    "        values = sample\n",
    "    else:\n",
    "        feature_names = [\n",
    "            \"Age\",\n",
    "            \"Workclass\",\n",
    "            \"Education\",\n",
    "            \"Marital Status\",\n",
    "            \"Occupation\",\n",
    "            \"Relationship\",\n",
    "            \"Race\",\n",
    "            \"Sex\",\n",
    "            \"Capital Gain\",\n",
    "            \"Capital Loss\",\n",
    "            \"Hours per week\",\n",
    "            \"Country\"]\n",
    "        values = sample\n",
    "        \n",
    "    for feature_idx, fname in enumerate(feature_names):\n",
    "        output_json[fname] = [int(v) for v in values.loc[:, fname]]\n",
    "    return output_json\n",
    "\n",
    "def make_proto(sample):\n",
    "    j = make_signatured_json(sample)\n",
    "    keys = j.keys()\n",
    "    tensor_shapes = [hs.TensorShapeProto(dim=[hs.TensorShapeProto.Dim(size=len(j[k])), hs.TensorShapeProto.Dim(size=1)])  for k in keys ]\n",
    "    tensors = [hs.TensorProto(dtype=hs.DT_INT64, int64_val = j[k], tensor_shape = ts) for k, ts in zip(keys, tensor_shapes) ]\n",
    "    return dict(zip(keys, tensors))\n"
   ]
  },
  {
   "cell_type": "code",
   "execution_count": 17,
   "metadata": {
    "ExecuteTime": {
     "end_time": "2019-06-13T12:48:56.161376Z",
     "start_time": "2019-06-13T12:48:56.154773Z"
    }
   },
   "outputs": [
    {
     "data": {
      "text/plain": [
       "{'Age': dtype: DT_INT64\n",
       " tensor_shape {\n",
       "   dim {\n",
       "     size: 5\n",
       "   }\n",
       "   dim {\n",
       "     size: 1\n",
       "   }\n",
       " }\n",
       " int64_val: 45\n",
       " int64_val: 53\n",
       " int64_val: 30\n",
       " int64_val: 63\n",
       " int64_val: 25, 'Workclass': dtype: DT_INT64\n",
       " tensor_shape {\n",
       "   dim {\n",
       "     size: 5\n",
       "   }\n",
       "   dim {\n",
       "     size: 1\n",
       "   }\n",
       " }\n",
       " int64_val: 4\n",
       " int64_val: 4\n",
       " int64_val: 4\n",
       " int64_val: 6\n",
       " int64_val: 4, 'Education': dtype: DT_INT64\n",
       " tensor_shape {\n",
       "   dim {\n",
       "     size: 5\n",
       "   }\n",
       "   dim {\n",
       "     size: 1\n",
       "   }\n",
       " }\n",
       " int64_val: 4\n",
       " int64_val: 4\n",
       " int64_val: 4\n",
       " int64_val: 6\n",
       " int64_val: 1, 'Marital Status': dtype: DT_INT64\n",
       " tensor_shape {\n",
       "   dim {\n",
       "     size: 5\n",
       "   }\n",
       "   dim {\n",
       "     size: 1\n",
       "   }\n",
       " }\n",
       " int64_val: 2\n",
       " int64_val: 0\n",
       " int64_val: 2\n",
       " int64_val: 0\n",
       " int64_val: 2, 'Occupation': dtype: DT_INT64\n",
       " tensor_shape {\n",
       "   dim {\n",
       "     size: 5\n",
       "   }\n",
       "   dim {\n",
       "     size: 1\n",
       "   }\n",
       " }\n",
       " int64_val: 6\n",
       " int64_val: 8\n",
       " int64_val: 8\n",
       " int64_val: 5\n",
       " int64_val: 6, 'Relationship': dtype: DT_INT64\n",
       " tensor_shape {\n",
       "   dim {\n",
       "     size: 5\n",
       "   }\n",
       "   dim {\n",
       "     size: 1\n",
       "   }\n",
       " }\n",
       " int64_val: 3\n",
       " int64_val: 0\n",
       " int64_val: 4\n",
       " int64_val: 0\n",
       " int64_val: 1, 'Race': dtype: DT_INT64\n",
       " tensor_shape {\n",
       "   dim {\n",
       "     size: 5\n",
       "   }\n",
       "   dim {\n",
       "     size: 1\n",
       "   }\n",
       " }\n",
       " int64_val: 4\n",
       " int64_val: 4\n",
       " int64_val: 4\n",
       " int64_val: 4\n",
       " int64_val: 4, 'Sex': dtype: DT_INT64\n",
       " tensor_shape {\n",
       "   dim {\n",
       "     size: 5\n",
       "   }\n",
       "   dim {\n",
       "     size: 1\n",
       "   }\n",
       " }\n",
       " int64_val: 1\n",
       " int64_val: 1\n",
       " int64_val: 0\n",
       " int64_val: 1\n",
       " int64_val: 0, 'Capital Gain': dtype: DT_INT64\n",
       " tensor_shape {\n",
       "   dim {\n",
       "     size: 5\n",
       "   }\n",
       "   dim {\n",
       "     size: 1\n",
       "   }\n",
       " }\n",
       " int64_val: 2\n",
       " int64_val: 0\n",
       " int64_val: 2\n",
       " int64_val: 2\n",
       " int64_val: 2, 'Capital Loss': dtype: DT_INT64\n",
       " tensor_shape {\n",
       "   dim {\n",
       "     size: 5\n",
       "   }\n",
       "   dim {\n",
       "     size: 1\n",
       "   }\n",
       " }\n",
       " int64_val: 2\n",
       " int64_val: 2\n",
       " int64_val: 2\n",
       " int64_val: 2\n",
       " int64_val: 2, 'Hours per week': dtype: DT_INT64\n",
       " tensor_shape {\n",
       "   dim {\n",
       "     size: 5\n",
       "   }\n",
       "   dim {\n",
       "     size: 1\n",
       "   }\n",
       " }\n",
       " int64_val: 45\n",
       " int64_val: 40\n",
       " int64_val: 29\n",
       " int64_val: 30\n",
       " int64_val: 40, 'Country': dtype: DT_INT64\n",
       " tensor_shape {\n",
       "   dim {\n",
       "     size: 5\n",
       "   }\n",
       "   dim {\n",
       "     size: 1\n",
       "   }\n",
       " }\n",
       " int64_val: 9\n",
       " int64_val: 9\n",
       " int64_val: 9\n",
       " int64_val: 9\n",
       " int64_val: 9}"
      ]
     },
     "execution_count": 17,
     "metadata": {},
     "output_type": "execute_result"
    }
   ],
   "source": [
    "inp = make_proto(test_X.iloc[idx:idx+5])\n",
    "inp"
   ]
  },
  {
   "cell_type": "markdown",
   "metadata": {},
   "source": [
    "Get response for an example, HTTP"
   ]
  },
  {
   "cell_type": "code",
   "execution_count": 18,
   "metadata": {
    "ExecuteTime": {
     "end_time": "2019-06-13T12:48:58.508795Z",
     "start_time": "2019-06-13T12:48:57.345819Z"
    }
   },
   "outputs": [
    {
     "name": "stdout",
     "output_type": "stream",
     "text": [
      "Predicted label is  <=50K\n"
     ]
    }
   ],
   "source": [
    "response = requests.post(url=service_link, json=make_signatured_json(test_X.iloc[idx:idx+50]))\n",
    "prediction = np.array(response.json()[\"Prediction\"])\n",
    "print(f\"Predicted label is {class_names[prediction[0][0]]}\")"
   ]
  },
  {
   "cell_type": "markdown",
   "metadata": {},
   "source": [
    "Check through plain GPRC"
   ]
  },
  {
   "cell_type": "code",
   "execution_count": 20,
   "metadata": {
    "ExecuteTime": {
     "end_time": "2019-06-13T12:49:00.522733Z",
     "start_time": "2019-06-13T12:49:00.511614Z"
    }
   },
   "outputs": [],
   "source": [
    "import grpc\n",
    "import hydro_serving_grpc as hs\n",
    "\n",
    "creds = grpc.ssl_channel_credentials()\n",
    "channel = grpc.secure_channel('dev.k8s.hydrosphere.io', creds)\n",
    "client = hs.PredictionServiceStub(channel)"
   ]
  },
  {
   "cell_type": "code",
   "execution_count": 21,
   "metadata": {
    "ExecuteTime": {
     "end_time": "2019-06-13T12:49:01.116111Z",
     "start_time": "2019-06-13T12:49:01.113553Z"
    }
   },
   "outputs": [],
   "source": [
    "model_spec = hs.ModelSpec(name='adult', signature_name = 'adult')"
   ]
  },
  {
   "cell_type": "code",
   "execution_count": 22,
   "metadata": {
    "ExecuteTime": {
     "end_time": "2019-06-13T12:49:01.439419Z",
     "start_time": "2019-06-13T12:49:01.434825Z"
    }
   },
   "outputs": [],
   "source": [
    "inp = make_proto(test_X.iloc[idx:idx+5])"
   ]
  },
  {
   "cell_type": "code",
   "execution_count": 24,
   "metadata": {
    "ExecuteTime": {
     "end_time": "2019-06-13T12:49:10.279716Z",
     "start_time": "2019-06-13T12:49:10.125048Z"
    }
   },
   "outputs": [
    {
     "name": "stdout",
     "output_type": "stream",
     "text": [
      "outputs {\n",
      "  key: \"Prediction\"\n",
      "  value {\n",
      "    dtype: DT_INT64\n",
      "    tensor_shape {\n",
      "      dim {\n",
      "        size: -1\n",
      "      }\n",
      "      dim {\n",
      "        size: 1\n",
      "      }\n",
      "    }\n",
      "    int64_val: 0\n",
      "    int64_val: 1\n",
      "    int64_val: 0\n",
      "    int64_val: 1\n",
      "    int64_val: 0\n",
      "  }\n",
      "}\n",
      "\n"
     ]
    }
   ],
   "source": [
    "request = hs.PredictRequest(model_spec=model_spec, inputs=inp)\n",
    "result = client.Predict(request)\n",
    "print(result)"
   ]
  },
  {
   "cell_type": "markdown",
   "metadata": {
    "ExecuteTime": {
     "end_time": "2019-06-05T09:09:34.457228Z",
     "start_time": "2019-06-05T09:09:34.453979Z"
    }
   },
   "source": [
    "Check through GPRC without Sonar attached to it"
   ]
  },
  {
   "cell_type": "code",
   "execution_count": 86,
   "metadata": {
    "ExecuteTime": {
     "end_time": "2019-06-14T13:24:09.162249Z",
     "start_time": "2019-06-14T13:23:52.820687Z"
    }
   },
   "outputs": [
    {
     "ename": "_Rendezvous",
     "evalue": "<_Rendezvous of RPC that terminated with:\n\tstatus = StatusCode.UNAVAILABLE\n\tdetails = \"failed to connect to all addresses\"\n\tdebug_error_string = \"{\"created\":\"@1560518649.152660000\",\"description\":\"Failed to pick subchannel\",\"file\":\"src/core/ext/filters/client_channel/client_channel.cc\",\"file_line\":3381,\"referenced_errors\":[{\"created\":\"@1560518649.152521000\",\"description\":\"failed to connect to all addresses\",\"file\":\"src/core/ext/filters/client_channel/lb_policy/pick_first/pick_first.cc\",\"file_line\":453,\"grpc_status\":14}]}\"\n>",
     "output_type": "error",
     "traceback": [
      "\u001b[0;31m---------------------------------------------------------------------------\u001b[0m",
      "\u001b[0;31m_Rendezvous\u001b[0m                               Traceback (most recent call last)",
      "\u001b[0;32m<ipython-input-86-272698f5dcc4>\u001b[0m in \u001b[0;36m<module>\u001b[0;34m\u001b[0m\n\u001b[1;32m     12\u001b[0m \u001b[0mrequest\u001b[0m \u001b[0;34m=\u001b[0m \u001b[0mhs\u001b[0m\u001b[0;34m.\u001b[0m\u001b[0mPredictRequest\u001b[0m\u001b[0;34m(\u001b[0m\u001b[0mmodel_spec\u001b[0m\u001b[0;34m=\u001b[0m\u001b[0mmodel_spec\u001b[0m\u001b[0;34m,\u001b[0m \u001b[0minputs\u001b[0m\u001b[0;34m=\u001b[0m\u001b[0minp\u001b[0m\u001b[0;34m)\u001b[0m\u001b[0;34m\u001b[0m\u001b[0;34m\u001b[0m\u001b[0m\n\u001b[1;32m     13\u001b[0m \u001b[0;34m\u001b[0m\u001b[0m\n\u001b[0;32m---> 14\u001b[0;31m \u001b[0mclient\u001b[0m\u001b[0;34m.\u001b[0m\u001b[0mPredictModelOnly\u001b[0m\u001b[0;34m(\u001b[0m\u001b[0mrequest\u001b[0m\u001b[0;34m)\u001b[0m\u001b[0;34m\u001b[0m\u001b[0;34m\u001b[0m\u001b[0m\n\u001b[0m",
      "\u001b[0;32m/anaconda3/lib/python3.7/site-packages/grpc/_channel.py\u001b[0m in \u001b[0;36m__call__\u001b[0;34m(self, request, timeout, metadata, credentials, wait_for_ready, compression)\u001b[0m\n\u001b[1;32m    563\u001b[0m         state, call, = self._blocking(request, timeout, metadata, credentials,\n\u001b[1;32m    564\u001b[0m                                       wait_for_ready, compression)\n\u001b[0;32m--> 565\u001b[0;31m         \u001b[0;32mreturn\u001b[0m \u001b[0m_end_unary_response_blocking\u001b[0m\u001b[0;34m(\u001b[0m\u001b[0mstate\u001b[0m\u001b[0;34m,\u001b[0m \u001b[0mcall\u001b[0m\u001b[0;34m,\u001b[0m \u001b[0;32mFalse\u001b[0m\u001b[0;34m,\u001b[0m \u001b[0;32mNone\u001b[0m\u001b[0;34m)\u001b[0m\u001b[0;34m\u001b[0m\u001b[0;34m\u001b[0m\u001b[0m\n\u001b[0m\u001b[1;32m    566\u001b[0m \u001b[0;34m\u001b[0m\u001b[0m\n\u001b[1;32m    567\u001b[0m     def with_call(self,\n",
      "\u001b[0;32m/anaconda3/lib/python3.7/site-packages/grpc/_channel.py\u001b[0m in \u001b[0;36m_end_unary_response_blocking\u001b[0;34m(state, call, with_call, deadline)\u001b[0m\n\u001b[1;32m    465\u001b[0m             \u001b[0;32mreturn\u001b[0m \u001b[0mstate\u001b[0m\u001b[0;34m.\u001b[0m\u001b[0mresponse\u001b[0m\u001b[0;34m\u001b[0m\u001b[0;34m\u001b[0m\u001b[0m\n\u001b[1;32m    466\u001b[0m     \u001b[0;32melse\u001b[0m\u001b[0;34m:\u001b[0m\u001b[0;34m\u001b[0m\u001b[0;34m\u001b[0m\u001b[0m\n\u001b[0;32m--> 467\u001b[0;31m         \u001b[0;32mraise\u001b[0m \u001b[0m_Rendezvous\u001b[0m\u001b[0;34m(\u001b[0m\u001b[0mstate\u001b[0m\u001b[0;34m,\u001b[0m \u001b[0;32mNone\u001b[0m\u001b[0;34m,\u001b[0m \u001b[0;32mNone\u001b[0m\u001b[0;34m,\u001b[0m \u001b[0mdeadline\u001b[0m\u001b[0;34m)\u001b[0m\u001b[0;34m\u001b[0m\u001b[0;34m\u001b[0m\u001b[0m\n\u001b[0m\u001b[1;32m    468\u001b[0m \u001b[0;34m\u001b[0m\u001b[0m\n\u001b[1;32m    469\u001b[0m \u001b[0;34m\u001b[0m\u001b[0m\n",
      "\u001b[0;31m_Rendezvous\u001b[0m: <_Rendezvous of RPC that terminated with:\n\tstatus = StatusCode.UNAVAILABLE\n\tdetails = \"failed to connect to all addresses\"\n\tdebug_error_string = \"{\"created\":\"@1560518649.152660000\",\"description\":\"Failed to pick subchannel\",\"file\":\"src/core/ext/filters/client_channel/client_channel.cc\",\"file_line\":3381,\"referenced_errors\":[{\"created\":\"@1560518649.152521000\",\"description\":\"failed to connect to all addresses\",\"file\":\"src/core/ext/filters/client_channel/lb_policy/pick_first/pick_first.cc\",\"file_line\":453,\"grpc_status\":14}]}\"\n>"
     ]
    }
   ],
   "source": [
    "import grpc\n",
    "import hydro_serving_grpc as hs\n",
    "import hydro_serving_grpc.gateway as hsg\n",
    "\n",
    "# creds = grpc.ssl_channel_credentials()\n",
    "channel = grpc.insecure_channel('localhost')\n",
    "client = hsg.GatewayServiceStub(channel)\n",
    "\n",
    "model_spec = hs.ModelSpec(name='adult-salary-prediction', signature_name =\"predict\")\n",
    "model_spec.version.value = 1\n",
    "inp = make_proto(test_X.iloc[idx:idx+5])\n",
    "request = hs.PredictRequest(model_spec=model_spec, inputs=inp)\n",
    "\n",
    "client.PredictModelOnly(request)"
   ]
  },
  {
   "cell_type": "markdown",
   "metadata": {},
   "source": [
    "fetch model contract\n"
   ]
  },
  {
   "cell_type": "code",
   "execution_count": 81,
   "metadata": {
    "ExecuteTime": {
     "end_time": "2019-06-14T13:23:12.452426Z",
     "start_time": "2019-06-14T13:23:12.448760Z"
    }
   },
   "outputs": [],
   "source": [
    "def get_model_id(application_name: str):\n",
    "    SERVING_URL = \"http://localhost\"\n",
    "    r = requests.get(f\"{SERVING_URL}/api/v2/application/{application_name}\")\n",
    "#     print(f\"{SERVING_URL}/api/v2/application/{application_name}\")\n",
    "#     print(r.json())\n",
    "    model = r.json()['executionGraph']['stages'][0]['modelVariants'][0]['modelVersion']['model']\n",
    "    return model"
   ]
  },
  {
   "cell_type": "code",
   "execution_count": null,
   "metadata": {
    "ExecuteTime": {
     "end_time": "2019-06-13T12:57:56.943812Z",
     "start_time": "2019-06-13T12:57:56.935564Z"
    }
   },
   "outputs": [],
   "source": []
  },
  {
   "cell_type": "code",
   "execution_count": 83,
   "metadata": {
    "ExecuteTime": {
     "end_time": "2019-06-14T13:23:16.187436Z",
     "start_time": "2019-06-14T13:23:16.122313Z"
    }
   },
   "outputs": [
    {
     "data": {
      "text/plain": [
       "{'id': 1, 'name': 'adult-salary-prediction'}"
      ]
     },
     "execution_count": 83,
     "metadata": {},
     "output_type": "execute_result"
    }
   ],
   "source": [
    "m = get_model_id(\"adult\")\n",
    "m"
   ]
  },
  {
   "cell_type": "code",
   "execution_count": 95,
   "metadata": {
    "ExecuteTime": {
     "end_time": "2019-06-14T13:28:12.574053Z",
     "start_time": "2019-06-14T13:28:12.541488Z"
    }
   },
   "outputs": [
    {
     "data": {
      "text/plain": [
       "id: 1\n",
       "version: 1\n",
       "status: \"Released\"\n",
       "model {\n",
       "  id: 1\n",
       "  name: \"adult-salary-prediction\"\n",
       "}\n",
       "contract {\n",
       "  model_name: \"model\"\n",
       "  predict {\n",
       "    signature_name: \"predict\"\n",
       "    inputs {\n",
       "      name: \"Age\"\n",
       "      shape {\n",
       "        dim {\n",
       "          size: -1\n",
       "        }\n",
       "        dim {\n",
       "          size: 1\n",
       "        }\n",
       "      }\n",
       "      dtype: DT_INT64\n",
       "    }\n",
       "    inputs {\n",
       "      name: \"Workclass\"\n",
       "      shape {\n",
       "        dim {\n",
       "          size: -1\n",
       "        }\n",
       "        dim {\n",
       "          size: 1\n",
       "        }\n",
       "      }\n",
       "      dtype: DT_INT64\n",
       "    }\n",
       "    inputs {\n",
       "      name: \"Education\"\n",
       "      shape {\n",
       "        dim {\n",
       "          size: -1\n",
       "        }\n",
       "        dim {\n",
       "          size: 1\n",
       "        }\n",
       "      }\n",
       "      dtype: DT_INT64\n",
       "    }\n",
       "    inputs {\n",
       "      name: \"Marital Status\"\n",
       "      shape {\n",
       "        dim {\n",
       "          size: -1\n",
       "        }\n",
       "        dim {\n",
       "          size: 1\n",
       "        }\n",
       "      }\n",
       "      dtype: DT_INT64\n",
       "    }\n",
       "    inputs {\n",
       "      name: \"Occupation\"\n",
       "      shape {\n",
       "        dim {\n",
       "          size: -1\n",
       "        }\n",
       "        dim {\n",
       "          size: 1\n",
       "        }\n",
       "      }\n",
       "      dtype: DT_INT64\n",
       "    }\n",
       "    inputs {\n",
       "      name: \"Relationship\"\n",
       "      shape {\n",
       "        dim {\n",
       "          size: -1\n",
       "        }\n",
       "        dim {\n",
       "          size: 1\n",
       "        }\n",
       "      }\n",
       "      dtype: DT_INT64\n",
       "    }\n",
       "    inputs {\n",
       "      name: \"Race\"\n",
       "      shape {\n",
       "        dim {\n",
       "          size: -1\n",
       "        }\n",
       "        dim {\n",
       "          size: 1\n",
       "        }\n",
       "      }\n",
       "      dtype: DT_INT64\n",
       "    }\n",
       "    inputs {\n",
       "      name: \"Sex\"\n",
       "      shape {\n",
       "        dim {\n",
       "          size: -1\n",
       "        }\n",
       "        dim {\n",
       "          size: 1\n",
       "        }\n",
       "      }\n",
       "      dtype: DT_INT64\n",
       "    }\n",
       "    inputs {\n",
       "      name: \"Capital Gain\"\n",
       "      shape {\n",
       "        dim {\n",
       "          size: -1\n",
       "        }\n",
       "        dim {\n",
       "          size: 1\n",
       "        }\n",
       "      }\n",
       "      dtype: DT_INT64\n",
       "    }\n",
       "    inputs {\n",
       "      name: \"Capital Loss\"\n",
       "      shape {\n",
       "        dim {\n",
       "          size: -1\n",
       "        }\n",
       "        dim {\n",
       "          size: 1\n",
       "        }\n",
       "      }\n",
       "      dtype: DT_INT64\n",
       "    }\n",
       "    inputs {\n",
       "      name: \"Hours per week\"\n",
       "      shape {\n",
       "        dim {\n",
       "          size: -1\n",
       "        }\n",
       "        dim {\n",
       "          size: 1\n",
       "        }\n",
       "      }\n",
       "      dtype: DT_INT64\n",
       "    }\n",
       "    inputs {\n",
       "      name: \"Country\"\n",
       "      shape {\n",
       "        dim {\n",
       "          size: -1\n",
       "        }\n",
       "        dim {\n",
       "          size: 1\n",
       "        }\n",
       "      }\n",
       "      dtype: DT_INT64\n",
       "    }\n",
       "    outputs {\n",
       "      name: \"Prediction\"\n",
       "      shape {\n",
       "        dim {\n",
       "          size: -1\n",
       "        }\n",
       "        dim {\n",
       "          size: 1\n",
       "        }\n",
       "      }\n",
       "      dtype: DT_INT64\n",
       "    }\n",
       "  }\n",
       "}\n",
       "image {\n",
       "  name: \"adult-salary-prediction\"\n",
       "  tag: \"1\"\n",
       "}\n",
       "image_sha: \"59983be614de13c35e2078c3b8d088493bc8c67adae7a3a06d13bfca8a0dd7b3\"\n",
       "runtime {\n",
       "  name: \"hydrosphere/serving-runtime-python-3.6\"\n",
       "  tag: \"0.1.2-rc0\"\n",
       "}"
      ]
     },
     "execution_count": 95,
     "metadata": {},
     "output_type": "execute_result"
    }
   ],
   "source": [
    "from hydro_serving_grpc import manager as hsm\n",
    "\n",
    "# creds = grpc.ssl_channel_credentials()\n",
    "channel = grpc.insecure_channel('127.0.0.1:9090')\n",
    "request = hsm.GetVersionRequest(id=m['id'])\n",
    "client = hsm.ManagerServiceStub(channel)\n",
    "client.GetVersion(request)"
   ]
  },
  {
   "cell_type": "code",
   "execution_count": 106,
   "metadata": {
    "ExecuteTime": {
     "end_time": "2019-06-14T14:03:01.600245Z",
     "start_time": "2019-06-14T14:03:01.594753Z"
    }
   },
   "outputs": [],
   "source": [
    "import hydro_serving_grpc"
   ]
  },
  {
   "cell_type": "code",
   "execution_count": 113,
   "metadata": {
    "ExecuteTime": {
     "end_time": "2019-06-14T14:04:08.730689Z",
     "start_time": "2019-06-14T14:04:08.726668Z"
    }
   },
   "outputs": [
    {
     "data": {
      "text/plain": [
       "['DT_BFLOAT16',\n",
       " 'DT_BOOL',\n",
       " 'DT_COMPLEX128',\n",
       " 'DT_COMPLEX64',\n",
       " 'DT_DOUBLE',\n",
       " 'DT_FLOAT',\n",
       " 'DT_HALF',\n",
       " 'DT_INT16',\n",
       " 'DT_INT32',\n",
       " 'DT_INT64',\n",
       " 'DT_INT8',\n",
       " 'DT_INVALID',\n",
       " 'DT_MAP',\n",
       " 'DT_QINT16',\n",
       " 'DT_QINT32',\n",
       " 'DT_QINT8',\n",
       " 'DT_QUINT16',\n",
       " 'DT_QUINT8',\n",
       " 'DT_RESOURCE',\n",
       " 'DT_STRING',\n",
       " 'DT_UINT16',\n",
       " 'DT_UINT32',\n",
       " 'DT_UINT64',\n",
       " 'DT_UINT8',\n",
       " 'DT_VARIANT']"
      ]
     },
     "execution_count": 113,
     "metadata": {},
     "output_type": "execute_result"
    }
   ],
   "source": [
    "list(filter(lambda x: x.startswith(\"DT_\"), dir(hydro_serving_grpc)))"
   ]
  },
  {
   "cell_type": "code",
   "execution_count": 116,
   "metadata": {
    "ExecuteTime": {
     "end_time": "2019-06-14T14:04:40.296022Z",
     "start_time": "2019-06-14T14:04:40.290882Z"
    }
   },
   "outputs": [
    {
     "name": "stdout",
     "output_type": "stream",
     "text": [
      "<class 'numpy.int8'>\n",
      "<class 'numpy.int16'>\n",
      "<class 'numpy.int32'>\n",
      "<class 'numpy.int64'>\n",
      "<class 'numpy.uint8'>\n",
      "<class 'numpy.uint16'>\n",
      "<class 'numpy.uint32'>\n",
      "<class 'numpy.uint64'>\n",
      "<class 'numpy.float16'>\n",
      "<class 'numpy.float32'>\n",
      "<class 'numpy.float64'>\n",
      "<class 'numpy.float128'>\n",
      "<class 'numpy.complex64'>\n",
      "<class 'numpy.complex128'>\n",
      "<class 'numpy.complex256'>\n",
      "<class 'bool'>\n",
      "<class 'object'>\n",
      "<class 'bytes'>\n",
      "<class 'str'>\n",
      "<class 'numpy.void'>\n"
     ]
    }
   ],
   "source": [
    "for k, vs in np.sctypes.items():\n",
    "    for v in vs:\n",
    "        print(str(v))"
   ]
  },
  {
   "cell_type": "code",
   "execution_count": 96,
   "metadata": {
    "ExecuteTime": {
     "end_time": "2019-06-14T13:29:47.363642Z",
     "start_time": "2019-06-14T13:29:47.340418Z"
    }
   },
   "outputs": [],
   "source": [
    "from google.protobuf.json_format import MessageToDict\n",
    "modelVersion = MessageToDict(client.GetVersion(request))"
   ]
  },
  {
   "cell_type": "code",
   "execution_count": 102,
   "metadata": {
    "ExecuteTime": {
     "end_time": "2019-06-14T13:34:05.081384Z",
     "start_time": "2019-06-14T13:34:05.078594Z"
    }
   },
   "outputs": [],
   "source": [
    "contract = modelVersion['contract']\n",
    "signature_name = contract['predict']['signatureName']\n",
    "inputs = contract['predict']['inputs']\n",
    "outputs = contract['predict']['outputs']"
   ]
  },
  {
   "cell_type": "code",
   "execution_count": 103,
   "metadata": {
    "ExecuteTime": {
     "end_time": "2019-06-14T13:34:09.429822Z",
     "start_time": "2019-06-14T13:34:09.426620Z"
    }
   },
   "outputs": [
    {
     "data": {
      "text/plain": [
       "'predict'"
      ]
     },
     "execution_count": 103,
     "metadata": {},
     "output_type": "execute_result"
    }
   ],
   "source": [
    "signature_name"
   ]
  },
  {
   "cell_type": "code",
   "execution_count": 69,
   "metadata": {
    "ExecuteTime": {
     "end_time": "2019-06-13T13:52:08.780793Z",
     "start_time": "2019-06-13T13:52:08.776695Z"
    }
   },
   "outputs": [
    {
     "data": {
      "text/plain": [
       "numpy.dtype"
      ]
     },
     "execution_count": 69,
     "metadata": {},
     "output_type": "execute_result"
    }
   ],
   "source": [
    "type(pd.DataFrame(np.array([[1,2 ], [3,4 ]])).dtypes[0])"
   ]
  },
  {
   "cell_type": "code",
   "execution_count": 98,
   "metadata": {
    "ExecuteTime": {
     "end_time": "2019-06-07T12:30:58.458984Z",
     "start_time": "2019-06-07T12:30:58.450831Z"
    }
   },
   "outputs": [],
   "source": [
    "batch_dim_present = False\n",
    "\n",
    "shapes = [tuple([int(d['size']) for d in i['shape']['dim']]) for i in inputs]\n",
    "dtypes = [i['dtype'] for i in inputs]\n",
    "feature_names = [i['name'] for i in inputs]\n",
    "# TODO assert dtypes!\n",
    "\n",
    "# Check for presences batch_dim\n",
    "if any([s[0]== -1 for s in shapes]):\n",
    "        assert all([s[0]== -1 for s in shapes]), \"All columns must contain batch-dim\"\n",
    "        batch_dim_present = True\n",
    "\n",
    "# Check that data is either 2D (including batch dim) or 1D (without batch dim)\n",
    "if any([len(s) > 2 for s in shapes]) or any([len(s) > 1 for s in shapes]) and not batch_dim_present:\n",
    "    raise ValueError(\"Store tensor data in 2D with batch_dim=-1 or either 1D\")\n",
    "    \n",
    "# Check that data is either series of scalar, [[-1, 1], [-1, 1], ...], [-1, X] or just [X]\n",
    "is_column_defined = all([s == (-1, 1) for s in shapes]) or all(s==('scalar',) for s in shapes)\n",
    "is_tensor_defined = len(shapes) == 1\n",
    "\n",
    "if not (is_column_defined or is_tensor_defined):\n",
    "    raise ValueError(\"Can not comprehend contract\")\n",
    "\n",
    "if is_tensor_defined:\n",
    "    shape = shapes[0]\n",
    "    name = inputs[0]['name']\n",
    "    feature_names = [f\"name_{i}\" for i in range(shape[1])]\n",
    "    dtype = dtypes[0]\n",
    "    del dtypes, shapes\n"
   ]
  },
  {
   "cell_type": "code",
   "execution_count": 65,
   "metadata": {
    "ExecuteTime": {
     "end_time": "2019-06-07T11:05:03.618272Z",
     "start_time": "2019-06-07T11:05:03.614607Z"
    }
   },
   "outputs": [
    {
     "data": {
      "text/plain": [
       "False"
      ]
     },
     "execution_count": 65,
     "metadata": {},
     "output_type": "execute_result"
    }
   ],
   "source": [
    "\"prediction\" in [o['name'] for o in outputs]"
   ]
  },
  {
   "cell_type": "code",
   "execution_count": 111,
   "metadata": {
    "ExecuteTime": {
     "end_time": "2019-06-07T13:14:59.429106Z",
     "start_time": "2019-06-07T13:14:59.425001Z"
    }
   },
   "outputs": [
    {
     "data": {
      "text/plain": [
       "[(-1, 1)]"
      ]
     },
     "execution_count": 111,
     "metadata": {},
     "output_type": "execute_result"
    }
   ],
   "source": [
    "shapes = [tuple([int(d['size']) for d in i['shape']['dim']]) for i in outputs]\n",
    "shapes"
   ]
  },
  {
   "cell_type": "markdown",
   "metadata": {},
   "source": [
    "# Anchor"
   ]
  },
  {
   "cell_type": "markdown",
   "metadata": {},
   "source": [
    "Specify the link to Anchor explanation service"
   ]
  },
  {
   "cell_type": "code",
   "execution_count": 8,
   "metadata": {
    "ExecuteTime": {
     "end_time": "2019-04-26T09:11:07.860776Z",
     "start_time": "2019-04-26T09:11:07.858173Z"
    }
   },
   "outputs": [],
   "source": [
    "anchor_link = \"http://0.0.0.0:5000/anchor\" "
   ]
  },
  {
   "cell_type": "markdown",
   "metadata": {},
   "source": [
    "Prepare configs"
   ]
  },
  {
   "cell_type": "code",
   "execution_count": 9,
   "metadata": {
    "ExecuteTime": {
     "end_time": "2019-04-26T09:11:10.098501Z",
     "start_time": "2019-04-26T09:11:10.090252Z"
    }
   },
   "outputs": [],
   "source": [
    "adult_anchor_config = {\n",
    "  \"precision_threshold\": 0.95,\n",
    "  \"verbose\": False,\n",
    "  \"ordinal_features_idx\": [\n",
    "    0,\n",
    "    10\n",
    "  ],\n",
    "  \"oh_encoded_categories\": {},\n",
    "  \"label_decoders\": {\n",
    "    \"1\": [\n",
    "      \" ?\",\n",
    "      \" Federal-gov\",\n",
    "      \" Local-gov\",\n",
    "      \" Never-worked\",\n",
    "      \" Private\",\n",
    "      \" Self-emp-inc\",\n",
    "      \" Self-emp-not-inc\",\n",
    "      \" State-gov\",\n",
    "      \" Without-pay\"\n",
    "    ],\n",
    "    \"2\": [\n",
    "      \"Associates\",\n",
    "      \"Bachelors\",\n",
    "      \"Doctorate\",\n",
    "      \"Dropout\",\n",
    "      \"High School grad\",\n",
    "      \"Masters\",\n",
    "      \"Prof-School\"\n",
    "    ],\n",
    "    \"3\": [\n",
    "      \"Married\",\n",
    "      \"Never-Married\",\n",
    "      \"Separated\",\n",
    "      \"Widowed\"\n",
    "    ],\n",
    "    \"4\": [\n",
    "      \"?\",\n",
    "      \"Admin\",\n",
    "      \"Blue-Collar\",\n",
    "      \"Military\",\n",
    "      \"Other\",\n",
    "      \"Professional\",\n",
    "      \"Sales\",\n",
    "      \"Service\",\n",
    "      \"White-Collar\"\n",
    "    ],\n",
    "    \"5\": [\n",
    "      \" Husband\",\n",
    "      \" Not-in-family\",\n",
    "      \" Other-relative\",\n",
    "      \" Own-child\",\n",
    "      \" Unmarried\",\n",
    "      \" Wife\"\n",
    "    ],\n",
    "    \"6\": [\n",
    "      \" Amer-Indian-Eskimo\",\n",
    "      \" Asian-Pac-Islander\",\n",
    "      \" Black\",\n",
    "      \" Other\",\n",
    "      \" White\"\n",
    "    ],\n",
    "    \"7\": [\n",
    "      \" Female\",\n",
    "      \" Male\"\n",
    "    ],\n",
    "    \"8\": [\n",
    "      \"High\",\n",
    "      \"Low\",\n",
    "      \"None\"\n",
    "    ],\n",
    "    \"9\": [\n",
    "      \"High\",\n",
    "      \"Low\",\n",
    "      \"None\"\n",
    "    ],\n",
    "    \"11\": [\n",
    "      \"?\",\n",
    "      \"British-Commonwealth\",\n",
    "      \"China\",\n",
    "      \"Euro_1\",\n",
    "      \"Euro_2\",\n",
    "      \"Latin-America\",\n",
    "      \"Other\",\n",
    "      \"SE-Asia\",\n",
    "      \"South-America\",\n",
    "      \"United-States\",\n",
    "      \"Yugoslavia\"\n",
    "    ]\n",
    "  },\n",
    "  \"strategy\": \"kl-lucb\",\n",
    "  \"feature_names\": [\n",
    "    \"Age\",\n",
    "    \"Workclass\",\n",
    "    \"Education\",\n",
    "    \"Marital Status\",\n",
    "    \"Occupation\",\n",
    "    \"Relationship\",\n",
    "    \"Race\",\n",
    "    \"Sex\",\n",
    "    \"Capital Gain\",\n",
    "    \"Capital Loss\",\n",
    "    \"Hours per week\",\n",
    "    \"Country\"\n",
    "  ]\n",
    "}\n"
   ]
  },
  {
   "cell_type": "markdown",
   "metadata": {},
   "source": [
    "Populate reqstore with data"
   ]
  },
  {
   "cell_type": "code",
   "execution_count": 10,
   "metadata": {
    "ExecuteTime": {
     "end_time": "2019-04-26T09:11:21.618306Z",
     "start_time": "2019-04-26T09:11:12.238003Z"
    }
   },
   "outputs": [
    {
     "data": {
      "application/vnd.jupyter.widget-view+json": {
       "model_id": "5a45f862a1dd454fbd0d35f557bf4d87",
       "version_major": 2,
       "version_minor": 0
      },
      "text/plain": [
       "HBox(children=(IntProgress(value=0, max=15), HTML(value='')))"
      ]
     },
     "metadata": {},
     "output_type": "display_data"
    },
    {
     "name": "stdout",
     "output_type": "stream",
     "text": [
      "200.. 200.. 200.. 200.. 200.. 200.. 200.. 200.. 200.. 200.. 200.. 200.. 200.. 200.. 200.. \n"
     ]
    }
   ],
   "source": [
    "service_link = \"https://dev.k8s.hydrosphere.io/gateway/application/adult-salary-app\"\n",
    "for idx in tqdm(range(test_X.shape[0]//500 - 1)):\n",
    "    sample = test_X.iloc[idx*500 :(idx +1)*500]    \n",
    "    response = requests.post(url=service_link, json=make_signatured_json(sample))\n",
    "    print(response.status_code, end=\".. \")\n",
    "#     time.sleep(0.05)"
   ]
  },
  {
   "cell_type": "markdown",
   "metadata": {},
   "source": [
    "## Example 0"
   ]
  },
  {
   "cell_type": "code",
   "execution_count": 11,
   "metadata": {
    "ExecuteTime": {
     "end_time": "2019-04-26T09:13:21.715359Z",
     "start_time": "2019-04-26T09:13:21.710186Z"
    }
   },
   "outputs": [
    {
     "name": "stdout",
     "output_type": "stream",
     "text": [
      "Age               53\n",
      "Workclass          2\n",
      "Education          3\n",
      "Marital Status     0\n",
      "Occupation         2\n",
      "Relationship       0\n",
      "Race               4\n",
      "Sex                1\n",
      "Capital Gain       2\n",
      "Capital Loss       2\n",
      "Hours per week    40\n",
      "Country            9\n",
      "Name: 19146, dtype: int64\n"
     ]
    }
   ],
   "source": [
    "idx = np.random.choice(range(test_X.shape[0]))\n",
    "x = test_X.iloc[idx]\n",
    "print(x)"
   ]
  },
  {
   "cell_type": "code",
   "execution_count": 12,
   "metadata": {
    "ExecuteTime": {
     "end_time": "2019-04-26T09:13:25.748765Z",
     "start_time": "2019-04-26T09:13:25.121362Z"
    }
   },
   "outputs": [
    {
     "name": "stdout",
     "output_type": "stream",
     "text": [
      "Predicted label is  <=50K\n"
     ]
    }
   ],
   "source": [
    "response = requests.post(url=service_link, json=make_signatured_json(pd.DataFrame(x).T))\n",
    "prediction = np.array(response.json()[\"Prediction\"])\n",
    "print(f\"Predicted label is {class_names[prediction[0][0]]}\")"
   ]
  },
  {
   "cell_type": "code",
   "execution_count": 13,
   "metadata": {
    "ExecuteTime": {
     "end_time": "2019-04-26T09:17:33.634616Z",
     "start_time": "2019-04-26T09:13:28.268825Z"
    }
   },
   "outputs": [
    {
     "name": "stdout",
     "output_type": "stream",
     "text": [
      "{\n",
      "  \"coverage\": 0.124, \n",
      "  \"explanation\": \"Education == Dropout\", \n",
      "  \"precision\": 0.963\n",
      "}\n",
      "\n"
     ]
    }
   ],
   "source": [
    "response = requests.post(url=anchor_link, json={\"explained_instance\": x.tolist(),\n",
    "                                                \"application_name\" : \"adult-salary-app\",\n",
    "                                                \"config\" : adult_anchor_config})\n",
    "\n",
    "print(response.text)"
   ]
  },
  {
   "cell_type": "code",
   "execution_count": 14,
   "metadata": {
    "ExecuteTime": {
     "end_time": "2019-04-26T09:18:10.714233Z",
     "start_time": "2019-04-26T09:18:10.707989Z"
    }
   },
   "outputs": [
    {
     "name": "stdout",
     "output_type": "stream",
     "text": [
      "Coverage of this explanation is  0.124\n",
      "Precision of this explanation is  0.963\n"
     ]
    },
    {
     "data": {
      "text/plain": [
       "['Education == Dropout']"
      ]
     },
     "execution_count": 14,
     "metadata": {},
     "output_type": "execute_result"
    }
   ],
   "source": [
    "print(\"Coverage of this explanation is \", response.json()['coverage'])\n",
    "print(\"Precision of this explanation is \", response.json()['precision'])\n",
    "\n",
    "response.json()['explanation'].split(\" AND \")"
   ]
  },
  {
   "cell_type": "markdown",
   "metadata": {
    "ExecuteTime": {
     "end_time": "2019-04-18T07:57:48.490954Z",
     "start_time": "2019-04-18T07:57:48.489042Z"
    }
   },
   "source": [
    "### Example 1"
   ]
  },
  {
   "cell_type": "code",
   "execution_count": 72,
   "metadata": {
    "ExecuteTime": {
     "end_time": "2019-04-24T08:43:29.459240Z",
     "start_time": "2019-04-24T08:43:29.453930Z"
    }
   },
   "outputs": [
    {
     "name": "stdout",
     "output_type": "stream",
     "text": [
      "Age               41\n",
      "Workclass          4\n",
      "Education          5\n",
      "Marital Status     0\n",
      "Occupation         8\n",
      "Relationship       0\n",
      "Race               4\n",
      "Sex                1\n",
      "Capital Gain       2\n",
      "Capital Loss       0\n",
      "Hours per week    65\n",
      "Country            9\n",
      "Name: 405, dtype: int64\n"
     ]
    }
   ],
   "source": [
    "idx = np.random.choice(range(test_X.shape[0]))\n",
    "x = test_X.iloc[idx]\n",
    "print(x)"
   ]
  },
  {
   "cell_type": "code",
   "execution_count": 73,
   "metadata": {
    "ExecuteTime": {
     "end_time": "2019-04-24T08:43:29.953254Z",
     "start_time": "2019-04-24T08:43:29.672825Z"
    }
   },
   "outputs": [
    {
     "name": "stdout",
     "output_type": "stream",
     "text": [
      "Predicted label is  >50K\n"
     ]
    }
   ],
   "source": [
    "response = requests.post(url=service_link, json=make_signatured_json(pd.DataFrame(x).T))\n",
    "prediction = np.array(response.json()[\"Prediction\"])\n",
    "print(f\"Predicted label is {class_names[prediction[0][0]]}\")"
   ]
  },
  {
   "cell_type": "code",
   "execution_count": 74,
   "metadata": {
    "ExecuteTime": {
     "end_time": "2019-04-24T08:45:03.155372Z",
     "start_time": "2019-04-24T08:43:31.410908Z"
    }
   },
   "outputs": [],
   "source": [
    "response = requests.post(url=anchor_link, json={\"explained_instance\": x.tolist(),\n",
    "                                                \"application_name\" : \"adult-salary-app\",\n",
    "                                                \"config\" : adult_anchor_config})"
   ]
  },
  {
   "cell_type": "code",
   "execution_count": 75,
   "metadata": {
    "ExecuteTime": {
     "end_time": "2019-04-24T08:45:03.159691Z",
     "start_time": "2019-04-24T08:45:03.156965Z"
    },
    "scrolled": false
   },
   "outputs": [
    {
     "name": "stdout",
     "output_type": "stream",
     "text": [
      "{\n",
      "  \"coverage\": 0.009, \n",
      "  \"explanation\": \"Occupation == White-Collar AND Capital Loss == High\", \n",
      "  \"precision\": 0.975\n",
      "}\n",
      "\n"
     ]
    }
   ],
   "source": [
    "print(response.text)"
   ]
  },
  {
   "cell_type": "code",
   "execution_count": 76,
   "metadata": {
    "ExecuteTime": {
     "end_time": "2019-04-24T08:45:03.165889Z",
     "start_time": "2019-04-24T08:45:03.161740Z"
    },
    "scrolled": true
   },
   "outputs": [
    {
     "name": "stdout",
     "output_type": "stream",
     "text": [
      "Coverage of this explanation is  0.009\n",
      "Precision of this explanation is  0.975\n"
     ]
    }
   ],
   "source": [
    "print(\"Coverage of this explanation is \", response.json()['coverage'])\n",
    "print(\"Precision of this explanation is \", response.json()['precision'])"
   ]
  },
  {
   "cell_type": "code",
   "execution_count": 77,
   "metadata": {
    "ExecuteTime": {
     "end_time": "2019-04-24T08:45:03.172335Z",
     "start_time": "2019-04-24T08:45:03.168349Z"
    },
    "scrolled": true
   },
   "outputs": [
    {
     "data": {
      "text/plain": [
       "['Occupation == White-Collar', 'Capital Loss == High']"
      ]
     },
     "execution_count": 77,
     "metadata": {},
     "output_type": "execute_result"
    }
   ],
   "source": [
    "response.json()['explanation'].split(\" AND \")"
   ]
  },
  {
   "cell_type": "markdown",
   "metadata": {},
   "source": [
    "### Example 2"
   ]
  },
  {
   "cell_type": "code",
   "execution_count": 94,
   "metadata": {
    "ExecuteTime": {
     "end_time": "2019-04-24T08:50:49.458699Z",
     "start_time": "2019-04-24T08:50:49.454432Z"
    }
   },
   "outputs": [
    {
     "name": "stdout",
     "output_type": "stream",
     "text": [
      "Age               56\n",
      "Workclass          2\n",
      "Education          6\n",
      "Marital Status     0\n",
      "Occupation         1\n",
      "Relationship       0\n",
      "Race               1\n",
      "Sex                1\n",
      "Capital Gain       2\n",
      "Capital Loss       2\n",
      "Hours per week    40\n",
      "Country            7\n",
      "Name: 22329, dtype: int64\n"
     ]
    }
   ],
   "source": [
    "idx = np.random.choice(range(test_X.shape[0]))\n",
    "x = test_X.iloc[idx]\n",
    "print(x)"
   ]
  },
  {
   "cell_type": "code",
   "execution_count": 95,
   "metadata": {
    "ExecuteTime": {
     "end_time": "2019-04-24T08:50:50.146872Z",
     "start_time": "2019-04-24T08:50:49.878402Z"
    }
   },
   "outputs": [
    {
     "name": "stdout",
     "output_type": "stream",
     "text": [
      "Predicted label is  >50K\n"
     ]
    }
   ],
   "source": [
    "response = requests.post(url=service_link, json=make_signatured_json(pd.DataFrame(x).T))\n",
    "prediction = np.array(response.json()[\"Prediction\"])\n",
    "print(f\"Predicted label is {class_names[prediction[0][0]]}\")"
   ]
  },
  {
   "cell_type": "code",
   "execution_count": 96,
   "metadata": {
    "ExecuteTime": {
     "end_time": "2019-04-24T09:00:36.194138Z",
     "start_time": "2019-04-24T08:50:51.447135Z"
    },
    "scrolled": false
   },
   "outputs": [
    {
     "name": "stdout",
     "output_type": "stream",
     "text": [
      "{\n",
      "  \"coverage\": 0.001, \n",
      "  \"explanation\": \"Hours per week > 36.0 AND Capital Loss == None AND Sex ==  Male AND Education == Prof-School AND Workclass ==  Local-gov\", \n",
      "  \"precision\": 1.0\n",
      "}\n",
      "\n"
     ]
    }
   ],
   "source": [
    "response = requests.post(url=anchor_link, json={\"explained_instance\": x.tolist(),\n",
    "                                                \"application_name\" : \"adult-salary-app\",\n",
    "                                                \"config\" : adult_anchor_config})\n",
    "print(response.text)"
   ]
  },
  {
   "cell_type": "code",
   "execution_count": 118,
   "metadata": {
    "ExecuteTime": {
     "end_time": "2019-06-20T09:16:52.779542Z",
     "start_time": "2019-06-20T09:16:52.776061Z"
    }
   },
   "outputs": [
    {
     "data": {
      "text/plain": [
       "[45, 4, 4, 2, 6, 3, 4, 1, 2, 2, 45, 9]"
      ]
     },
     "execution_count": 118,
     "metadata": {},
     "output_type": "execute_result"
    }
   ],
   "source": [
    "x.tolist()"
   ]
  },
  {
   "cell_type": "markdown",
   "metadata": {},
   "source": [
    "### Example 3"
   ]
  },
  {
   "cell_type": "code",
   "execution_count": 97,
   "metadata": {
    "ExecuteTime": {
     "end_time": "2019-04-24T09:00:36.200159Z",
     "start_time": "2019-04-24T09:00:36.195535Z"
    }
   },
   "outputs": [
    {
     "name": "stdout",
     "output_type": "stream",
     "text": [
      "Age               37\n",
      "Workclass          4\n",
      "Education          4\n",
      "Marital Status     2\n",
      "Occupation         2\n",
      "Relationship       2\n",
      "Race               2\n",
      "Sex                1\n",
      "Capital Gain       2\n",
      "Capital Loss       2\n",
      "Hours per week    40\n",
      "Country            9\n",
      "Name: 21521, dtype: int64\n"
     ]
    }
   ],
   "source": [
    "idx = np.random.choice(range(test_X.shape[0]))\n",
    "x = test_X.iloc[idx]\n",
    "print(x)"
   ]
  },
  {
   "cell_type": "code",
   "execution_count": 98,
   "metadata": {
    "ExecuteTime": {
     "end_time": "2019-04-24T09:00:36.515964Z",
     "start_time": "2019-04-24T09:00:36.202465Z"
    }
   },
   "outputs": [
    {
     "name": "stdout",
     "output_type": "stream",
     "text": [
      "Predicted label is  <=50K\n"
     ]
    }
   ],
   "source": [
    "response = requests.post(url=service_link, json=make_signatured_json(pd.DataFrame(x).T))\n",
    "prediction = np.array(response.json()[\"Prediction\"])\n",
    "print(f\"Predicted label is {class_names[prediction[0][0]]}\")"
   ]
  },
  {
   "cell_type": "code",
   "execution_count": 99,
   "metadata": {
    "ExecuteTime": {
     "end_time": "2019-04-24T09:02:20.555043Z",
     "start_time": "2019-04-24T09:00:36.517387Z"
    },
    "scrolled": true
   },
   "outputs": [
    {
     "name": "stdout",
     "output_type": "stream",
     "text": [
      "{\n",
      "  \"coverage\": 0.03, \n",
      "  \"explanation\": \"Relationship ==  Other-relative\", \n",
      "  \"precision\": 0.993\n",
      "}\n",
      "\n"
     ]
    }
   ],
   "source": [
    "response = requests.post(url=anchor_link, json={\"explained_instance\": x.tolist(),\n",
    "                                                \"application_name\" : \"adult-salary-app\",\n",
    "                                                \"config\" : adult_anchor_config})\n",
    "print(response.text)"
   ]
  }
 ],
 "metadata": {
  "kernelspec": {
   "display_name": "Python 3",
   "language": "python",
   "name": "python3"
  },
  "language_info": {
   "codemirror_mode": {
    "name": "ipython",
    "version": 3
   },
   "file_extension": ".py",
   "mimetype": "text/x-python",
   "name": "python",
   "nbconvert_exporter": "python",
   "pygments_lexer": "ipython3",
   "version": "3.7.2"
  }
 },
 "nbformat": 4,
 "nbformat_minor": 2
}
