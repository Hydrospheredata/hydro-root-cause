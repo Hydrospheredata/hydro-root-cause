{
 "cells": [
  {
   "cell_type": "markdown",
   "metadata": {},
   "source": [
    "import libraries"
   ]
  },
  {
   "cell_type": "code",
   "execution_count": 2,
   "metadata": {
    "ExecuteTime": {
     "end_time": "2019-04-24T08:26:01.682505Z",
     "start_time": "2019-04-24T08:25:59.538833Z"
    }
   },
   "outputs": [],
   "source": [
    "import tensorflow as tf  # Only used as a asource of MNIST data\n",
    "import requests\n",
    "import numpy as np\n",
    "import matplotlib.pyplot as plt"
   ]
  },
  {
   "cell_type": "markdown",
   "metadata": {},
   "source": [
    "Get MNIST data"
   ]
  },
  {
   "cell_type": "code",
   "execution_count": 3,
   "metadata": {
    "ExecuteTime": {
     "end_time": "2019-04-24T08:26:03.091205Z",
     "start_time": "2019-04-24T08:26:02.804384Z"
    }
   },
   "outputs": [],
   "source": [
    "(x_train, y_train), (x_test, y_test) = tf.keras.datasets.mnist.load_data()"
   ]
  },
  {
   "cell_type": "markdown",
   "metadata": {},
   "source": [
    "Select random image from the test part of MNIST"
   ]
  },
  {
   "cell_type": "code",
   "execution_count": 4,
   "metadata": {
    "ExecuteTime": {
     "end_time": "2019-04-24T08:26:03.776651Z",
     "start_time": "2019-04-24T08:26:03.683970Z"
    }
   },
   "outputs": [
    {
     "data": {
      "text/plain": [
       "Text(0.5, 1.0, \"Digit '3'\")"
      ]
     },
     "execution_count": 4,
     "metadata": {},
     "output_type": "execute_result"
    },
    {
     "data": {
      "image/png": "[encoded data removed]",
      "text/plain": [
       "<Figure size 432x288 with 1 Axes>"
      ]
     },
     "metadata": {
      "needs_background": "light"
     },
     "output_type": "display_data"
    }
   ],
   "source": [
    "idx = np.random.choice(range(x_test.shape[0]))\n",
    "x = x_test[idx]\n",
    "plt.imshow(x)\n",
    "plt.axis('off')\n",
    "plt.title(f\"Digit '{y_test[idx]}'\")"
   ]
  },
  {
   "cell_type": "markdown",
   "metadata": {},
   "source": [
    "Specify the inference link to the hydrosphere.io"
   ]
  },
  {
   "cell_type": "code",
   "execution_count": 5,
   "metadata": {
    "ExecuteTime": {
     "end_time": "2019-04-24T08:26:06.553040Z",
     "start_time": "2019-04-24T08:26:06.550563Z"
    }
   },
   "outputs": [],
   "source": [
    "service_link = \"https://dev.k8s.hydrosphere.io/gateway/application/mnist-app\""
   ]
  },
  {
   "cell_type": "markdown",
   "metadata": {
    "ExecuteTime": {
     "end_time": "2019-04-08T12:47:00.304915Z",
     "start_time": "2019-04-08T12:47:00.300973Z"
    }
   },
   "source": [
    "Check the inference service"
   ]
  },
  {
   "cell_type": "code",
   "execution_count": 6,
   "metadata": {
    "ExecuteTime": {
     "end_time": "2019-04-24T08:26:09.106205Z",
     "start_time": "2019-04-24T08:26:08.697319Z"
    }
   },
   "outputs": [
    {
     "data": {
      "text/plain": [
       "'Predicted label is 3'"
      ]
     },
     "execution_count": 6,
     "metadata": {},
     "output_type": "execute_result"
    }
   ],
   "source": [
    "response = requests.post(url=service_link, json={\"imgs\": [x.tolist()]})\n",
    "predicted_probas = np.array(response.json()[\"probabilities\"])\n",
    "f\"Predicted label is {predicted_probas.argmax()}\""
   ]
  },
  {
   "cell_type": "markdown",
   "metadata": {},
   "source": [
    "Specify the link to the RISE image interpretability service"
   ]
  },
  {
   "cell_type": "code",
   "execution_count": 10,
   "metadata": {
    "ExecuteTime": {
     "end_time": "2019-04-24T08:26:36.671105Z",
     "start_time": "2019-04-24T08:26:36.668845Z"
    }
   },
   "outputs": [],
   "source": [
    "rise_link = \"http://0.0.0.0:5000/rise\" "
   ]
  },
  {
   "cell_type": "code",
   "execution_count": 13,
   "metadata": {
    "ExecuteTime": {
     "end_time": "2019-04-24T08:30:24.880180Z",
     "start_time": "2019-04-24T08:30:24.877243Z"
    }
   },
   "outputs": [],
   "source": [
    "rise_config = {\"number_of_masks\":300,\n",
    "               \"mask_granularity\":3,\n",
    "               \"mask_density\":0.4,\n",
    "               \"input_size\": [28,28],\n",
    "               \"single_channel\": True,\n",
    "               \"application_name\":\"mnist-app\"}"
   ]
  },
  {
   "cell_type": "code",
   "execution_count": 15,
   "metadata": {
    "ExecuteTime": {
     "end_time": "2019-04-24T08:31:15.713364Z",
     "start_time": "2019-04-24T08:31:05.956363Z"
    }
   },
   "outputs": [],
   "source": [
    "response = requests.post(url=rise_link, json={\"image\": x.tolist(), \"config\": rise_config})  # Send image in json\n",
    "saliency_maps  = np.array(response.json())  # Response contains multiple saliency maps - one for each class"
   ]
  },
  {
   "cell_type": "markdown",
   "metadata": {},
   "source": [
    "The result cllection of masks is of shape (number of classes; width; height). It contains a sailency map for each output class."
   ]
  },
  {
   "cell_type": "code",
   "execution_count": 16,
   "metadata": {
    "ExecuteTime": {
     "end_time": "2019-04-24T08:31:19.533504Z",
     "start_time": "2019-04-24T08:31:19.529995Z"
    }
   },
   "outputs": [
    {
     "data": {
      "text/plain": [
       "(10, 28, 28)"
      ]
     },
     "execution_count": 16,
     "metadata": {},
     "output_type": "execute_result"
    }
   ],
   "source": [
    "saliency_maps.shape"
   ]
  },
  {
   "cell_type": "markdown",
   "metadata": {},
   "source": [
    "Check the predicted probabilities again"
   ]
  },
  {
   "cell_type": "code",
   "execution_count": 17,
   "metadata": {
    "ExecuteTime": {
     "end_time": "2019-04-24T08:31:20.322166Z",
     "start_time": "2019-04-24T08:31:20.318245Z"
    }
   },
   "outputs": [
    {
     "data": {
      "text/plain": [
       "array([[0., 0., 0., 1., 0., 0., 0., 0., 0., 0.]])"
      ]
     },
     "execution_count": 17,
     "metadata": {},
     "output_type": "execute_result"
    }
   ],
   "source": [
    "predicted_probas"
   ]
  },
  {
   "cell_type": "markdown",
   "metadata": {},
   "source": [
    "Visualize results"
   ]
  },
  {
   "cell_type": "code",
   "execution_count": 18,
   "metadata": {
    "ExecuteTime": {
     "end_time": "2019-04-24T08:31:21.569779Z",
     "start_time": "2019-04-24T08:31:21.162474Z"
    }
   },
   "outputs": [
    {
     "data": {
      "image/png": "[encoded data removed]",
      "text/plain": [
       "<Figure size 1080x432 with 10 Axes>"
      ]
     },
     "metadata": {
      "needs_background": "light"
     },
     "output_type": "display_data"
    }
   ],
   "source": [
    "fig, axes = plt.subplots(1, 10)\n",
    "fig.set_size_inches(15, 6)\n",
    "for i in range(10):\n",
    "    axes[i].set_title(f\"{i}, proba: {predicted_probas[0][i]*100}% \")\n",
    "    axes[i].axis('off')\n",
    "    axes[i].imshow(x, cmap=\"gray\")\n",
    "    axes[i].imshow(saliency_maps[i], cmap='jet', alpha=0.5)\n",
    "    \n",
    "plt.tight_layout()\n",
    "plt.show()"
   ]
  }
 ],
 "metadata": {
  "kernelspec": {
   "display_name": "Python 3",
   "language": "python",
   "name": "python3"
  }
 },
 "nbformat": 4,
 "nbformat_minor": 2
}
