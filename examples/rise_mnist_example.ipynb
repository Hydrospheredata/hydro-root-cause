{
 "cells": [
  {
   "cell_type": "markdown",
   "metadata": {},
   "source": [
    "import libraries"
   ]
  },
  {
   "cell_type": "code",
   "execution_count": 73,
   "metadata": {
    "ExecuteTime": {
     "end_time": "2019-05-28T11:32:15.488383Z",
     "start_time": "2019-05-28T11:32:15.484261Z"
    }
   },
   "outputs": [],
   "source": [
    "import tensorflow as tf  # Only used as a asource of MNIST data\n",
    "import requests\n",
    "import numpy as np\n",
    "import matplotlib.pyplot as plt"
   ]
  },
  {
   "cell_type": "markdown",
   "metadata": {},
   "source": [
    "Get MNIST data"
   ]
  },
  {
   "cell_type": "code",
   "execution_count": 74,
   "metadata": {
    "ExecuteTime": {
     "end_time": "2019-05-28T11:32:16.358424Z",
     "start_time": "2019-05-28T11:32:16.103788Z"
    }
   },
   "outputs": [],
   "source": [
    "(x_train, y_train), (x_test, y_test) = tf.keras.datasets.mnist.load_data()"
   ]
  },
  {
   "cell_type": "markdown",
   "metadata": {},
   "source": [
    "Select random image from the test part of MNIST"
   ]
  },
  {
   "cell_type": "code",
   "execution_count": 75,
   "metadata": {
    "ExecuteTime": {
     "end_time": "2019-05-28T11:32:17.036695Z",
     "start_time": "2019-05-28T11:32:16.922499Z"
    }
   },
   "outputs": [
    {
     "data": {
      "text/plain": [
       "Text(0.5, 1.0, \"Digit '8'\")"
      ]
     },
     "execution_count": 75,
     "metadata": {},
     "output_type": "execute_result"
    },
    {
     "data": {
      "image/png": "[encoded data removed]",
      "text/plain": [
       "<Figure size 432x288 with 1 Axes>"
      ]
     },
     "metadata": {
      "needs_background": "light"
     },
     "output_type": "display_data"
    }
   ],
   "source": [
    "idx = np.random.choice(range(x_test.shape[0]))\n",
    "x = x_test[idx]\n",
    "plt.imshow(x)\n",
    "plt.axis('off')\n",
    "plt.title(f\"Digit '{y_test[idx]}'\")"
   ]
  },
  {
   "cell_type": "markdown",
   "metadata": {},
   "source": [
    "Specify the inference link to the hydrosphere.io"
   ]
  },
  {
   "cell_type": "code",
   "execution_count": 76,
   "metadata": {
    "ExecuteTime": {
     "end_time": "2019-05-28T11:32:34.146853Z",
     "start_time": "2019-05-28T11:32:34.144377Z"
    }
   },
   "outputs": [],
   "source": [
    "# service_link = \"https://dev.k8s.hydrosphere.io/gateway/application/mnist-app\"\n",
    "service_link = \"http://fc13d681.serving.odsc.k8s.hydrosphere.io/gateway/application/mnist_app\""
   ]
  },
  {
   "cell_type": "markdown",
   "metadata": {
    "ExecuteTime": {
     "end_time": "2019-04-08T12:47:00.304915Z",
     "start_time": "2019-04-08T12:47:00.300973Z"
    }
   },
   "source": [
    "Check the inference service"
   ]
  },
  {
   "cell_type": "code",
   "execution_count": 77,
   "metadata": {
    "ExecuteTime": {
     "end_time": "2019-05-28T11:32:36.075447Z",
     "start_time": "2019-05-28T11:32:35.645453Z"
    }
   },
   "outputs": [
    {
     "data": {
      "text/plain": [
       "'Predicted label is 8'"
      ]
     },
     "execution_count": 77,
     "metadata": {},
     "output_type": "execute_result"
    }
   ],
   "source": [
    "response = requests.post(url=service_link, json={\"imgs\": [x.tolist()]})\n",
    "predicted_probas = np.array(response.json()[\"probabilities\"])\n",
    "f\"Predicted label is {predicted_probas.argmax()}\""
   ]
  },
  {
   "cell_type": "code",
   "execution_count": 80,
   "metadata": {
    "ExecuteTime": {
     "end_time": "2019-05-28T11:32:50.032047Z",
     "start_time": "2019-05-28T11:32:50.028053Z"
    }
   },
   "outputs": [
    {
     "name": "stdout",
     "output_type": "stream",
     "text": [
      "Probabilities vector [[0. 0. 0. 0. 0. 0. 0. 0. 1. 0. 0. 0. 0. 0. 0. 0. 0. 0. 0. 0.]]\n"
     ]
    }
   ],
   "source": [
    "print(\"Probabilities vector\", np.array(response.json()['probabilities']))"
   ]
  },
  {
   "cell_type": "markdown",
   "metadata": {},
   "source": [
    "Specify the link to the RISE image interpretability service"
   ]
  },
  {
   "cell_type": "code",
   "execution_count": 81,
   "metadata": {
    "ExecuteTime": {
     "end_time": "2019-05-28T11:32:57.532003Z",
     "start_time": "2019-05-28T11:32:57.529478Z"
    }
   },
   "outputs": [],
   "source": [
    "rise_link = \"http://0.0.0.0:5000/rise\" "
   ]
  },
  {
   "cell_type": "code",
   "execution_count": 82,
   "metadata": {
    "ExecuteTime": {
     "end_time": "2019-05-28T11:32:58.540440Z",
     "start_time": "2019-05-28T11:32:58.537372Z"
    }
   },
   "outputs": [],
   "source": [
    "rise_config = {\"number_of_masks\":300,\n",
    "               \"mask_granularity\":3,\n",
    "               \"mask_density\":0.4,\n",
    "               \"input_size\": [28,28],\n",
    "               \"single_channel\": True,\n",
    "               }"
   ]
  },
  {
   "cell_type": "code",
   "execution_count": 113,
   "metadata": {
    "ExecuteTime": {
     "end_time": "2019-05-28T11:51:13.898973Z",
     "start_time": "2019-05-28T11:51:13.882816Z"
    }
   },
   "outputs": [
    {
     "name": "stdout",
     "output_type": "stream",
     "text": [
      "<Response [202]>\n",
      "http://0.0.0.0:5000/status/rise/f5f45d26-7265-4ec4-95f9-f664ccf8a858\n"
     ]
    }
   ],
   "source": [
    "response = requests.post(url=rise_link, json={\"image\": x.tolist(),\n",
    "                                              \"config\": rise_config,\n",
    "                                              \"application_name\":\"mnist_app\"})  # Send image in json\n",
    "print(response)\n",
    "result_location = response.headers['Location']\n",
    "print(result_location)"
   ]
  },
  {
   "cell_type": "markdown",
   "metadata": {},
   "source": [
    "Poll results"
   ]
  },
  {
   "cell_type": "code",
   "execution_count": 114,
   "metadata": {
    "ExecuteTime": {
     "end_time": "2019-05-28T11:51:14.562387Z",
     "start_time": "2019-05-28T11:51:14.553527Z"
    }
   },
   "outputs": [
    {
     "name": "stdout",
     "output_type": "stream",
     "text": [
      "{\n",
      "  \"state\": \"PENDING\"\n",
      "}\n",
      "\n"
     ]
    }
   ],
   "source": [
    "# First status\n",
    "response = requests.get(result_location)\n",
    "print(response.text)"
   ]
  },
  {
   "cell_type": "code",
   "execution_count": 105,
   "metadata": {
    "ExecuteTime": {
     "end_time": "2019-05-28T11:50:20.278564Z",
     "start_time": "2019-05-28T11:50:20.257579Z"
    }
   },
   "outputs": [
    {
     "name": "stdout",
     "output_type": "stream",
     "text": [
      "{\n",
      "  \"progress\": 0.3333333333333333, \n",
      "  \"state\": \"STARTED\"\n",
      "}\n",
      "\n"
     ]
    }
   ],
   "source": [
    "# Second status with dynamic progress\n",
    "response = requests.get(result_location)\n",
    "print(response.text)"
   ]
  },
  {
   "cell_type": "code",
   "execution_count": 116,
   "metadata": {
    "ExecuteTime": {
     "end_time": "2019-05-28T11:52:47.408174Z",
     "start_time": "2019-05-28T11:52:47.398023Z"
    }
   },
   "outputs": [
    {
     "name": "stdout",
     "output_type": "stream",
     "text": [
      "{\n",
      "  \"result\": \"5ced20b150e480eeeb62daaf\", \n",
      "  \"state\": \"SUCCESS\"\n",
      "}\n",
      "\n"
     ]
    }
   ],
   "source": [
    "# Last status with id of mongodb entry\n",
    "response = requests.get(result_location)\n",
    "result_id = response.json()['result']\n",
    "print(response.text)"
   ]
  },
  {
   "cell_type": "markdown",
   "metadata": {},
   "source": [
    "Retrieve results from MongoDB"
   ]
  },
  {
   "cell_type": "code",
   "execution_count": 117,
   "metadata": {
    "ExecuteTime": {
     "end_time": "2019-05-28T11:52:50.204355Z",
     "start_time": "2019-05-28T11:52:50.200126Z"
    }
   },
   "outputs": [],
   "source": [
    "import pymongo \n",
    "client = pymongo.MongoClient()"
   ]
  },
  {
   "cell_type": "code",
   "execution_count": 121,
   "metadata": {
    "ExecuteTime": {
     "end_time": "2019-05-28T11:53:45.265614Z",
     "start_time": "2019-05-28T11:53:45.259861Z"
    }
   },
   "outputs": [],
   "source": [
    "from bson.objectid import ObjectId\n",
    "explanation = client['root_cause'].rise_explanations.find_one({\"_id\":ObjectId(result_id)})"
   ]
  },
  {
   "cell_type": "code",
   "execution_count": 123,
   "metadata": {
    "ExecuteTime": {
     "end_time": "2019-05-28T11:54:12.675062Z",
     "start_time": "2019-05-28T11:54:12.671379Z"
    }
   },
   "outputs": [
    {
     "data": {
      "text/plain": [
       "dict_keys(['_id', 'image', 'config', 'application_name', 'created_at', 'completed_at', 'result'])"
      ]
     },
     "execution_count": 123,
     "metadata": {},
     "output_type": "execute_result"
    }
   ],
   "source": [
    "# Examine the keys\n",
    "explanation.keys()"
   ]
  },
  {
   "cell_type": "code",
   "execution_count": 127,
   "metadata": {
    "ExecuteTime": {
     "end_time": "2019-05-28T12:01:41.760774Z",
     "start_time": "2019-05-28T12:01:41.640399Z"
    }
   },
   "outputs": [
    {
     "data": {
      "text/plain": [
       "<matplotlib.image.AxesImage at 0x13aee46a0>"
      ]
     },
     "execution_count": 127,
     "metadata": {},
     "output_type": "execute_result"
    },
    {
     "data": {
      "image/png": "[encoded data removed]",
      "text/plain": [
       "<Figure size 432x288 with 1 Axes>"
      ]
     },
     "metadata": {
      "needs_background": "light"
     },
     "output_type": "display_data"
    }
   ],
   "source": [
    "image = np.array(explanation['image'])\n",
    "plt.imshow(image)"
   ]
  },
  {
   "cell_type": "markdown",
   "metadata": {},
   "source": [
    "Reconstruct the saliency map tensor from bstring. The result cllection of masks is of shape (number of classes; width; height). It contains a sailency map for each output class."
   ]
  },
  {
   "cell_type": "code",
   "execution_count": 155,
   "metadata": {
    "ExecuteTime": {
     "end_time": "2019-05-28T12:22:54.598020Z",
     "start_time": "2019-05-28T12:22:54.594125Z"
    }
   },
   "outputs": [
    {
     "data": {
      "text/plain": [
       "'\\x14/݄\\x16;~\\nݲ; 1O;V\\x15;16\\x0f;I\\x0cB^H;4'"
      ]
     },
     "execution_count": 155,
     "metadata": {},
     "output_type": "execute_result"
    }
   ],
   "source": [
    "explanation['result'][\"masks\"][:50].decode(\"utf-8\", 'ignore')"
   ]
  },
  {
   "cell_type": "code",
   "execution_count": 132,
   "metadata": {
    "ExecuteTime": {
     "end_time": "2019-05-28T12:14:18.157837Z",
     "start_time": "2019-05-28T12:14:18.153774Z"
    }
   },
   "outputs": [
    {
     "data": {
      "text/plain": [
       "(20, 28, 28)"
      ]
     },
     "execution_count": 132,
     "metadata": {},
     "output_type": "execute_result"
    }
   ],
   "source": [
    "saliency_maps = np.frombuffer(explanation['result']['masks']).reshape(explanation['result']['shape'])\n",
    "saliency_maps.shape  # For some mystic reason this version of mnist-app produces probabilites vector of 20-dim"
   ]
  },
  {
   "cell_type": "markdown",
   "metadata": {},
   "source": [
    "Visualize results"
   ]
  },
  {
   "cell_type": "code",
   "execution_count": 141,
   "metadata": {
    "ExecuteTime": {
     "end_time": "2019-05-28T12:20:57.377899Z",
     "start_time": "2019-05-28T12:20:56.969388Z"
    }
   },
   "outputs": [
    {
     "data": {
      "image/png": "[encoded data removed]",
      "text/plain": [
       "<Figure size 1080x432 with 10 Axes>"
      ]
     },
     "metadata": {
      "needs_background": "light"
     },
     "output_type": "display_data"
    }
   ],
   "source": [
    "fig, axes = plt.subplots(1, 10)\n",
    "fig.set_size_inches(15, 6)\n",
    "for i in range(10):\n",
    "    axes[i].set_title(f\"{i}, proba: {predicted_probas[0][i]*100}% \")\n",
    "    axes[i].axis('off')\n",
    "    axes[i].imshow(x, cmap=\"gray\")\n",
    "    axes[i].imshow(saliency_maps[i], cmap='jet', alpha=0.5)\n",
    "    \n",
    "plt.tight_layout()\n",
    "plt.show()"
   ]
  }
 ],
 "metadata": {
  "kernelspec": {
   "display_name": "Python 3",
   "language": "python",
   "name": "python3"
  },
  "language_info": {
   "codemirror_mode": {
    "name": "ipython",
    "version": 3
   },
   "file_extension": ".py",
   "mimetype": "text/x-python",
   "name": "python",
   "nbconvert_exporter": "python",
   "pygments_lexer": "ipython3",
   "version": "3.7.2"
  }
 },
 "nbformat": 4,
 "nbformat_minor": 2
}
