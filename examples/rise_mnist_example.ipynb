{
 "cells": [
  {
   "cell_type": "markdown",
   "metadata": {},
   "source": [
    "import libraries"
   ]
  },
  {
   "cell_type": "code",
   "execution_count": 1,
   "metadata": {
    "ExecuteTime": {
     "end_time": "2019-04-12T13:11:51.445521Z",
     "start_time": "2019-04-12T13:11:48.663620Z"
    }
   },
   "outputs": [
    {
     "name": "stderr",
     "output_type": "stream",
     "text": [
      "/anaconda3/lib/python3.6/site-packages/h5py/__init__.py:36: FutureWarning: Conversion of the second argument of issubdtype from `float` to `np.floating` is deprecated. In future, it will be treated as `np.float64 == np.dtype(float).type`.\n",
      "  from ._conv import register_converters as _register_converters\n"
     ]
    }
   ],
   "source": [
    "import tensorflow as tf  # Only used as a asource of MNIST data\n",
    "import requests\n",
    "import numpy as np\n",
    "import matplotlib.pyplot as plt"
   ]
  },
  {
   "cell_type": "markdown",
   "metadata": {},
   "source": [
    "Get MNIST data"
   ]
  },
  {
   "cell_type": "code",
   "execution_count": 2,
   "metadata": {
    "ExecuteTime": {
     "end_time": "2019-04-12T13:11:51.840629Z",
     "start_time": "2019-04-12T13:11:51.447435Z"
    }
   },
   "outputs": [],
   "source": [
    "(x_train, y_train), (x_test, y_test) = tf.keras.datasets.mnist.load_data()"
   ]
  },
  {
   "cell_type": "markdown",
   "metadata": {},
   "source": [
    "Select random image from the test part of MNIST"
   ]
  },
  {
   "cell_type": "code",
   "execution_count": 3,
   "metadata": {
    "ExecuteTime": {
     "end_time": "2019-04-12T13:11:51.983283Z",
     "start_time": "2019-04-12T13:11:51.842573Z"
    }
   },
   "outputs": [
    {
     "data": {
      "text/plain": [
       "Text(0.5, 1.0, \"Digit '7'\")"
      ]
     },
     "execution_count": 3,
     "metadata": {},
     "output_type": "execute_result"
    },
    {
     "data": {
      "image/png": "[encoded data removed]",
      "text/plain": [
       "<Figure size 432x288 with 1 Axes>"
      ]
     },
     "metadata": {},
     "output_type": "display_data"
    }
   ],
   "source": [
    "idx = np.random.choice(range(x_test.shape[0]))\n",
    "x = x_test[idx]\n",
    "plt.imshow(x)\n",
    "plt.axis('off')\n",
    "plt.title(f\"Digit '{y_test[idx]}'\")"
   ]
  },
  {
   "cell_type": "markdown",
   "metadata": {},
   "source": [
    "Specify the inference link to the hydrosphere.io"
   ]
  },
  {
   "cell_type": "code",
   "execution_count": 9,
   "metadata": {
    "ExecuteTime": {
     "end_time": "2019-04-12T13:12:31.897254Z",
     "start_time": "2019-04-12T13:12:31.894872Z"
    }
   },
   "outputs": [],
   "source": [
    "service_link = \"https://dev.k8s.hydrosphere.io/gateway/application/mnist-app\""
   ]
  },
  {
   "cell_type": "markdown",
   "metadata": {
    "ExecuteTime": {
     "end_time": "2019-04-08T12:47:00.304915Z",
     "start_time": "2019-04-08T12:47:00.300973Z"
    }
   },
   "source": [
    "Check the inference service"
   ]
  },
  {
   "cell_type": "code",
   "execution_count": 10,
   "metadata": {
    "ExecuteTime": {
     "end_time": "2019-04-12T13:12:32.651840Z",
     "start_time": "2019-04-12T13:12:32.324961Z"
    }
   },
   "outputs": [
    {
     "data": {
      "text/plain": [
       "'Predicted label is 7'"
      ]
     },
     "execution_count": 10,
     "metadata": {},
     "output_type": "execute_result"
    }
   ],
   "source": [
    "response = requests.post(url=service_link, json={\"imgs\": [x.tolist()]})\n",
    "predicted_probas = np.array(response.json()[\"probabilities\"])\n",
    "f\"Predicted label is {predicted_probas.argmax()}\""
   ]
  },
  {
   "cell_type": "markdown",
   "metadata": {},
   "source": [
    "Specify the link to the RISE image interpretability service"
   ]
  },
  {
   "cell_type": "code",
   "execution_count": 11,
   "metadata": {
    "ExecuteTime": {
     "end_time": "2019-04-12T13:12:35.533532Z",
     "start_time": "2019-04-12T13:12:35.531007Z"
    }
   },
   "outputs": [],
   "source": [
    "rise_link = \"http://0.0.0.0:5000/mnist\" "
   ]
  },
  {
   "cell_type": "markdown",
   "metadata": {},
   "source": [
    "RISE service is already configured for this application, we just need to pass explained image"
   ]
  },
  {
   "cell_type": "code",
   "execution_count": 13,
   "metadata": {
    "ExecuteTime": {
     "end_time": "2019-04-12T13:13:13.486941Z",
     "start_time": "2019-04-12T13:13:07.715690Z"
    }
   },
   "outputs": [],
   "source": [
    "response = requests.post(url=rise_link, json={\"imgs\": [x.tolist()]})  # Send image in json\n",
    "saliency_maps  = np.array(response.json())  # Response contains multiple saliency maps - one for each class"
   ]
  },
  {
   "cell_type": "markdown",
   "metadata": {},
   "source": [
    "The result cllection of masks is of shape (number of classes; width; height). It contains a sailency map for each output class."
   ]
  },
  {
   "cell_type": "code",
   "execution_count": 14,
   "metadata": {
    "ExecuteTime": {
     "end_time": "2019-04-12T13:13:38.793570Z",
     "start_time": "2019-04-12T13:13:38.790199Z"
    }
   },
   "outputs": [
    {
     "data": {
      "text/plain": [
       "(10, 28, 28)"
      ]
     },
     "execution_count": 14,
     "metadata": {},
     "output_type": "execute_result"
    }
   ],
   "source": [
    "saliency_maps.shape"
   ]
  },
  {
   "cell_type": "markdown",
   "metadata": {},
   "source": [
    "Check the predicted probabilities again"
   ]
  },
  {
   "cell_type": "code",
   "execution_count": 15,
   "metadata": {
    "ExecuteTime": {
     "end_time": "2019-04-12T13:13:39.489647Z",
     "start_time": "2019-04-12T13:13:39.485676Z"
    }
   },
   "outputs": [
    {
     "data": {
      "text/plain": [
       "array([[0., 0., 0., 0., 0., 0., 0., 1., 0., 0.]])"
      ]
     },
     "execution_count": 15,
     "metadata": {},
     "output_type": "execute_result"
    }
   ],
   "source": [
    "predicted_probas"
   ]
  },
  {
   "cell_type": "markdown",
   "metadata": {},
   "source": [
    "Visualize results"
   ]
  },
  {
   "cell_type": "code",
   "execution_count": 16,
   "metadata": {
    "ExecuteTime": {
     "end_time": "2019-04-12T13:13:40.617934Z",
     "start_time": "2019-04-12T13:13:40.148690Z"
    }
   },
   "outputs": [
    {
     "data": {
      "image/png": "[encoded data removed]",
      "text/plain": [
       "<Figure size 1080x432 with 10 Axes>"
      ]
     },
     "metadata": {},
     "output_type": "display_data"
    }
   ],
   "source": [
    "fig, axes = plt.subplots(1, 10)\n",
    "fig.set_size_inches(15, 6)\n",
    "for i in range(10):\n",
    "    axes[i].set_title(f\"{i}, proba: {predicted_probas[0][i]*100}% \")\n",
    "    axes[i].axis('off')\n",
    "    axes[i].imshow(x, cmap=\"gray\")\n",
    "    axes[i].imshow(saliency_maps[i], cmap='jet', alpha=0.5)\n",
    "    \n",
    "plt.tight_layout()\n",
    "plt.show()"
   ]
  }
 ],
 "metadata": {
  "kernelspec": {
   "display_name": "Python 3",
   "language": "python",
   "name": "python3"
  },
  "language_info": {
   "codemirror_mode": {
    "name": "ipython",
    "version": 3
   },
   "file_extension": ".py",
   "mimetype": "text/x-python",
   "name": "python",
   "nbconvert_exporter": "python",
   "pygments_lexer": "ipython3",
   "version": "3.6.8"
  }
 },
 "nbformat": 4,
 "nbformat_minor": 2
}
