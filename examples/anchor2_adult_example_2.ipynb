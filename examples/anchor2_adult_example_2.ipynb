{
 "cells": [
  {
   "cell_type": "markdown",
   "metadata": {},
   "source": [
    "Load libraries"
   ]
  },
  {
   "cell_type": "code",
   "execution_count": 1,
   "metadata": {
    "ExecuteTime": {
     "end_time": "2019-04-18T07:42:00.519310Z",
     "start_time": "2019-04-18T07:41:59.377649Z"
    }
   },
   "outputs": [],
   "source": [
    "import os\n",
    "\n",
    "import matplotlib.pyplot as plt\n",
    "import numpy as np\n",
    "import pandas as pd\n",
    "import sklearn\n",
    "import requests\n",
    "import time\n",
    "from tqdm import tqdm_notebook as tqdm"
   ]
  },
  {
   "cell_type": "code",
   "execution_count": 2,
   "metadata": {
    "ExecuteTime": {
     "end_time": "2019-04-18T07:42:01.538026Z",
     "start_time": "2019-04-18T07:42:00.521230Z"
    }
   },
   "outputs": [],
   "source": [
    "from sklearn.preprocessing import LabelEncoder\n",
    "import sklearn.model_selection"
   ]
  },
  {
   "cell_type": "markdown",
   "metadata": {
    "ExecuteTime": {
     "end_time": "2019-04-08T13:15:46.853274Z",
     "start_time": "2019-04-08T13:15:46.850465Z"
    }
   },
   "source": [
    "Get adult data"
   ]
  },
  {
   "cell_type": "code",
   "execution_count": 3,
   "metadata": {
    "ExecuteTime": {
     "end_time": "2019-04-18T07:42:02.118776Z",
     "start_time": "2019-04-18T07:42:01.539896Z"
    }
   },
   "outputs": [],
   "source": [
    "# Helepr function to process the data\n",
    "def map_array_values(series, value_map):\n",
    "    if series.dtype == 'object':\n",
    "        ret = series.str.strip().copy()\n",
    "    else:\n",
    "        ret = series.copy()\n",
    "    for src, target in value_map.items():\n",
    "        ret[ret == src] = target\n",
    "    return ret\n",
    "\n",
    "\n",
    "# Readble feature names\n",
    "feature_names = [\"Age\", \"Workclass\", \"fnlwgt\", \"Education\",\n",
    "                 \"Education-Num\", \"Marital Status\", \"Occupation\",\n",
    "                 \"Relationship\", \"Race\", \"Sex\", \"Capital Gain\",\n",
    "                 \"Capital Loss\", \"Hours per week\", \"Country\", 'Income']\n",
    "features_to_use = [0, 1, 3, 5, 6, 7, 8, 9, 10, 11, 12, 13]\n",
    "categorical_features = [1, 3, 5, 6, 7, 8, 9, 10, 11, 13]\n",
    "education_map = {\n",
    "    '10th': 'Dropout', '11th': 'Dropout', '12th': 'Dropout', '1st-4th':\n",
    "        'Dropout', '5th-6th': 'Dropout', '7th-8th': 'Dropout', '9th':\n",
    "        'Dropout', 'Preschool': 'Dropout', 'HS-grad': 'High School grad',\n",
    "    'Some-college': 'High School grad', 'Masters': 'Masters',\n",
    "    'Prof-school': 'Prof-School', 'Assoc-acdm': 'Associates',\n",
    "    'Assoc-voc': 'Associates',\n",
    "}\n",
    "occupation_map = {\n",
    "    \"Adm-clerical\": \"Admin\", \"Armed-Forces\": \"Military\",\n",
    "    \"Craft-repair\": \"Blue-Collar\", \"Exec-managerial\": \"White-Collar\",\n",
    "    \"Farming-fishing\": \"Blue-Collar\", \"Handlers-cleaners\":\n",
    "        \"Blue-Collar\", \"Machine-op-inspct\": \"Blue-Collar\", \"Other-service\":\n",
    "        \"Service\", \"Priv-house-serv\": \"Service\", \"Prof-specialty\":\n",
    "        \"Professional\", \"Protective-serv\": \"Other\", \"Sales\":\n",
    "        \"Sales\", \"Tech-support\": \"Other\", \"Transport-moving\":\n",
    "        \"Blue-Collar\",\n",
    "}\n",
    "country_map = {\n",
    "    'Cambodia': 'SE-Asia', 'Canada': 'British-Commonwealth', 'China':\n",
    "        'China', 'Columbia': 'South-America', 'Cuba': 'Other',\n",
    "    'Dominican-Republic': 'Latin-America', 'Ecuador': 'South-America',\n",
    "    'El-Salvador': 'South-America', 'England': 'British-Commonwealth',\n",
    "    'France': 'Euro_1', 'Germany': 'Euro_1', 'Greece': 'Euro_2',\n",
    "    'Guatemala': 'Latin-America', 'Haiti': 'Latin-America',\n",
    "    'Holand-Netherlands': 'Euro_1', 'Honduras': 'Latin-America',\n",
    "    'Hong': 'China', 'Hungary': 'Euro_2', 'India':\n",
    "        'British-Commonwealth', 'Iran': 'Other', 'Ireland':\n",
    "        'British-Commonwealth', 'Italy': 'Euro_1', 'Jamaica':\n",
    "        'Latin-America', 'Japan': 'Other', 'Laos': 'SE-Asia', 'Mexico':\n",
    "        'Latin-America', 'Nicaragua': 'Latin-America',\n",
    "    'Outlying-US(Guam-USVI-etc)': 'Latin-America', 'Peru':\n",
    "        'South-America', 'Philippines': 'SE-Asia', 'Poland': 'Euro_2',\n",
    "    'Portugal': 'Euro_2', 'Puerto-Rico': 'Latin-America', 'Scotland':\n",
    "        'British-Commonwealth', 'South': 'Euro_2', 'Taiwan': 'China',\n",
    "    'Thailand': 'SE-Asia', 'Trinadad&Tobago': 'Latin-America',\n",
    "    'United-States': 'United-States', 'Vietnam': 'SE-Asia'\n",
    "}\n",
    "married_map = {\n",
    "    'Never-married': 'Never-Married', 'Married-AF-spouse': 'Married',\n",
    "    'Married-civ-spouse': 'Married', 'Married-spouse-absent':\n",
    "        'Separated', 'Separated': 'Separated', 'Divorced':\n",
    "        'Separated', 'Widowed': 'Widowed'\n",
    "}\n",
    "\n",
    "\n",
    "# Transform Continiouse Cap Gains into the discrete variable\n",
    "def cap_gains_fn(x):\n",
    "    x = x.astype(float)\n",
    "    d = np.digitize(x, [0, np.median(x[x > 0]), float('inf')], right=True)\n",
    "    new_series = pd.Series([\"None\"] * len(d))\n",
    "    new_series[d == 0] = 'None'\n",
    "    new_series[d == 1] = 'Low'\n",
    "    new_series[d == 2] = 'High'\n",
    "    return new_series\n",
    "\n",
    "# Specify transofrmations for each column\n",
    "transformations = {\n",
    "    'Education': lambda x: map_array_values(x, education_map),\n",
    "    'Marital Status': lambda x: map_array_values(x, married_map),\n",
    "    'Occupation': lambda x: map_array_values(x, occupation_map),\n",
    "    'Capital Gain': cap_gains_fn,\n",
    "    'Capital Loss': cap_gains_fn,\n",
    "    'Country': lambda x: map_array_values(x, country_map),\n",
    "}\n",
    "\n",
    "# Load df\n",
    "df = pd.read_csv(\"../anchor2/anchor2/examples/data/adult/adult.data\", header=None)\n",
    "df.columns = feature_names\n",
    "target_labels = pd.Series(df.iloc[:, -1], index=df.index)\n",
    "df = df.iloc[:, features_to_use]\n",
    "df.dropna(inplace=True)\n",
    "\n",
    "# Transform features\n",
    "for feature, fun in transformations.items():\n",
    "    df[feature] = fun(df[feature])\n",
    "\n",
    "# Store dictionary with {Category id -> category classes}\n",
    "categorical_features_idx = [1, 2, 3, 4, 5, 6, 7, 8, 9, 11]\n",
    "categorical_names = {}  # Dictionary with (Category id -> category classes)\n",
    "for f_idx in categorical_features_idx:\n",
    "    le = LabelEncoder()\n",
    "    df.iloc[:, f_idx] = le.fit_transform(df.iloc[:, f_idx])\n",
    "    categorical_names[f_idx] = le.classes_\n",
    "\n",
    "# Encode target label\n",
    "le = LabelEncoder()\n",
    "target_labels = le.fit_transform(target_labels)\n",
    "class_names = list(le.classes_)\n",
    "\n",
    "# Split the dataset into train\\val\\test\n",
    "train_X, rest_X, train_y, rest_y = sklearn.model_selection.train_test_split(df, target_labels, stratify=target_labels,\n",
    "                                                                            test_size=0.5, random_state=42)\n",
    "val_X, test_X, val_y, test_y = sklearn.model_selection.train_test_split(rest_X, rest_y, stratify=rest_y,\n",
    "                                                                        test_size=0.5, random_state=42)"
   ]
  },
  {
   "cell_type": "markdown",
   "metadata": {},
   "source": [
    "Check random sample"
   ]
  },
  {
   "cell_type": "code",
   "execution_count": 4,
   "metadata": {
    "ExecuteTime": {
     "end_time": "2019-04-18T07:42:02.126445Z",
     "start_time": "2019-04-18T07:42:02.120547Z"
    }
   },
   "outputs": [
    {
     "name": "stdout",
     "output_type": "stream",
     "text": [
      "Age               38\n",
      "Workclass          4\n",
      "Education          4\n",
      "Marital Status     1\n",
      "Occupation         7\n",
      "Relationship       3\n",
      "Race               2\n",
      "Sex                1\n",
      "Capital Gain       2\n",
      "Capital Loss       2\n",
      "Hours per week    40\n",
      "Country            9\n",
      "Name: 17839, dtype: int64\n"
     ]
    }
   ],
   "source": [
    "idx = np.random.choice(range(test_X.shape[0]))\n",
    "x = test_X.iloc[idx]\n",
    "print(x)"
   ]
  },
  {
   "cell_type": "markdown",
   "metadata": {
    "ExecuteTime": {
     "end_time": "2019-04-08T13:28:57.387064Z",
     "start_time": "2019-04-08T13:28:57.384800Z"
    }
   },
   "source": [
    "Specify the hydrosphere inference endpoint"
   ]
  },
  {
   "cell_type": "code",
   "execution_count": 5,
   "metadata": {
    "ExecuteTime": {
     "end_time": "2019-04-18T07:42:02.725781Z",
     "start_time": "2019-04-18T07:42:02.723497Z"
    }
   },
   "outputs": [],
   "source": [
    "service_link = \"https://dev.k8s.hydrosphere.io/gateway/application/adult-salary-app\""
   ]
  },
  {
   "cell_type": "code",
   "execution_count": 6,
   "metadata": {
    "ExecuteTime": {
     "end_time": "2019-04-18T07:42:03.377336Z",
     "start_time": "2019-04-18T07:42:03.372764Z"
    }
   },
   "outputs": [],
   "source": [
    "# Function to store sample in a json with signature specified by Ilnur\n",
    "def make_signatured_json(sample):\n",
    "    output_json = {}\n",
    "    if type(sample) == pd.Series:\n",
    "        feature_names = sample.index\n",
    "        values = sample\n",
    "    else:\n",
    "        feature_names = [\n",
    "            \"Age\",\n",
    "            \"Workclass\",\n",
    "            \"Education\",\n",
    "            \"Marital Status\",\n",
    "            \"Occupation\",\n",
    "            \"Relationship\",\n",
    "            \"Race\",\n",
    "            \"Sex\",\n",
    "            \"Capital Gain\",\n",
    "            \"Capital Loss\",\n",
    "            \"Hours per week\",\n",
    "            \"Country\"]\n",
    "        values = sample\n",
    "        \n",
    "    for feature_idx, fname in enumerate(feature_names):\n",
    "        output_json[fname] = [int(v) for v in values.loc[:, fname]]\n",
    "    return output_json\n"
   ]
  },
  {
   "cell_type": "markdown",
   "metadata": {},
   "source": [
    "Get response for an example"
   ]
  },
  {
   "cell_type": "code",
   "execution_count": 7,
   "metadata": {
    "ExecuteTime": {
     "end_time": "2019-04-12T12:49:21.500316Z",
     "start_time": "2019-04-12T12:49:20.978429Z"
    },
    "deletable": false,
    "editable": false,
    "run_control": {
     "frozen": true
    }
   },
   "outputs": [
    {
     "name": "stdout",
     "output_type": "stream",
     "text": [
      "Predicted label is  <=50K\n"
     ]
    }
   ],
   "source": [
    "response = requests.post(url=service_link, json=make_signatured_json(test_X.iloc[idx]))\n",
    "prediction = np.array(response.json()[\"Prediction\"])\n",
    "print(f\"Predicted label is {class_names[prediction[0][0]]}\")"
   ]
  },
  {
   "cell_type": "code",
   "execution_count": 7,
   "metadata": {
    "ExecuteTime": {
     "end_time": "2019-04-18T07:42:06.952384Z",
     "start_time": "2019-04-18T07:42:06.400341Z"
    }
   },
   "outputs": [
    {
     "name": "stdout",
     "output_type": "stream",
     "text": [
      "Predicted label is  <=50K\n"
     ]
    }
   ],
   "source": [
    "response = requests.post(url=service_link, json=make_signatured_json(test_X.iloc[idx:idx+500]))\n",
    "prediction = np.array(response.json()[\"Prediction\"])\n",
    "print(f\"Predicted label is {class_names[prediction[0][0]]}\")"
   ]
  },
  {
   "cell_type": "markdown",
   "metadata": {},
   "source": [
    "Specify the link to Anchor explanation service"
   ]
  },
  {
   "cell_type": "code",
   "execution_count": 14,
   "metadata": {
    "ExecuteTime": {
     "end_time": "2019-04-18T07:46:30.515175Z",
     "start_time": "2019-04-18T07:46:30.512789Z"
    }
   },
   "outputs": [],
   "source": [
    "anchor_link = \"http://0.0.0.0:5000/anchor\" "
   ]
  },
  {
   "cell_type": "markdown",
   "metadata": {},
   "source": [
    "Prepare configs"
   ]
  },
  {
   "cell_type": "code",
   "execution_count": 9,
   "metadata": {
    "ExecuteTime": {
     "end_time": "2019-04-18T07:43:22.782917Z",
     "start_time": "2019-04-18T07:43:22.718892Z"
    }
   },
   "outputs": [],
   "source": [
    "adult_anchor_config = {\n",
    "  \"precision_threshold\": 0.95,\n",
    "  \"verbose\": False,\n",
    "  \"ordinal_features_idx\": [\n",
    "    0,\n",
    "    10\n",
    "  ],\n",
    "  \"oh_encoded_categories\": {},\n",
    "  \"label_decoders\": {\n",
    "    \"1\": [\n",
    "      \" ?\",\n",
    "      \" Federal-gov\",\n",
    "      \" Local-gov\",\n",
    "      \" Never-worked\",\n",
    "      \" Private\",\n",
    "      \" Self-emp-inc\",\n",
    "      \" Self-emp-not-inc\",\n",
    "      \" State-gov\",\n",
    "      \" Without-pay\"\n",
    "    ],\n",
    "    \"2\": [\n",
    "      \"Associates\",\n",
    "      \"Bachelors\",\n",
    "      \"Doctorate\",\n",
    "      \"Dropout\",\n",
    "      \"High School grad\",\n",
    "      \"Masters\",\n",
    "      \"Prof-School\"\n",
    "    ],\n",
    "    \"3\": [\n",
    "      \"Married\",\n",
    "      \"Never-Married\",\n",
    "      \"Separated\",\n",
    "      \"Widowed\"\n",
    "    ],\n",
    "    \"4\": [\n",
    "      \"?\",\n",
    "      \"Admin\",\n",
    "      \"Blue-Collar\",\n",
    "      \"Military\",\n",
    "      \"Other\",\n",
    "      \"Professional\",\n",
    "      \"Sales\",\n",
    "      \"Service\",\n",
    "      \"White-Collar\"\n",
    "    ],\n",
    "    \"5\": [\n",
    "      \" Husband\",\n",
    "      \" Not-in-family\",\n",
    "      \" Other-relative\",\n",
    "      \" Own-child\",\n",
    "      \" Unmarried\",\n",
    "      \" Wife\"\n",
    "    ],\n",
    "    \"6\": [\n",
    "      \" Amer-Indian-Eskimo\",\n",
    "      \" Asian-Pac-Islander\",\n",
    "      \" Black\",\n",
    "      \" Other\",\n",
    "      \" White\"\n",
    "    ],\n",
    "    \"7\": [\n",
    "      \" Female\",\n",
    "      \" Male\"\n",
    "    ],\n",
    "    \"8\": [\n",
    "      \"High\",\n",
    "      \"Low\",\n",
    "      \"None\"\n",
    "    ],\n",
    "    \"9\": [\n",
    "      \"High\",\n",
    "      \"Low\",\n",
    "      \"None\"\n",
    "    ],\n",
    "    \"11\": [\n",
    "      \"?\",\n",
    "      \"British-Commonwealth\",\n",
    "      \"China\",\n",
    "      \"Euro_1\",\n",
    "      \"Euro_2\",\n",
    "      \"Latin-America\",\n",
    "      \"Other\",\n",
    "      \"SE-Asia\",\n",
    "      \"South-America\",\n",
    "      \"United-States\",\n",
    "      \"Yugoslavia\"\n",
    "    ]\n",
    "  },\n",
    "  \"strategy\": \"kl-lucb\",\n",
    "  \"feature_names\": [\n",
    "    \"Age\",\n",
    "    \"Workclass\",\n",
    "    \"Education\",\n",
    "    \"Marital Status\",\n",
    "    \"Occupation\",\n",
    "    \"Relationship\",\n",
    "    \"Race\",\n",
    "    \"Sex\",\n",
    "    \"Capital Gain\",\n",
    "    \"Capital Loss\",\n",
    "    \"Hours per week\",\n",
    "    \"Country\"\n",
    "  ]\n",
    "}\n"
   ]
  },
  {
   "cell_type": "markdown",
   "metadata": {},
   "source": [
    "Populate reqstore with data"
   ]
  },
  {
   "cell_type": "code",
   "execution_count": 10,
   "metadata": {
    "ExecuteTime": {
     "end_time": "2019-04-18T07:43:39.776285Z",
     "start_time": "2019-04-18T07:43:32.919107Z"
    }
   },
   "outputs": [
    {
     "data": {
      "application/vnd.jupyter.widget-view+json": {
       "model_id": "e1ff73309ea8441ba69e842a1d08489c",
       "version_major": 2,
       "version_minor": 0
      },
      "text/plain": [
       "HBox(children=(IntProgress(value=0, max=15), HTML(value='')))"
      ]
     },
     "metadata": {},
     "output_type": "display_data"
    },
    {
     "name": "stdout",
     "output_type": "stream",
     "text": [
      "200.. 200.. 200.. 200.. 200.. 200.. 200.. 200.. 200.. 200.. 200.. 200.. 200.. 200.. 200.. \n"
     ]
    }
   ],
   "source": [
    "service_link = \"https://dev.k8s.hydrosphere.io/gateway/application/adult-salary-app\"\n",
    "for idx in tqdm(range(test_X.shape[0]//500 - 1)):\n",
    "    sample = test_X.iloc[idx*500 :(idx +1)*500]    \n",
    "    response = requests.post(url=service_link, json=make_signatured_json(sample))\n",
    "    print(response.status_code, end=\".. \")\n",
    "#     time.sleep(0.05)"
   ]
  },
  {
   "cell_type": "markdown",
   "metadata": {},
   "source": [
    "Send a request for explanation with our sample"
   ]
  },
  {
   "cell_type": "markdown",
   "metadata": {
    "ExecuteTime": {
     "end_time": "2019-04-18T07:57:48.490954Z",
     "start_time": "2019-04-18T07:57:48.489042Z"
    }
   },
   "source": [
    "### Example 1"
   ]
  },
  {
   "cell_type": "code",
   "execution_count": 25,
   "metadata": {
    "ExecuteTime": {
     "end_time": "2019-04-18T07:56:11.387903Z",
     "start_time": "2019-04-18T07:56:06.790376Z"
    }
   },
   "outputs": [],
   "source": [
    "response = requests.post(url=anchor_link, json={\"explained_instance\": x.tolist(),\n",
    "                                                \"application_name\" : \"adult-salary-app\",\n",
    "                                                \"config\" : adult_anchor_config})"
   ]
  },
  {
   "cell_type": "code",
   "execution_count": 26,
   "metadata": {
    "ExecuteTime": {
     "end_time": "2019-04-18T07:56:11.391781Z",
     "start_time": "2019-04-18T07:56:11.389321Z"
    },
    "scrolled": false
   },
   "outputs": [
    {
     "name": "stdout",
     "output_type": "stream",
     "text": [
      "{\n",
      "  \"coverage\": 0.328, \n",
      "  \"explanation\": \"Marital Status == Never-Married\", \n",
      "  \"precision\": 0.967\n",
      "}\n",
      "\n"
     ]
    }
   ],
   "source": [
    "print(response.text)"
   ]
  },
  {
   "cell_type": "code",
   "execution_count": 27,
   "metadata": {
    "ExecuteTime": {
     "end_time": "2019-04-18T07:56:22.364925Z",
     "start_time": "2019-04-18T07:56:22.361243Z"
    },
    "scrolled": true
   },
   "outputs": [
    {
     "name": "stdout",
     "output_type": "stream",
     "text": [
      "Coverage of this explanation is  0.328\n",
      "Precision of this explanation is  0.967\n"
     ]
    }
   ],
   "source": [
    "print(\"Coverage of this explanation is \", response.json()['coverage'])\n",
    "print(\"Precision of this explanation is \", response.json()['precision'])"
   ]
  },
  {
   "cell_type": "code",
   "execution_count": 28,
   "metadata": {
    "ExecuteTime": {
     "end_time": "2019-04-18T07:56:23.172886Z",
     "start_time": "2019-04-18T07:56:23.168756Z"
    }
   },
   "outputs": [
    {
     "data": {
      "text/plain": [
       "['Marital Status == Never-Married']"
      ]
     },
     "execution_count": 28,
     "metadata": {},
     "output_type": "execute_result"
    }
   ],
   "source": [
    "response.json()['explanation'].split(\" AND \")"
   ]
  },
  {
   "cell_type": "markdown",
   "metadata": {},
   "source": [
    "### Example 2"
   ]
  },
  {
   "cell_type": "code",
   "execution_count": null,
   "metadata": {},
   "outputs": [],
   "source": []
  },
  {
   "cell_type": "code",
   "execution_count": 30,
   "metadata": {
    "ExecuteTime": {
     "end_time": "2019-04-18T07:58:18.356258Z",
     "start_time": "2019-04-18T07:58:18.351658Z"
    }
   },
   "outputs": [
    {
     "name": "stdout",
     "output_type": "stream",
     "text": [
      "Age               56\n",
      "Workclass          2\n",
      "Education          1\n",
      "Marital Status     0\n",
      "Occupation         5\n",
      "Relationship       0\n",
      "Race               4\n",
      "Sex                1\n",
      "Capital Gain       0\n",
      "Capital Loss       2\n",
      "Hours per week    40\n",
      "Country            9\n",
      "Name: 26327, dtype: int64\n"
     ]
    }
   ],
   "source": [
    "idx = np.random.choice(range(test_X.shape[0]))\n",
    "x = test_X.iloc[idx]\n",
    "print(x)"
   ]
  },
  {
   "cell_type": "code",
   "execution_count": 31,
   "metadata": {
    "ExecuteTime": {
     "end_time": "2019-04-18T07:58:32.161252Z",
     "start_time": "2019-04-18T07:58:31.694146Z"
    }
   },
   "outputs": [
    {
     "name": "stdout",
     "output_type": "stream",
     "text": [
      "Predicted label is  >50K\n"
     ]
    }
   ],
   "source": [
    "response = requests.post(url=service_link, json=make_signatured_json(test_X.iloc[idx:idx+500]))\n",
    "prediction = np.array(response.json()[\"Prediction\"])\n",
    "print(f\"Predicted label is {class_names[prediction[0][0]]}\")"
   ]
  },
  {
   "cell_type": "code",
   "execution_count": 32,
   "metadata": {
    "ExecuteTime": {
     "end_time": "2019-04-18T07:58:41.700786Z",
     "start_time": "2019-04-18T07:58:36.760383Z"
    },
    "scrolled": false
   },
   "outputs": [
    {
     "name": "stdout",
     "output_type": "stream",
     "text": [
      "{\n",
      "  \"coverage\": 0.038, \n",
      "  \"explanation\": \"Capital Gain == High\", \n",
      "  \"precision\": 0.996\n",
      "}\n",
      "\n"
     ]
    }
   ],
   "source": [
    "response = requests.post(url=anchor_link, json={\"explained_instance\": x.tolist(),\n",
    "                                                \"application_name\" : \"adult-salary-app\",\n",
    "                                                \"config\" : adult_anchor_config})\n",
    "print(response.text)"
   ]
  },
  {
   "cell_type": "markdown",
   "metadata": {},
   "source": [
    "### Example 3"
   ]
  },
  {
   "cell_type": "code",
   "execution_count": 39,
   "metadata": {
    "ExecuteTime": {
     "end_time": "2019-04-18T08:00:22.530782Z",
     "start_time": "2019-04-18T08:00:22.526666Z"
    }
   },
   "outputs": [
    {
     "name": "stdout",
     "output_type": "stream",
     "text": [
      "Age               37\n",
      "Workclass          4\n",
      "Education          1\n",
      "Marital Status     0\n",
      "Occupation         4\n",
      "Relationship       0\n",
      "Race               4\n",
      "Sex                1\n",
      "Capital Gain       2\n",
      "Capital Loss       2\n",
      "Hours per week    50\n",
      "Country            9\n",
      "Name: 9204, dtype: int64\n"
     ]
    }
   ],
   "source": [
    "idx = np.random.choice(range(test_X.shape[0]))\n",
    "x = test_X.iloc[idx]\n",
    "print(x)"
   ]
  },
  {
   "cell_type": "code",
   "execution_count": 49,
   "metadata": {
    "ExecuteTime": {
     "end_time": "2019-04-18T08:21:02.419523Z",
     "start_time": "2019-04-18T08:21:02.415267Z"
    }
   },
   "outputs": [
    {
     "data": {
      "text/plain": [
       "{'explained_instance': [37, 4, 1, 0, 4, 0, 4, 1, 2, 2, 50, 9],\n",
       " 'application_name': 'adult-salary-app',\n",
       " 'config': {'precision_threshold': 0.95,\n",
       "  'verbose': True,\n",
       "  'ordinal_features_idx': [0, 10],\n",
       "  'oh_encoded_categories': {},\n",
       "  'label_decoders': {'1': [' ?',\n",
       "    ' Federal-gov',\n",
       "    ' Local-gov',\n",
       "    ' Never-worked',\n",
       "    ' Private',\n",
       "    ' Self-emp-inc',\n",
       "    ' Self-emp-not-inc',\n",
       "    ' State-gov',\n",
       "    ' Without-pay'],\n",
       "   '2': ['Associates',\n",
       "    'Bachelors',\n",
       "    'Doctorate',\n",
       "    'Dropout',\n",
       "    'High School grad',\n",
       "    'Masters',\n",
       "    'Prof-School'],\n",
       "   '3': ['Married', 'Never-Married', 'Separated', 'Widowed'],\n",
       "   '4': ['?',\n",
       "    'Admin',\n",
       "    'Blue-Collar',\n",
       "    'Military',\n",
       "    'Other',\n",
       "    'Professional',\n",
       "    'Sales',\n",
       "    'Service',\n",
       "    'White-Collar'],\n",
       "   '5': [' Husband',\n",
       "    ' Not-in-family',\n",
       "    ' Other-relative',\n",
       "    ' Own-child',\n",
       "    ' Unmarried',\n",
       "    ' Wife'],\n",
       "   '6': [' Amer-Indian-Eskimo',\n",
       "    ' Asian-Pac-Islander',\n",
       "    ' Black',\n",
       "    ' Other',\n",
       "    ' White'],\n",
       "   '7': [' Female', ' Male'],\n",
       "   '8': ['High', 'Low', 'None'],\n",
       "   '9': ['High', 'Low', 'None'],\n",
       "   '11': ['?',\n",
       "    'British-Commonwealth',\n",
       "    'China',\n",
       "    'Euro_1',\n",
       "    'Euro_2',\n",
       "    'Latin-America',\n",
       "    'Other',\n",
       "    'SE-Asia',\n",
       "    'South-America',\n",
       "    'United-States',\n",
       "    'Yugoslavia']},\n",
       "  'strategy': 'kl-lucb',\n",
       "  'feature_names': ['Age',\n",
       "   'Workclass',\n",
       "   'Education',\n",
       "   'Marital Status',\n",
       "   'Occupation',\n",
       "   'Relationship',\n",
       "   'Race',\n",
       "   'Sex',\n",
       "   'Capital Gain',\n",
       "   'Capital Loss',\n",
       "   'Hours per week',\n",
       "   'Country']}}"
      ]
     },
     "execution_count": 49,
     "metadata": {},
     "output_type": "execute_result"
    }
   ],
   "source": [
    "{\"explained_instance\": x.tolist(),\n",
    "                                                \"application_name\" : \"adult-salary-app\",\n",
    "                                                \"config\" : adult_anchor_config}"
   ]
  },
  {
   "cell_type": "code",
   "execution_count": 40,
   "metadata": {
    "ExecuteTime": {
     "end_time": "2019-04-18T08:00:23.180699Z",
     "start_time": "2019-04-18T08:00:22.752922Z"
    }
   },
   "outputs": [
    {
     "name": "stdout",
     "output_type": "stream",
     "text": [
      "Predicted label is  >50K\n"
     ]
    }
   ],
   "source": [
    "response = requests.post(url=service_link, json=make_signatured_json(test_X.iloc[idx:idx+500]))\n",
    "prediction = np.array(response.json()[\"Prediction\"])\n",
    "print(f\"Predicted label is {class_names[prediction[0][0]]}\")"
   ]
  },
  {
   "cell_type": "code",
   "execution_count": null,
   "metadata": {},
   "outputs": [],
   "source": [
    "adult_anchor_config.update({\"verbose\": True})"
   ]
  },
  {
   "cell_type": "code",
   "execution_count": 48,
   "metadata": {
    "ExecuteTime": {
     "end_time": "2019-04-18T08:20:38.511149Z",
     "start_time": "2019-04-18T08:17:13.474215Z"
    },
    "scrolled": true
   },
   "outputs": [
    {
     "ename": "KeyboardInterrupt",
     "evalue": "",
     "output_type": "error",
     "traceback": [
      "\u001b[0;31m---------------------------------------------------------------------------\u001b[0m",
      "\u001b[0;31mTypeError\u001b[0m                                 Traceback (most recent call last)",
      "\u001b[0;32m/anaconda3/lib/python3.6/site-packages/urllib3/connectionpool.py\u001b[0m in \u001b[0;36m_make_request\u001b[0;34m(self, conn, method, url, timeout, chunked, **httplib_request_kw)\u001b[0m\n\u001b[1;32m    376\u001b[0m             \u001b[0;32mtry\u001b[0m\u001b[0;34m:\u001b[0m  \u001b[0;31m# Python 2.7, use buffering of HTTP responses\u001b[0m\u001b[0;34m\u001b[0m\u001b[0;34m\u001b[0m\u001b[0m\n\u001b[0;32m--> 377\u001b[0;31m                 \u001b[0mhttplib_response\u001b[0m \u001b[0;34m=\u001b[0m \u001b[0mconn\u001b[0m\u001b[0;34m.\u001b[0m\u001b[0mgetresponse\u001b[0m\u001b[0;34m(\u001b[0m\u001b[0mbuffering\u001b[0m\u001b[0;34m=\u001b[0m\u001b[0;32mTrue\u001b[0m\u001b[0;34m)\u001b[0m\u001b[0;34m\u001b[0m\u001b[0;34m\u001b[0m\u001b[0m\n\u001b[0m\u001b[1;32m    378\u001b[0m             \u001b[0;32mexcept\u001b[0m \u001b[0mTypeError\u001b[0m\u001b[0;34m:\u001b[0m  \u001b[0;31m# Python 3\u001b[0m\u001b[0;34m\u001b[0m\u001b[0;34m\u001b[0m\u001b[0m\n",
      "\u001b[0;31mTypeError\u001b[0m: getresponse() got an unexpected keyword argument 'buffering'",
      "\nDuring handling of the above exception, another exception occurred:\n",
      "\u001b[0;31mKeyboardInterrupt\u001b[0m                         Traceback (most recent call last)",
      "\u001b[0;32m<ipython-input-48-00fdeb2873f7>\u001b[0m in \u001b[0;36m<module>\u001b[0;34m()\u001b[0m\n\u001b[1;32m      1\u001b[0m response = requests.post(url=anchor_link, json={\"explained_instance\": x.tolist(),\n\u001b[1;32m      2\u001b[0m                                                 \u001b[0;34m\"application_name\"\u001b[0m \u001b[0;34m:\u001b[0m \u001b[0;34m\"adult-salary-app\"\u001b[0m\u001b[0;34m,\u001b[0m\u001b[0;34m\u001b[0m\u001b[0;34m\u001b[0m\u001b[0m\n\u001b[0;32m----> 3\u001b[0;31m                                                 \"config\" : adult_anchor_config})\n\u001b[0m\u001b[1;32m      4\u001b[0m \u001b[0mprint\u001b[0m\u001b[0;34m(\u001b[0m\u001b[0mresponse\u001b[0m\u001b[0;34m.\u001b[0m\u001b[0mtext\u001b[0m\u001b[0;34m)\u001b[0m\u001b[0;34m\u001b[0m\u001b[0;34m\u001b[0m\u001b[0m\n",
      "\u001b[0;32m/anaconda3/lib/python3.6/site-packages/requests/api.py\u001b[0m in \u001b[0;36mpost\u001b[0;34m(url, data, json, **kwargs)\u001b[0m\n\u001b[1;32m    114\u001b[0m     \"\"\"\n\u001b[1;32m    115\u001b[0m \u001b[0;34m\u001b[0m\u001b[0m\n\u001b[0;32m--> 116\u001b[0;31m     \u001b[0;32mreturn\u001b[0m \u001b[0mrequest\u001b[0m\u001b[0;34m(\u001b[0m\u001b[0;34m'post'\u001b[0m\u001b[0;34m,\u001b[0m \u001b[0murl\u001b[0m\u001b[0;34m,\u001b[0m \u001b[0mdata\u001b[0m\u001b[0;34m=\u001b[0m\u001b[0mdata\u001b[0m\u001b[0;34m,\u001b[0m \u001b[0mjson\u001b[0m\u001b[0;34m=\u001b[0m\u001b[0mjson\u001b[0m\u001b[0;34m,\u001b[0m \u001b[0;34m**\u001b[0m\u001b[0mkwargs\u001b[0m\u001b[0;34m)\u001b[0m\u001b[0;34m\u001b[0m\u001b[0;34m\u001b[0m\u001b[0m\n\u001b[0m\u001b[1;32m    117\u001b[0m \u001b[0;34m\u001b[0m\u001b[0m\n\u001b[1;32m    118\u001b[0m \u001b[0;34m\u001b[0m\u001b[0m\n",
      "\u001b[0;32m/anaconda3/lib/python3.6/site-packages/requests/api.py\u001b[0m in \u001b[0;36mrequest\u001b[0;34m(method, url, **kwargs)\u001b[0m\n\u001b[1;32m     58\u001b[0m     \u001b[0;31m# cases, and look like a memory leak in others.\u001b[0m\u001b[0;34m\u001b[0m\u001b[0;34m\u001b[0m\u001b[0;34m\u001b[0m\u001b[0m\n\u001b[1;32m     59\u001b[0m     \u001b[0;32mwith\u001b[0m \u001b[0msessions\u001b[0m\u001b[0;34m.\u001b[0m\u001b[0mSession\u001b[0m\u001b[0;34m(\u001b[0m\u001b[0;34m)\u001b[0m \u001b[0;32mas\u001b[0m \u001b[0msession\u001b[0m\u001b[0;34m:\u001b[0m\u001b[0;34m\u001b[0m\u001b[0;34m\u001b[0m\u001b[0m\n\u001b[0;32m---> 60\u001b[0;31m         \u001b[0;32mreturn\u001b[0m \u001b[0msession\u001b[0m\u001b[0;34m.\u001b[0m\u001b[0mrequest\u001b[0m\u001b[0;34m(\u001b[0m\u001b[0mmethod\u001b[0m\u001b[0;34m=\u001b[0m\u001b[0mmethod\u001b[0m\u001b[0;34m,\u001b[0m \u001b[0murl\u001b[0m\u001b[0;34m=\u001b[0m\u001b[0murl\u001b[0m\u001b[0;34m,\u001b[0m \u001b[0;34m**\u001b[0m\u001b[0mkwargs\u001b[0m\u001b[0;34m)\u001b[0m\u001b[0;34m\u001b[0m\u001b[0;34m\u001b[0m\u001b[0m\n\u001b[0m\u001b[1;32m     61\u001b[0m \u001b[0;34m\u001b[0m\u001b[0m\n\u001b[1;32m     62\u001b[0m \u001b[0;34m\u001b[0m\u001b[0m\n",
      "\u001b[0;32m/anaconda3/lib/python3.6/site-packages/requests/sessions.py\u001b[0m in \u001b[0;36mrequest\u001b[0;34m(self, method, url, params, data, headers, cookies, files, auth, timeout, allow_redirects, proxies, hooks, stream, verify, cert, json)\u001b[0m\n\u001b[1;32m    531\u001b[0m         }\n\u001b[1;32m    532\u001b[0m         \u001b[0msend_kwargs\u001b[0m\u001b[0;34m.\u001b[0m\u001b[0mupdate\u001b[0m\u001b[0;34m(\u001b[0m\u001b[0msettings\u001b[0m\u001b[0;34m)\u001b[0m\u001b[0;34m\u001b[0m\u001b[0;34m\u001b[0m\u001b[0m\n\u001b[0;32m--> 533\u001b[0;31m         \u001b[0mresp\u001b[0m \u001b[0;34m=\u001b[0m \u001b[0mself\u001b[0m\u001b[0;34m.\u001b[0m\u001b[0msend\u001b[0m\u001b[0;34m(\u001b[0m\u001b[0mprep\u001b[0m\u001b[0;34m,\u001b[0m \u001b[0;34m**\u001b[0m\u001b[0msend_kwargs\u001b[0m\u001b[0;34m)\u001b[0m\u001b[0;34m\u001b[0m\u001b[0;34m\u001b[0m\u001b[0m\n\u001b[0m\u001b[1;32m    534\u001b[0m \u001b[0;34m\u001b[0m\u001b[0m\n\u001b[1;32m    535\u001b[0m         \u001b[0;32mreturn\u001b[0m \u001b[0mresp\u001b[0m\u001b[0;34m\u001b[0m\u001b[0;34m\u001b[0m\u001b[0m\n",
      "\u001b[0;32m/anaconda3/lib/python3.6/site-packages/requests/sessions.py\u001b[0m in \u001b[0;36msend\u001b[0;34m(self, request, **kwargs)\u001b[0m\n\u001b[1;32m    644\u001b[0m \u001b[0;34m\u001b[0m\u001b[0m\n\u001b[1;32m    645\u001b[0m         \u001b[0;31m# Send the request\u001b[0m\u001b[0;34m\u001b[0m\u001b[0;34m\u001b[0m\u001b[0;34m\u001b[0m\u001b[0m\n\u001b[0;32m--> 646\u001b[0;31m         \u001b[0mr\u001b[0m \u001b[0;34m=\u001b[0m \u001b[0madapter\u001b[0m\u001b[0;34m.\u001b[0m\u001b[0msend\u001b[0m\u001b[0;34m(\u001b[0m\u001b[0mrequest\u001b[0m\u001b[0;34m,\u001b[0m \u001b[0;34m**\u001b[0m\u001b[0mkwargs\u001b[0m\u001b[0;34m)\u001b[0m\u001b[0;34m\u001b[0m\u001b[0;34m\u001b[0m\u001b[0m\n\u001b[0m\u001b[1;32m    647\u001b[0m \u001b[0;34m\u001b[0m\u001b[0m\n\u001b[1;32m    648\u001b[0m         \u001b[0;31m# Total elapsed time of the request (approximately)\u001b[0m\u001b[0;34m\u001b[0m\u001b[0;34m\u001b[0m\u001b[0;34m\u001b[0m\u001b[0m\n",
      "\u001b[0;32m/anaconda3/lib/python3.6/site-packages/requests/adapters.py\u001b[0m in \u001b[0;36msend\u001b[0;34m(self, request, stream, timeout, verify, cert, proxies)\u001b[0m\n\u001b[1;32m    447\u001b[0m                     \u001b[0mdecode_content\u001b[0m\u001b[0;34m=\u001b[0m\u001b[0;32mFalse\u001b[0m\u001b[0;34m,\u001b[0m\u001b[0;34m\u001b[0m\u001b[0;34m\u001b[0m\u001b[0m\n\u001b[1;32m    448\u001b[0m                     \u001b[0mretries\u001b[0m\u001b[0;34m=\u001b[0m\u001b[0mself\u001b[0m\u001b[0;34m.\u001b[0m\u001b[0mmax_retries\u001b[0m\u001b[0;34m,\u001b[0m\u001b[0;34m\u001b[0m\u001b[0;34m\u001b[0m\u001b[0m\n\u001b[0;32m--> 449\u001b[0;31m                     \u001b[0mtimeout\u001b[0m\u001b[0;34m=\u001b[0m\u001b[0mtimeout\u001b[0m\u001b[0;34m\u001b[0m\u001b[0;34m\u001b[0m\u001b[0m\n\u001b[0m\u001b[1;32m    450\u001b[0m                 )\n\u001b[1;32m    451\u001b[0m \u001b[0;34m\u001b[0m\u001b[0m\n",
      "\u001b[0;32m/anaconda3/lib/python3.6/site-packages/urllib3/connectionpool.py\u001b[0m in \u001b[0;36murlopen\u001b[0;34m(self, method, url, body, headers, retries, redirect, assert_same_host, timeout, pool_timeout, release_conn, chunked, body_pos, **response_kw)\u001b[0m\n\u001b[1;32m    598\u001b[0m                                                   \u001b[0mtimeout\u001b[0m\u001b[0;34m=\u001b[0m\u001b[0mtimeout_obj\u001b[0m\u001b[0;34m,\u001b[0m\u001b[0;34m\u001b[0m\u001b[0;34m\u001b[0m\u001b[0m\n\u001b[1;32m    599\u001b[0m                                                   \u001b[0mbody\u001b[0m\u001b[0;34m=\u001b[0m\u001b[0mbody\u001b[0m\u001b[0;34m,\u001b[0m \u001b[0mheaders\u001b[0m\u001b[0;34m=\u001b[0m\u001b[0mheaders\u001b[0m\u001b[0;34m,\u001b[0m\u001b[0;34m\u001b[0m\u001b[0;34m\u001b[0m\u001b[0m\n\u001b[0;32m--> 600\u001b[0;31m                                                   chunked=chunked)\n\u001b[0m\u001b[1;32m    601\u001b[0m \u001b[0;34m\u001b[0m\u001b[0m\n\u001b[1;32m    602\u001b[0m             \u001b[0;31m# If we're going to release the connection in ``finally:``, then\u001b[0m\u001b[0;34m\u001b[0m\u001b[0;34m\u001b[0m\u001b[0;34m\u001b[0m\u001b[0m\n",
      "\u001b[0;32m/anaconda3/lib/python3.6/site-packages/urllib3/connectionpool.py\u001b[0m in \u001b[0;36m_make_request\u001b[0;34m(self, conn, method, url, timeout, chunked, **httplib_request_kw)\u001b[0m\n\u001b[1;32m    378\u001b[0m             \u001b[0;32mexcept\u001b[0m \u001b[0mTypeError\u001b[0m\u001b[0;34m:\u001b[0m  \u001b[0;31m# Python 3\u001b[0m\u001b[0;34m\u001b[0m\u001b[0;34m\u001b[0m\u001b[0m\n\u001b[1;32m    379\u001b[0m                 \u001b[0;32mtry\u001b[0m\u001b[0;34m:\u001b[0m\u001b[0;34m\u001b[0m\u001b[0;34m\u001b[0m\u001b[0m\n\u001b[0;32m--> 380\u001b[0;31m                     \u001b[0mhttplib_response\u001b[0m \u001b[0;34m=\u001b[0m \u001b[0mconn\u001b[0m\u001b[0;34m.\u001b[0m\u001b[0mgetresponse\u001b[0m\u001b[0;34m(\u001b[0m\u001b[0;34m)\u001b[0m\u001b[0;34m\u001b[0m\u001b[0;34m\u001b[0m\u001b[0m\n\u001b[0m\u001b[1;32m    381\u001b[0m                 \u001b[0;32mexcept\u001b[0m \u001b[0mException\u001b[0m \u001b[0;32mas\u001b[0m \u001b[0me\u001b[0m\u001b[0;34m:\u001b[0m\u001b[0;34m\u001b[0m\u001b[0;34m\u001b[0m\u001b[0m\n\u001b[1;32m    382\u001b[0m                     \u001b[0;31m# Remove the TypeError from the exception chain in Python 3;\u001b[0m\u001b[0;34m\u001b[0m\u001b[0;34m\u001b[0m\u001b[0;34m\u001b[0m\u001b[0m\n",
      "\u001b[0;32m/anaconda3/lib/python3.6/http/client.py\u001b[0m in \u001b[0;36mgetresponse\u001b[0;34m(self)\u001b[0m\n\u001b[1;32m   1329\u001b[0m         \u001b[0;32mtry\u001b[0m\u001b[0;34m:\u001b[0m\u001b[0;34m\u001b[0m\u001b[0;34m\u001b[0m\u001b[0m\n\u001b[1;32m   1330\u001b[0m             \u001b[0;32mtry\u001b[0m\u001b[0;34m:\u001b[0m\u001b[0;34m\u001b[0m\u001b[0;34m\u001b[0m\u001b[0m\n\u001b[0;32m-> 1331\u001b[0;31m                 \u001b[0mresponse\u001b[0m\u001b[0;34m.\u001b[0m\u001b[0mbegin\u001b[0m\u001b[0;34m(\u001b[0m\u001b[0;34m)\u001b[0m\u001b[0;34m\u001b[0m\u001b[0;34m\u001b[0m\u001b[0m\n\u001b[0m\u001b[1;32m   1332\u001b[0m             \u001b[0;32mexcept\u001b[0m \u001b[0mConnectionError\u001b[0m\u001b[0;34m:\u001b[0m\u001b[0;34m\u001b[0m\u001b[0;34m\u001b[0m\u001b[0m\n\u001b[1;32m   1333\u001b[0m                 \u001b[0mself\u001b[0m\u001b[0;34m.\u001b[0m\u001b[0mclose\u001b[0m\u001b[0;34m(\u001b[0m\u001b[0;34m)\u001b[0m\u001b[0;34m\u001b[0m\u001b[0;34m\u001b[0m\u001b[0m\n",
      "\u001b[0;32m/anaconda3/lib/python3.6/http/client.py\u001b[0m in \u001b[0;36mbegin\u001b[0;34m(self)\u001b[0m\n\u001b[1;32m    295\u001b[0m         \u001b[0;31m# read until we get a non-100 response\u001b[0m\u001b[0;34m\u001b[0m\u001b[0;34m\u001b[0m\u001b[0;34m\u001b[0m\u001b[0m\n\u001b[1;32m    296\u001b[0m         \u001b[0;32mwhile\u001b[0m \u001b[0;32mTrue\u001b[0m\u001b[0;34m:\u001b[0m\u001b[0;34m\u001b[0m\u001b[0;34m\u001b[0m\u001b[0m\n\u001b[0;32m--> 297\u001b[0;31m             \u001b[0mversion\u001b[0m\u001b[0;34m,\u001b[0m \u001b[0mstatus\u001b[0m\u001b[0;34m,\u001b[0m \u001b[0mreason\u001b[0m \u001b[0;34m=\u001b[0m \u001b[0mself\u001b[0m\u001b[0;34m.\u001b[0m\u001b[0m_read_status\u001b[0m\u001b[0;34m(\u001b[0m\u001b[0;34m)\u001b[0m\u001b[0;34m\u001b[0m\u001b[0;34m\u001b[0m\u001b[0m\n\u001b[0m\u001b[1;32m    298\u001b[0m             \u001b[0;32mif\u001b[0m \u001b[0mstatus\u001b[0m \u001b[0;34m!=\u001b[0m \u001b[0mCONTINUE\u001b[0m\u001b[0;34m:\u001b[0m\u001b[0;34m\u001b[0m\u001b[0;34m\u001b[0m\u001b[0m\n\u001b[1;32m    299\u001b[0m                 \u001b[0;32mbreak\u001b[0m\u001b[0;34m\u001b[0m\u001b[0;34m\u001b[0m\u001b[0m\n",
      "\u001b[0;32m/anaconda3/lib/python3.6/http/client.py\u001b[0m in \u001b[0;36m_read_status\u001b[0;34m(self)\u001b[0m\n\u001b[1;32m    256\u001b[0m \u001b[0;34m\u001b[0m\u001b[0m\n\u001b[1;32m    257\u001b[0m     \u001b[0;32mdef\u001b[0m \u001b[0m_read_status\u001b[0m\u001b[0;34m(\u001b[0m\u001b[0mself\u001b[0m\u001b[0;34m)\u001b[0m\u001b[0;34m:\u001b[0m\u001b[0;34m\u001b[0m\u001b[0;34m\u001b[0m\u001b[0m\n\u001b[0;32m--> 258\u001b[0;31m         \u001b[0mline\u001b[0m \u001b[0;34m=\u001b[0m \u001b[0mstr\u001b[0m\u001b[0;34m(\u001b[0m\u001b[0mself\u001b[0m\u001b[0;34m.\u001b[0m\u001b[0mfp\u001b[0m\u001b[0;34m.\u001b[0m\u001b[0mreadline\u001b[0m\u001b[0;34m(\u001b[0m\u001b[0m_MAXLINE\u001b[0m \u001b[0;34m+\u001b[0m \u001b[0;36m1\u001b[0m\u001b[0;34m)\u001b[0m\u001b[0;34m,\u001b[0m \u001b[0;34m\"iso-8859-1\"\u001b[0m\u001b[0;34m)\u001b[0m\u001b[0;34m\u001b[0m\u001b[0;34m\u001b[0m\u001b[0m\n\u001b[0m\u001b[1;32m    259\u001b[0m         \u001b[0;32mif\u001b[0m \u001b[0mlen\u001b[0m\u001b[0;34m(\u001b[0m\u001b[0mline\u001b[0m\u001b[0;34m)\u001b[0m \u001b[0;34m>\u001b[0m \u001b[0m_MAXLINE\u001b[0m\u001b[0;34m:\u001b[0m\u001b[0;34m\u001b[0m\u001b[0;34m\u001b[0m\u001b[0m\n\u001b[1;32m    260\u001b[0m             \u001b[0;32mraise\u001b[0m \u001b[0mLineTooLong\u001b[0m\u001b[0;34m(\u001b[0m\u001b[0;34m\"status line\"\u001b[0m\u001b[0;34m)\u001b[0m\u001b[0;34m\u001b[0m\u001b[0;34m\u001b[0m\u001b[0m\n",
      "\u001b[0;32m/anaconda3/lib/python3.6/socket.py\u001b[0m in \u001b[0;36mreadinto\u001b[0;34m(self, b)\u001b[0m\n\u001b[1;32m    584\u001b[0m         \u001b[0;32mwhile\u001b[0m \u001b[0;32mTrue\u001b[0m\u001b[0;34m:\u001b[0m\u001b[0;34m\u001b[0m\u001b[0;34m\u001b[0m\u001b[0m\n\u001b[1;32m    585\u001b[0m             \u001b[0;32mtry\u001b[0m\u001b[0;34m:\u001b[0m\u001b[0;34m\u001b[0m\u001b[0;34m\u001b[0m\u001b[0m\n\u001b[0;32m--> 586\u001b[0;31m                 \u001b[0;32mreturn\u001b[0m \u001b[0mself\u001b[0m\u001b[0;34m.\u001b[0m\u001b[0m_sock\u001b[0m\u001b[0;34m.\u001b[0m\u001b[0mrecv_into\u001b[0m\u001b[0;34m(\u001b[0m\u001b[0mb\u001b[0m\u001b[0;34m)\u001b[0m\u001b[0;34m\u001b[0m\u001b[0;34m\u001b[0m\u001b[0m\n\u001b[0m\u001b[1;32m    587\u001b[0m             \u001b[0;32mexcept\u001b[0m \u001b[0mtimeout\u001b[0m\u001b[0;34m:\u001b[0m\u001b[0;34m\u001b[0m\u001b[0;34m\u001b[0m\u001b[0m\n\u001b[1;32m    588\u001b[0m                 \u001b[0mself\u001b[0m\u001b[0;34m.\u001b[0m\u001b[0m_timeout_occurred\u001b[0m \u001b[0;34m=\u001b[0m \u001b[0;32mTrue\u001b[0m\u001b[0;34m\u001b[0m\u001b[0;34m\u001b[0m\u001b[0m\n",
      "\u001b[0;31mKeyboardInterrupt\u001b[0m: "
     ]
    }
   ],
   "source": [
    "response = requests.post(url=anchor_link, json={\"explained_instance\": x.tolist(),\n",
    "                                                \"application_name\" : \"adult-salary-app\",\n",
    "                                                \"config\" : adult_anchor_config})\n",
    "print(response.text)"
   ]
  },
  {
   "cell_type": "code",
   "execution_count": null,
   "metadata": {},
   "outputs": [],
   "source": []
  }
 ],
 "metadata": {
  "kernelspec": {
   "display_name": "Python 3",
   "language": "python",
   "name": "python3"
  },
  "language_info": {
   "codemirror_mode": {
    "name": "ipython",
    "version": 3
   },
   "file_extension": ".py",
   "mimetype": "text/x-python",
   "name": "python",
   "nbconvert_exporter": "python",
   "pygments_lexer": "ipython3",
   "version": "3.6.8"
  }
 },
 "nbformat": 4,
 "nbformat_minor": 2
}
