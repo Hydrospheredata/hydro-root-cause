{
 "cells": [
  {
   "cell_type": "code",
   "execution_count": null,
   "metadata": {},
   "outputs": [],
   "source": [
    "%load_ext autoreload\n",
    "%autoreload 2"
   ]
  },
  {
   "cell_type": "code",
   "execution_count": 9,
   "metadata": {},
   "outputs": [],
   "source": [
    "import numpy as np\n",
    "import pandas as pd\n",
    "import requests\n",
    "import matplotlib.pyplot as plt\n",
    "from tqdm import tqdm_notebook as tqdm\n",
    "from time import sleep\n",
    "from hydro_serving_grpc.reqstore import reqstore_client\n",
    "\n",
    "import hydro_serving_grpc as hs_grpc\n",
    "from client import HydroServingClient, HydroServingServable, HydroServingModel\n",
    "\n",
    "from keras.applications.densenet import preprocess_input, decode_predictions\n",
    "# from keras.applications.mobilenetv2 import preprocess_input, decode_predictions\n"
   ]
  },
  {
   "cell_type": "code",
   "execution_count": null,
   "metadata": {},
   "outputs": [],
   "source": [
    "hs_client = HydroServingClient(\"localhost:9090\")"
   ]
  },
  {
   "cell_type": "code",
   "execution_count": null,
   "metadata": {},
   "outputs": [],
   "source": [
    "# densenet_model = hs_client.get_model(\"densenet\", 1)"
   ]
  },
  {
   "cell_type": "code",
   "execution_count": 43,
   "metadata": {},
   "outputs": [],
   "source": [
    "import mnist\n",
    "images = mnist.train_images()"
   ]
  },
  {
   "cell_type": "code",
   "execution_count": null,
   "metadata": {},
   "outputs": [],
   "source": [
    "# Load images to send to HS"
   ]
  },
  {
   "cell_type": "markdown",
   "metadata": {},
   "source": [
    "Plot random image"
   ]
  },
  {
   "cell_type": "code",
   "execution_count": null,
   "metadata": {},
   "outputs": [],
   "source": [
    "x = images[np.random.randint(0, images.shape[0])]\n",
    "plt.imshow(x)"
   ]
  },
  {
   "cell_type": "markdown",
   "metadata": {},
   "source": [
    "Send data to reqstore"
   ]
  },
  {
   "cell_type": "code",
   "execution_count": null,
   "metadata": {},
   "outputs": [],
   "source": [
    "densenet_servable = hs_client.deploy_servable(\"densenet\", 1)\n",
    "for _ in tqdm(range(10)):\n",
    "    sleep(0.2)\n",
    "    x = images[np.random.randint(0, images.shape[0])].reshape((1, 224, 224, 3))\n",
    "    x = preprocess_input(x)\n",
    "    densenet_servable(x, _profile=True)\n",
    "densenet_servable.delete()"
   ]
  },
  {
   "cell_type": "markdown",
   "metadata": {},
   "source": [
    "Check that data is in the reqstore"
   ]
  },
  {
   "cell_type": "code",
   "execution_count": null,
   "metadata": {},
   "outputs": [],
   "source": [
    "rs_client = reqstore_client.ReqstoreClient(\"localhost:9090\", insecure=True)\n",
    "subsample = list(rs_client.subsampling(\"1\", 10))\n",
    "image = list(densenet_model.contract.decode_request(subsample[0].entries[0].request).values())[0]\n",
    "plt.imshow(image[0])"
   ]
  },
  {
   "cell_type": "markdown",
   "metadata": {},
   "source": [
    "Fetch reqstore descriptors about this image"
   ]
  },
  {
   "cell_type": "code",
   "execution_count": null,
   "metadata": {},
   "outputs": [],
   "source": [
    "folder = mnist_model.id\n",
    "ts = subsample[0].ts\n",
    "uid = subsample[0].entries[0].uid"
   ]
  },
  {
   "cell_type": "markdown",
   "metadata": {},
   "source": [
    "Check reqstore again"
   ]
  },
  {
   "cell_type": "code",
   "execution_count": null,
   "metadata": {},
   "outputs": [],
   "source": [
    "r = rs_client.get(str(folder), ts, uid)\n",
    "r"
   ]
  },
  {
   "cell_type": "code",
   "execution_count": null,
   "metadata": {},
   "outputs": [],
   "source": [
    "rs_client = reqstore_client.ReqstoreClient(\"localhost:9090\", insecure=True)\n",
    "subsample = list(rs_client.subsampling(\"1\", 10))\n",
    "image = list(mnist_model.contract.decode_request(subsample[0].entries[0].request).values())[0]\n",
    "plt.imshow(image[0])"
   ]
  },
  {
   "cell_type": "markdown",
   "metadata": {},
   "source": [
    "Send model description and exlained instance description to rootcause"
   ]
  },
  {
   "cell_type": "code",
   "execution_count": null,
   "metadata": {},
   "outputs": [],
   "source": [
    "r = requests.post(\"http://localhost/rootcause/rise\", json={\"model\":{\"name\":\"mnist\", \"version\":1},\n",
    "                                                      \"explained_instance\":{\"timestamp\":ts, \"uid\": uid}})\n"
   ]
  },
  {
   "cell_type": "code",
   "execution_count": null,
   "metadata": {},
   "outputs": [],
   "source": [
    "r.text"
   ]
  },
  {
   "cell_type": "code",
   "execution_count": null,
   "metadata": {},
   "outputs": [],
   "source": [
    "redirect_url = r.headers['Location']\n",
    "print(redirect_url)\n",
    "requests.get(redirect_url).text"
   ]
  },
  {
   "cell_type": "code",
   "execution_count": null,
   "metadata": {},
   "outputs": [],
   "source": [
    "requests.get(redirect_url).text"
   ]
  },
  {
   "cell_type": "code",
   "execution_count": null,
   "metadata": {},
   "outputs": [],
   "source": [
    "import json\n",
    "import ast\n",
    "\n",
    "result_id = requests.get(redirect_url).json()['result']\n",
    "result = requests.get(f\"http://localhost/rootcause/fetch_result/rise/{result_id}\")\n",
    "result_response = result.json()\n",
    "result_response"
   ]
  },
  {
   "cell_type": "code",
   "execution_count": null,
   "metadata": {},
   "outputs": [],
   "source": [
    "masks = np.array(ast.literal_eval(result_response['result']['masks']))"
   ]
  },
  {
   "cell_type": "markdown",
   "metadata": {},
   "source": [
    "Masks is an array of shape (number of classes, width, heigh). It can be seen as a collection of masks of shape (width, height), one for each class, which show which parts of images activate that particular class."
   ]
  },
  {
   "cell_type": "code",
   "execution_count": null,
   "metadata": {},
   "outputs": [],
   "source": [
    "masks.shape "
   ]
  },
  {
   "cell_type": "code",
   "execution_count": null,
   "metadata": {},
   "outputs": [],
   "source": [
    "request = rs_client.get(str(folder), ts, uid).entries[0].request\n",
    "x = mnist_model.contract.decode_request(request)['input']\n",
    "# Original image from reqstore\n",
    "plt.imshow(x[0])"
   ]
  },
  {
   "cell_type": "code",
   "execution_count": null,
   "metadata": {},
   "outputs": [],
   "source": [
    "fig, axes = plt.subplots(1, 10)\n",
    "fig.set_size_inches(20, 5)\n",
    "for i in range(10):\n",
    "    axes[i].imshow(x[0])\n",
    "    axes[i].imshow(masks[i]/255., alpha = 0.7, cmap = \"coolwarm\")\n",
    "    axes[i].axis(\"off\")"
   ]
  }
 ],
 "metadata": {
  "kernelspec": {
   "display_name": "Python 3",
   "language": "python",
   "name": "python3"
  },
  "language_info": {
   "codemirror_mode": {
    "name": "ipython",
    "version": 3
   },
   "file_extension": ".py",
   "mimetype": "text/x-python",
   "name": "python",
   "nbconvert_exporter": "python",
   "pygments_lexer": "ipython3",
   "version": "3.7.3"
  }
 },
 "nbformat": 4,
 "nbformat_minor": 1
}
