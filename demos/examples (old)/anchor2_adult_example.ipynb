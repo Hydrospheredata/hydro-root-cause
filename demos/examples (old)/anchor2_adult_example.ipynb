{
 "cells": [
  {
   "cell_type": "markdown",
   "metadata": {},
   "source": [
    "# OUTDATED\n",
    "\n",
    "This is an example from sync version.\n",
    "\n",
    "Awaiting subsampling from reqstore"
   ]
  },
  {
   "cell_type": "markdown",
   "metadata": {},
   "source": [
    "Load libraries"
   ]
  },
  {
   "cell_type": "code",
   "execution_count": 19,
   "metadata": {
    "ExecuteTime": {
     "end_time": "2019-06-05T08:34:56.960683Z",
     "start_time": "2019-06-05T08:34:55.998501Z"
    }
   },
   "outputs": [],
   "source": [
    "import os\n",
    "\n",
    "import matplotlib.pyplot as plt\n",
    "import numpy as np\n",
    "import pandas as pd\n",
    "import sklearn\n",
    "import requests\n",
    "import time\n",
    "from tqdm import tqdm_notebook as tqdm"
   ]
  },
  {
   "cell_type": "code",
   "execution_count": 20,
   "metadata": {
    "ExecuteTime": {
     "end_time": "2019-06-05T08:34:57.259544Z",
     "start_time": "2019-06-05T08:34:56.962556Z"
    }
   },
   "outputs": [],
   "source": [
    "from sklearn.preprocessing import LabelEncoder\n",
    "import sklearn.model_selection"
   ]
  },
  {
   "cell_type": "markdown",
   "metadata": {
    "ExecuteTime": {
     "end_time": "2019-04-08T13:15:46.853274Z",
     "start_time": "2019-04-08T13:15:46.850465Z"
    }
   },
   "source": [
    "Get adult data"
   ]
  },
  {
   "cell_type": "code",
   "execution_count": 21,
   "metadata": {
    "ExecuteTime": {
     "end_time": "2019-06-05T08:34:57.784729Z",
     "start_time": "2019-06-05T08:34:57.261440Z"
    }
   },
   "outputs": [],
   "source": [
    "# Helepr function to process the data\n",
    "def map_array_values(series, value_map):\n",
    "    if series.dtype == 'object':\n",
    "        ret = series.str.strip().copy()\n",
    "    else:\n",
    "        ret = series.copy()\n",
    "    for src, target in value_map.items():\n",
    "        ret[ret == src] = target\n",
    "    return ret\n",
    "\n",
    "\n",
    "# Readble feature names\n",
    "feature_names = [\"Age\", \"Workclass\", \"fnlwgt\", \"Education\",\n",
    "                 \"Education-Num\", \"Marital Status\", \"Occupation\",\n",
    "                 \"Relationship\", \"Race\", \"Sex\", \"Capital Gain\",\n",
    "                 \"Capital Loss\", \"Hours per week\", \"Country\", 'Income']\n",
    "features_to_use = [0, 1, 3, 5, 6, 7, 8, 9, 10, 11, 12, 13]\n",
    "categorical_features = [1, 3, 5, 6, 7, 8, 9, 10, 11, 13]\n",
    "education_map = {\n",
    "    '10th': 'Dropout', '11th': 'Dropout', '12th': 'Dropout', '1st-4th':\n",
    "        'Dropout', '5th-6th': 'Dropout', '7th-8th': 'Dropout', '9th':\n",
    "        'Dropout', 'Preschool': 'Dropout', 'HS-grad': 'High School grad',\n",
    "    'Some-college': 'High School grad', 'Masters': 'Masters',\n",
    "    'Prof-school': 'Prof-School', 'Assoc-acdm': 'Associates',\n",
    "    'Assoc-voc': 'Associates',\n",
    "}\n",
    "occupation_map = {\n",
    "    \"Adm-clerical\": \"Admin\", \"Armed-Forces\": \"Military\",\n",
    "    \"Craft-repair\": \"Blue-Collar\", \"Exec-managerial\": \"White-Collar\",\n",
    "    \"Farming-fishing\": \"Blue-Collar\", \"Handlers-cleaners\":\n",
    "        \"Blue-Collar\", \"Machine-op-inspct\": \"Blue-Collar\", \"Other-service\":\n",
    "        \"Service\", \"Priv-house-serv\": \"Service\", \"Prof-specialty\":\n",
    "        \"Professional\", \"Protective-serv\": \"Other\", \"Sales\":\n",
    "        \"Sales\", \"Tech-support\": \"Other\", \"Transport-moving\":\n",
    "        \"Blue-Collar\",\n",
    "}\n",
    "country_map = {\n",
    "    'Cambodia': 'SE-Asia', 'Canada': 'British-Commonwealth', 'China':\n",
    "        'China', 'Columbia': 'South-America', 'Cuba': 'Other',\n",
    "    'Dominican-Republic': 'Latin-America', 'Ecuador': 'South-America',\n",
    "    'El-Salvador': 'South-America', 'England': 'British-Commonwealth',\n",
    "    'France': 'Euro_1', 'Germany': 'Euro_1', 'Greece': 'Euro_2',\n",
    "    'Guatemala': 'Latin-America', 'Haiti': 'Latin-America',\n",
    "    'Holand-Netherlands': 'Euro_1', 'Honduras': 'Latin-America',\n",
    "    'Hong': 'China', 'Hungary': 'Euro_2', 'India':\n",
    "        'British-Commonwealth', 'Iran': 'Other', 'Ireland':\n",
    "        'British-Commonwealth', 'Italy': 'Euro_1', 'Jamaica':\n",
    "        'Latin-America', 'Japan': 'Other', 'Laos': 'SE-Asia', 'Mexico':\n",
    "        'Latin-America', 'Nicaragua': 'Latin-America',\n",
    "    'Outlying-US(Guam-USVI-etc)': 'Latin-America', 'Peru':\n",
    "        'South-America', 'Philippines': 'SE-Asia', 'Poland': 'Euro_2',\n",
    "    'Portugal': 'Euro_2', 'Puerto-Rico': 'Latin-America', 'Scotland':\n",
    "        'British-Commonwealth', 'South': 'Euro_2', 'Taiwan': 'China',\n",
    "    'Thailand': 'SE-Asia', 'Trinadad&Tobago': 'Latin-America',\n",
    "    'United-States': 'United-States', 'Vietnam': 'SE-Asia'\n",
    "}\n",
    "married_map = {\n",
    "    'Never-married': 'Never-Married', 'Married-AF-spouse': 'Married',\n",
    "    'Married-civ-spouse': 'Married', 'Married-spouse-absent':\n",
    "        'Separated', 'Separated': 'Separated', 'Divorced':\n",
    "        'Separated', 'Widowed': 'Widowed'\n",
    "}\n",
    "\n",
    "\n",
    "# Transform Continiouse Cap Gains into the discrete variable\n",
    "def cap_gains_fn(x):\n",
    "    x = x.astype(float)\n",
    "    d = np.digitize(x, [0, np.median(x[x > 0]), float('inf')], right=True)\n",
    "    new_series = pd.Series([\"None\"] * len(d))\n",
    "    new_series[d == 0] = 'None'\n",
    "    new_series[d == 1] = 'Low'\n",
    "    new_series[d == 2] = 'High'\n",
    "    return new_series\n",
    "\n",
    "# Specify transofrmations for each column\n",
    "transformations = {\n",
    "    'Education': lambda x: map_array_values(x, education_map),\n",
    "    'Marital Status': lambda x: map_array_values(x, married_map),\n",
    "    'Occupation': lambda x: map_array_values(x, occupation_map),\n",
    "    'Capital Gain': cap_gains_fn,\n",
    "    'Capital Loss': cap_gains_fn,\n",
    "    'Country': lambda x: map_array_values(x, country_map),\n",
    "}\n",
    "\n",
    "# Load df\n",
    "df = pd.read_csv(\"../anchor2/anchor2/examples/data/adult/adult.data\", header=None)\n",
    "df.columns = feature_names\n",
    "target_labels = pd.Series(df.iloc[:, -1], index=df.index)\n",
    "df = df.iloc[:, features_to_use]\n",
    "df.dropna(inplace=True)\n",
    "\n",
    "# Transform features\n",
    "for feature, fun in transformations.items():\n",
    "    df[feature] = fun(df[feature])\n",
    "\n",
    "# Store dictionary with {Category id -> category classes}\n",
    "categorical_features_idx = [1, 2, 3, 4, 5, 6, 7, 8, 9, 11]\n",
    "categorical_names = {}  # Dictionary with (Category id -> category classes)\n",
    "for f_idx in categorical_features_idx:\n",
    "    le = LabelEncoder()\n",
    "    df.iloc[:, f_idx] = le.fit_transform(df.iloc[:, f_idx])\n",
    "    categorical_names[f_idx] = le.classes_\n",
    "\n",
    "# Encode target label\n",
    "le = LabelEncoder()\n",
    "target_labels = le.fit_transform(target_labels)\n",
    "class_names = list(le.classes_)\n",
    "\n",
    "# Split the dataset into train\\val\\test\n",
    "train_X, rest_X, train_y, rest_y = sklearn.model_selection.train_test_split(df, target_labels, stratify=target_labels,\n",
    "                                                                            test_size=0.5, random_state=42)\n",
    "val_X, test_X, val_y, test_y = sklearn.model_selection.train_test_split(rest_X, rest_y, stratify=rest_y,\n",
    "                                                                        test_size=0.5, random_state=42)"
   ]
  },
  {
   "cell_type": "markdown",
   "metadata": {},
   "source": [
    "Check random sample"
   ]
  },
  {
   "cell_type": "code",
   "execution_count": 22,
   "metadata": {
    "ExecuteTime": {
     "end_time": "2019-06-05T08:34:57.790785Z",
     "start_time": "2019-06-05T08:34:57.786015Z"
    }
   },
   "outputs": [
    {
     "name": "stdout",
     "output_type": "stream",
     "text": [
      "Age               46\n",
      "Workclass          4\n",
      "Education          0\n",
      "Marital Status     2\n",
      "Occupation         1\n",
      "Relationship       1\n",
      "Race               4\n",
      "Sex                0\n",
      "Capital Gain       2\n",
      "Capital Loss       2\n",
      "Hours per week    40\n",
      "Country            9\n",
      "Name: 2262, dtype: int64\n"
     ]
    }
   ],
   "source": [
    "idx = np.random.choice(range(test_X.shape[0]))\n",
    "x = test_X.iloc[idx]\n",
    "print(x)"
   ]
  },
  {
   "cell_type": "markdown",
   "metadata": {},
   "source": [
    "## Connect to HS"
   ]
  },
  {
   "cell_type": "markdown",
   "metadata": {
    "ExecuteTime": {
     "end_time": "2019-04-08T13:28:57.387064Z",
     "start_time": "2019-04-08T13:28:57.384800Z"
    }
   },
   "source": [
    "Specify the hydrosphere inference endpoint"
   ]
  },
  {
   "cell_type": "code",
   "execution_count": 23,
   "metadata": {
    "ExecuteTime": {
     "end_time": "2019-06-05T08:34:58.882991Z",
     "start_time": "2019-06-05T08:34:58.880694Z"
    }
   },
   "outputs": [],
   "source": [
    "service_link = \"https://dev.k8s.hydrosphere.io/gateway/application/adult\""
   ]
  },
  {
   "cell_type": "code",
   "execution_count": 24,
   "metadata": {
    "ExecuteTime": {
     "end_time": "2019-06-05T08:49:47.405941Z",
     "start_time": "2019-06-05T08:49:47.398525Z"
    }
   },
   "outputs": [],
   "source": [
    "# Function to store sample in a json with signature \n",
    "def make_signatured_json(sample):\n",
    "    output_json = {}\n",
    "    if type(sample) == pd.Series:\n",
    "        feature_names = sample.index\n",
    "        values = sample\n",
    "    else:\n",
    "        feature_names = [\n",
    "            \"Age\",\n",
    "            \"Workclass\",\n",
    "            \"Education\",\n",
    "            \"Marital Status\",\n",
    "            \"Occupation\",\n",
    "            \"Relationship\",\n",
    "            \"Race\",\n",
    "            \"Sex\",\n",
    "            \"Capital Gain\",\n",
    "            \"Capital Loss\",\n",
    "            \"Hours per week\",\n",
    "            \"Country\"]\n",
    "        values = sample\n",
    "        \n",
    "    for feature_idx, fname in enumerate(feature_names):\n",
    "        output_json[fname] = [int(v) for v in values.loc[:, fname]]\n",
    "    return output_json\n",
    "\n",
    "def make_proto(sample):\n",
    "    j = make_signatured_json(sample)\n",
    "    keys = j.keys()\n",
    "    tensor_shapes = [hs.TensorShapeProto(dim=[hs.TensorShapeProto.Dim(size=len(j[k])), hs.TensorShapeProto.Dim(size=1)])  for k in keys ]\n",
    "    tensors = [hs.TensorProto(dtype=hs.DT_INT64, int64_val = j[k], tensor_shape = ts) for k, ts in zip(keys, tensor_shapes) ]\n",
    "    return dict(zip(keys, tensors))\n"
   ]
  },
  {
   "cell_type": "code",
   "execution_count": 25,
   "metadata": {
    "ExecuteTime": {
     "end_time": "2019-06-05T08:49:51.490682Z",
     "start_time": "2019-06-05T08:49:51.484695Z"
    }
   },
   "outputs": [
    {
     "data": {
      "text/plain": [
       "{'Age': dtype: DT_INT64\n",
       " tensor_shape {\n",
       "   dim {\n",
       "     size: 5\n",
       "   }\n",
       "   dim {\n",
       "     size: 1\n",
       "   }\n",
       " }\n",
       " int64_val: 46\n",
       " int64_val: 42\n",
       " int64_val: 56\n",
       " int64_val: 51\n",
       " int64_val: 41, 'Workclass': dtype: DT_INT64\n",
       " tensor_shape {\n",
       "   dim {\n",
       "     size: 5\n",
       "   }\n",
       "   dim {\n",
       "     size: 1\n",
       "   }\n",
       " }\n",
       " int64_val: 4\n",
       " int64_val: 5\n",
       " int64_val: 4\n",
       " int64_val: 4\n",
       " int64_val: 1, 'Education': dtype: DT_INT64\n",
       " tensor_shape {\n",
       "   dim {\n",
       "     size: 5\n",
       "   }\n",
       "   dim {\n",
       "     size: 1\n",
       "   }\n",
       " }\n",
       " int64_val: 0\n",
       " int64_val: 6\n",
       " int64_val: 3\n",
       " int64_val: 4\n",
       " int64_val: 1, 'Marital Status': dtype: DT_INT64\n",
       " tensor_shape {\n",
       "   dim {\n",
       "     size: 5\n",
       "   }\n",
       "   dim {\n",
       "     size: 1\n",
       "   }\n",
       " }\n",
       " int64_val: 2\n",
       " int64_val: 0\n",
       " int64_val: 2\n",
       " int64_val: 0\n",
       " int64_val: 0, 'Occupation': dtype: DT_INT64\n",
       " tensor_shape {\n",
       "   dim {\n",
       "     size: 5\n",
       "   }\n",
       "   dim {\n",
       "     size: 1\n",
       "   }\n",
       " }\n",
       " int64_val: 1\n",
       " int64_val: 5\n",
       " int64_val: 7\n",
       " int64_val: 2\n",
       " int64_val: 1, 'Relationship': dtype: DT_INT64\n",
       " tensor_shape {\n",
       "   dim {\n",
       "     size: 5\n",
       "   }\n",
       "   dim {\n",
       "     size: 1\n",
       "   }\n",
       " }\n",
       " int64_val: 1\n",
       " int64_val: 0\n",
       " int64_val: 4\n",
       " int64_val: 0\n",
       " int64_val: 0, 'Race': dtype: DT_INT64\n",
       " tensor_shape {\n",
       "   dim {\n",
       "     size: 5\n",
       "   }\n",
       "   dim {\n",
       "     size: 1\n",
       "   }\n",
       " }\n",
       " int64_val: 4\n",
       " int64_val: 4\n",
       " int64_val: 4\n",
       " int64_val: 4\n",
       " int64_val: 4, 'Sex': dtype: DT_INT64\n",
       " tensor_shape {\n",
       "   dim {\n",
       "     size: 5\n",
       "   }\n",
       "   dim {\n",
       "     size: 1\n",
       "   }\n",
       " }\n",
       " int64_val: 0\n",
       " int64_val: 1\n",
       " int64_val: 0\n",
       " int64_val: 1\n",
       " int64_val: 1, 'Capital Gain': dtype: DT_INT64\n",
       " tensor_shape {\n",
       "   dim {\n",
       "     size: 5\n",
       "   }\n",
       "   dim {\n",
       "     size: 1\n",
       "   }\n",
       " }\n",
       " int64_val: 2\n",
       " int64_val: 2\n",
       " int64_val: 2\n",
       " int64_val: 2\n",
       " int64_val: 2, 'Capital Loss': dtype: DT_INT64\n",
       " tensor_shape {\n",
       "   dim {\n",
       "     size: 5\n",
       "   }\n",
       "   dim {\n",
       "     size: 1\n",
       "   }\n",
       " }\n",
       " int64_val: 2\n",
       " int64_val: 0\n",
       " int64_val: 2\n",
       " int64_val: 2\n",
       " int64_val: 2, 'Hours per week': dtype: DT_INT64\n",
       " tensor_shape {\n",
       "   dim {\n",
       "     size: 5\n",
       "   }\n",
       "   dim {\n",
       "     size: 1\n",
       "   }\n",
       " }\n",
       " int64_val: 40\n",
       " int64_val: 50\n",
       " int64_val: 32\n",
       " int64_val: 40\n",
       " int64_val: 40, 'Country': dtype: DT_INT64\n",
       " tensor_shape {\n",
       "   dim {\n",
       "     size: 5\n",
       "   }\n",
       "   dim {\n",
       "     size: 1\n",
       "   }\n",
       " }\n",
       " int64_val: 9\n",
       " int64_val: 9\n",
       " int64_val: 9\n",
       " int64_val: 9\n",
       " int64_val: 9}"
      ]
     },
     "execution_count": 25,
     "metadata": {},
     "output_type": "execute_result"
    }
   ],
   "source": [
    "inp = make_proto(test_X.iloc[idx:idx+5])\n",
    "inp"
   ]
  },
  {
   "cell_type": "markdown",
   "metadata": {},
   "source": [
    "Get response for an example, HTTP"
   ]
  },
  {
   "cell_type": "code",
   "execution_count": 26,
   "metadata": {
    "ExecuteTime": {
     "end_time": "2019-06-05T08:50:22.801964Z",
     "start_time": "2019-06-05T08:50:22.050769Z"
    }
   },
   "outputs": [
    {
     "name": "stdout",
     "output_type": "stream",
     "text": [
      "Predicted label is  <=50K\n"
     ]
    }
   ],
   "source": [
    "response = requests.post(url=service_link, json=make_signatured_json(test_X.iloc[idx:idx+500]))\n",
    "prediction = np.array(response.json()[\"Prediction\"])\n",
    "print(f\"Predicted label is {class_names[prediction[0][0]]}\")"
   ]
  },
  {
   "cell_type": "markdown",
   "metadata": {},
   "source": [
    "Check through GPRC"
   ]
  },
  {
   "cell_type": "code",
   "execution_count": 27,
   "metadata": {
    "ExecuteTime": {
     "end_time": "2019-06-05T08:51:52.931677Z",
     "start_time": "2019-06-05T08:51:52.928455Z"
    }
   },
   "outputs": [],
   "source": [
    "import grpc\n",
    "import hydro_serving_grpc as hs\n",
    "import hydro_serving_grpc.gateway as hsg\n",
    "\n",
    "creds = grpc.ssl_channel_credentials()\n",
    "channel = grpc.secure_channel('dev.k8s.hydrosphere.io', creds)\n",
    "client = hsg.GatewayServiceStub(channel)"
   ]
  },
  {
   "cell_type": "code",
   "execution_count": 28,
   "metadata": {
    "ExecuteTime": {
     "end_time": "2019-06-05T08:52:42.962033Z",
     "start_time": "2019-06-05T08:52:42.959439Z"
    }
   },
   "outputs": [],
   "source": [
    "model_spec = hs.ModelSpec(name='adult', signature_name = 'adult')"
   ]
  },
  {
   "cell_type": "code",
   "execution_count": 29,
   "metadata": {
    "ExecuteTime": {
     "end_time": "2019-06-05T08:52:43.307576Z",
     "start_time": "2019-06-05T08:52:43.303298Z"
    }
   },
   "outputs": [],
   "source": [
    "inp = make_proto(test_X.iloc[idx:idx+5])"
   ]
  },
  {
   "cell_type": "code",
   "execution_count": 30,
   "metadata": {
    "ExecuteTime": {
     "end_time": "2019-06-05T08:52:53.555432Z",
     "start_time": "2019-06-05T08:52:43.557500Z"
    }
   },
   "outputs": [
    {
     "ename": "_Rendezvous",
     "evalue": "<_Rendezvous of RPC that terminated with:\n\tstatus = StatusCode.UNKNOWN\n\tdetails = \"No status received\"\n\tdebug_error_string = \"{\"created\":\"@1559726557.543367000\",\"description\":\"No status received\",\"file\":\"src/core/lib/surface/call.cc\",\"file_line\":1066,\"grpc_status\":2}\"\n>",
     "traceback": [
      "\u001b[0;31m---------------------------------------------------------------------------\u001b[0m",
      "\u001b[0;31m_Rendezvous\u001b[0m                               Traceback (most recent call last)",
      "\u001b[0;32m<ipython-input-30-8716cd9a9d65>\u001b[0m in \u001b[0;36m<module>\u001b[0;34m()\u001b[0m\n\u001b[1;32m      1\u001b[0m \u001b[0mrequest\u001b[0m \u001b[0;34m=\u001b[0m \u001b[0mhs\u001b[0m\u001b[0;34m.\u001b[0m\u001b[0mPredictRequest\u001b[0m\u001b[0;34m(\u001b[0m\u001b[0mmodel_spec\u001b[0m\u001b[0;34m=\u001b[0m\u001b[0mmodel_spec\u001b[0m\u001b[0;34m,\u001b[0m \u001b[0minputs\u001b[0m\u001b[0;34m=\u001b[0m\u001b[0minp\u001b[0m\u001b[0;34m)\u001b[0m\u001b[0;34m\u001b[0m\u001b[0;34m\u001b[0m\u001b[0m\n\u001b[0;32m----> 2\u001b[0;31m \u001b[0mresult\u001b[0m \u001b[0;34m=\u001b[0m \u001b[0mclient\u001b[0m\u001b[0;34m.\u001b[0m\u001b[0mPredictModelOnly\u001b[0m\u001b[0;34m(\u001b[0m\u001b[0mrequest\u001b[0m\u001b[0;34m)\u001b[0m\u001b[0;34m\u001b[0m\u001b[0;34m\u001b[0m\u001b[0m\n\u001b[0m\u001b[1;32m      3\u001b[0m \u001b[0mprint\u001b[0m\u001b[0;34m(\u001b[0m\u001b[0mresult\u001b[0m\u001b[0;34m)\u001b[0m\u001b[0;34m\u001b[0m\u001b[0;34m\u001b[0m\u001b[0m\n",
      "\u001b[0;32m/Library/Frameworks/Python.framework/Versions/3.7/lib/python3.7/site-packages/grpc/_channel.py\u001b[0m in \u001b[0;36m__call__\u001b[0;34m(self, request, timeout, metadata, credentials, wait_for_ready)\u001b[0m\n\u001b[1;32m    560\u001b[0m         state, call, = self._blocking(request, timeout, metadata, credentials,\n\u001b[1;32m    561\u001b[0m                                       wait_for_ready)\n\u001b[0;32m--> 562\u001b[0;31m         \u001b[0;32mreturn\u001b[0m \u001b[0m_end_unary_response_blocking\u001b[0m\u001b[0;34m(\u001b[0m\u001b[0mstate\u001b[0m\u001b[0;34m,\u001b[0m \u001b[0mcall\u001b[0m\u001b[0;34m,\u001b[0m \u001b[0;32mFalse\u001b[0m\u001b[0;34m,\u001b[0m \u001b[0;32mNone\u001b[0m\u001b[0;34m)\u001b[0m\u001b[0;34m\u001b[0m\u001b[0;34m\u001b[0m\u001b[0m\n\u001b[0m\u001b[1;32m    563\u001b[0m \u001b[0;34m\u001b[0m\u001b[0m\n\u001b[1;32m    564\u001b[0m     def with_call(self,\n",
      "\u001b[0;32m/Library/Frameworks/Python.framework/Versions/3.7/lib/python3.7/site-packages/grpc/_channel.py\u001b[0m in \u001b[0;36m_end_unary_response_blocking\u001b[0;34m(state, call, with_call, deadline)\u001b[0m\n\u001b[1;32m    464\u001b[0m             \u001b[0;32mreturn\u001b[0m \u001b[0mstate\u001b[0m\u001b[0;34m.\u001b[0m\u001b[0mresponse\u001b[0m\u001b[0;34m\u001b[0m\u001b[0;34m\u001b[0m\u001b[0m\n\u001b[1;32m    465\u001b[0m     \u001b[0;32melse\u001b[0m\u001b[0;34m:\u001b[0m\u001b[0;34m\u001b[0m\u001b[0;34m\u001b[0m\u001b[0m\n\u001b[0;32m--> 466\u001b[0;31m         \u001b[0;32mraise\u001b[0m \u001b[0m_Rendezvous\u001b[0m\u001b[0;34m(\u001b[0m\u001b[0mstate\u001b[0m\u001b[0;34m,\u001b[0m \u001b[0;32mNone\u001b[0m\u001b[0;34m,\u001b[0m \u001b[0;32mNone\u001b[0m\u001b[0;34m,\u001b[0m \u001b[0mdeadline\u001b[0m\u001b[0;34m)\u001b[0m\u001b[0;34m\u001b[0m\u001b[0;34m\u001b[0m\u001b[0m\n\u001b[0m\u001b[1;32m    467\u001b[0m \u001b[0;34m\u001b[0m\u001b[0m\n\u001b[1;32m    468\u001b[0m \u001b[0;34m\u001b[0m\u001b[0m\n",
      "\u001b[0;31m_Rendezvous\u001b[0m: <_Rendezvous of RPC that terminated with:\n\tstatus = StatusCode.UNKNOWN\n\tdetails = \"No status received\"\n\tdebug_error_string = \"{\"created\":\"@1559726557.543367000\",\"description\":\"No status received\",\"file\":\"src/core/lib/surface/call.cc\",\"file_line\":1066,\"grpc_status\":2}\"\n>"
     ],
     "output_type": "error"
    }
   ],
   "source": [
    "request = hs.PredictRequest(model_spec=model_spec, inputs=inp)\n",
    "result = client.PredictModelOnly(request)\n",
    "print(result)"
   ]
  },
  {
   "cell_type": "markdown",
   "metadata": {
    "heading_collapsed": true
   },
   "source": [
    "# Anchor"
   ]
  },
  {
   "cell_type": "markdown",
   "metadata": {
    "hidden": true
   },
   "source": [
    "Specify the link to Anchor explanation service"
   ]
  },
  {
   "cell_type": "code",
   "execution_count": 8,
   "metadata": {
    "ExecuteTime": {
     "end_time": "2019-04-26T09:11:07.860776Z",
     "start_time": "2019-04-26T09:11:07.858173Z"
    },
    "hidden": true
   },
   "outputs": [],
   "source": [
    "anchor_link = \"http://0.0.0.0:5000/anchor\" "
   ]
  },
  {
   "cell_type": "markdown",
   "metadata": {
    "hidden": true
   },
   "source": [
    "Prepare configs"
   ]
  },
  {
   "cell_type": "code",
   "execution_count": 9,
   "metadata": {
    "ExecuteTime": {
     "end_time": "2019-04-26T09:11:10.098501Z",
     "start_time": "2019-04-26T09:11:10.090252Z"
    },
    "hidden": true
   },
   "outputs": [],
   "source": [
    "adult_anchor_config = {\n",
    "  \"precision_threshold\": 0.95,\n",
    "  \"verbose\": False,\n",
    "  \"ordinal_features_idx\": [\n",
    "    0,\n",
    "    10\n",
    "  ],\n",
    "  \"oh_encoded_categories\": {},\n",
    "  \"label_decoders\": {\n",
    "    \"1\": [\n",
    "      \" ?\",\n",
    "      \" Federal-gov\",\n",
    "      \" Local-gov\",\n",
    "      \" Never-worked\",\n",
    "      \" Private\",\n",
    "      \" Self-emp-inc\",\n",
    "      \" Self-emp-not-inc\",\n",
    "      \" State-gov\",\n",
    "      \" Without-pay\"\n",
    "    ],\n",
    "    \"2\": [\n",
    "      \"Associates\",\n",
    "      \"Bachelors\",\n",
    "      \"Doctorate\",\n",
    "      \"Dropout\",\n",
    "      \"High School grad\",\n",
    "      \"Masters\",\n",
    "      \"Prof-School\"\n",
    "    ],\n",
    "    \"3\": [\n",
    "      \"Married\",\n",
    "      \"Never-Married\",\n",
    "      \"Separated\",\n",
    "      \"Widowed\"\n",
    "    ],\n",
    "    \"4\": [\n",
    "      \"?\",\n",
    "      \"Admin\",\n",
    "      \"Blue-Collar\",\n",
    "      \"Military\",\n",
    "      \"Other\",\n",
    "      \"Professional\",\n",
    "      \"Sales\",\n",
    "      \"Service\",\n",
    "      \"White-Collar\"\n",
    "    ],\n",
    "    \"5\": [\n",
    "      \" Husband\",\n",
    "      \" Not-in-family\",\n",
    "      \" Other-relative\",\n",
    "      \" Own-child\",\n",
    "      \" Unmarried\",\n",
    "      \" Wife\"\n",
    "    ],\n",
    "    \"6\": [\n",
    "      \" Amer-Indian-Eskimo\",\n",
    "      \" Asian-Pac-Islander\",\n",
    "      \" Black\",\n",
    "      \" Other\",\n",
    "      \" White\"\n",
    "    ],\n",
    "    \"7\": [\n",
    "      \" Female\",\n",
    "      \" Male\"\n",
    "    ],\n",
    "    \"8\": [\n",
    "      \"High\",\n",
    "      \"Low\",\n",
    "      \"None\"\n",
    "    ],\n",
    "    \"9\": [\n",
    "      \"High\",\n",
    "      \"Low\",\n",
    "      \"None\"\n",
    "    ],\n",
    "    \"11\": [\n",
    "      \"?\",\n",
    "      \"British-Commonwealth\",\n",
    "      \"China\",\n",
    "      \"Euro_1\",\n",
    "      \"Euro_2\",\n",
    "      \"Latin-America\",\n",
    "      \"Other\",\n",
    "      \"SE-Asia\",\n",
    "      \"South-America\",\n",
    "      \"United-States\",\n",
    "      \"Yugoslavia\"\n",
    "    ]\n",
    "  },\n",
    "  \"strategy\": \"kl-lucb\",\n",
    "  \"feature_names\": [\n",
    "    \"Age\",\n",
    "    \"Workclass\",\n",
    "    \"Education\",\n",
    "    \"Marital Status\",\n",
    "    \"Occupation\",\n",
    "    \"Relationship\",\n",
    "    \"Race\",\n",
    "    \"Sex\",\n",
    "    \"Capital Gain\",\n",
    "    \"Capital Loss\",\n",
    "    \"Hours per week\",\n",
    "    \"Country\"\n",
    "  ]\n",
    "}\n"
   ]
  },
  {
   "cell_type": "markdown",
   "metadata": {
    "hidden": true
   },
   "source": [
    "Populate reqstore with data"
   ]
  },
  {
   "cell_type": "code",
   "execution_count": 10,
   "metadata": {
    "ExecuteTime": {
     "end_time": "2019-04-26T09:11:21.618306Z",
     "start_time": "2019-04-26T09:11:12.238003Z"
    },
    "hidden": true
   },
   "outputs": [
    {
     "data": {
      "text/plain": [
       "HBox(children=(IntProgress(value=0, max=15), HTML(value='')))"
      ]
     },
     "metadata": {},
     "output_type": "display_data"
    },
    {
     "name": "stdout",
     "output_type": "stream",
     "text": [
      "200.. 200.. 200.. 200.. 200.. 200.. 200.. 200.. 200.. 200.. 200.. 200.. 200.. 200.. 200.. \n"
     ]
    }
   ],
   "source": [
    "service_link = \"https://dev.k8s.hydrosphere.io/gateway/application/adult-salary-app\"\n",
    "for idx in tqdm(range(test_X.shape[0]//500 - 1)):\n",
    "    sample = test_X.iloc[idx*500 :(idx +1)*500]    \n",
    "    response = requests.post(url=service_link, json=make_signatured_json(sample))\n",
    "    print(response.status_code, end=\".. \")\n",
    "#     time.sleep(0.05)"
   ]
  },
  {
   "cell_type": "markdown",
   "metadata": {
    "hidden": true
   },
   "source": [
    "## Example 0"
   ]
  },
  {
   "cell_type": "code",
   "execution_count": 11,
   "metadata": {
    "ExecuteTime": {
     "end_time": "2019-04-26T09:13:21.715359Z",
     "start_time": "2019-04-26T09:13:21.710186Z"
    },
    "hidden": true
   },
   "outputs": [
    {
     "name": "stdout",
     "output_type": "stream",
     "text": [
      "Age               53\n",
      "Workclass          2\n",
      "Education          3\n",
      "Marital Status     0\n",
      "Occupation         2\n",
      "Relationship       0\n",
      "Race               4\n",
      "Sex                1\n",
      "Capital Gain       2\n",
      "Capital Loss       2\n",
      "Hours per week    40\n",
      "Country            9\n",
      "Name: 19146, dtype: int64\n"
     ]
    }
   ],
   "source": [
    "idx = np.random.choice(range(test_X.shape[0]))\n",
    "x = test_X.iloc[idx]\n",
    "print(x)"
   ]
  },
  {
   "cell_type": "code",
   "execution_count": 12,
   "metadata": {
    "ExecuteTime": {
     "end_time": "2019-04-26T09:13:25.748765Z",
     "start_time": "2019-04-26T09:13:25.121362Z"
    },
    "hidden": true
   },
   "outputs": [
    {
     "name": "stdout",
     "output_type": "stream",
     "text": [
      "Predicted label is  <=50K\n"
     ]
    }
   ],
   "source": [
    "response = requests.post(url=service_link, json=make_signatured_json(pd.DataFrame(x).T))\n",
    "prediction = np.array(response.json()[\"Prediction\"])\n",
    "print(f\"Predicted label is {class_names[prediction[0][0]]}\")"
   ]
  },
  {
   "cell_type": "code",
   "execution_count": 13,
   "metadata": {
    "ExecuteTime": {
     "end_time": "2019-04-26T09:17:33.634616Z",
     "start_time": "2019-04-26T09:13:28.268825Z"
    },
    "hidden": true
   },
   "outputs": [
    {
     "name": "stdout",
     "output_type": "stream",
     "text": [
      "{\n",
      "  \"coverage\": 0.124, \n",
      "  \"explanation\": \"Education == Dropout\", \n",
      "  \"precision\": 0.963\n",
      "}\n",
      "\n"
     ]
    }
   ],
   "source": [
    "response = requests.post(url=anchor_link, json={\"explained_instance\": x.tolist(),\n",
    "                                                \"application_name\" : \"adult-salary-app\",\n",
    "                                                \"config\" : adult_anchor_config})\n",
    "\n",
    "print(response.text)"
   ]
  },
  {
   "cell_type": "code",
   "execution_count": 14,
   "metadata": {
    "ExecuteTime": {
     "end_time": "2019-04-26T09:18:10.714233Z",
     "start_time": "2019-04-26T09:18:10.707989Z"
    },
    "hidden": true
   },
   "outputs": [
    {
     "name": "stdout",
     "output_type": "stream",
     "text": [
      "Coverage of this explanation is  0.124\n",
      "Precision of this explanation is  0.963\n"
     ]
    },
    {
     "data": {
      "text/plain": [
       "['Education == Dropout']"
      ]
     },
     "execution_count": 14,
     "metadata": {},
     "output_type": "execute_result"
    }
   ],
   "source": [
    "print(\"Coverage of this explanation is \", response.json()['coverage'])\n",
    "print(\"Precision of this explanation is \", response.json()['precision'])\n",
    "\n",
    "response.json()['explanation'].split(\" AND \")"
   ]
  },
  {
   "cell_type": "markdown",
   "metadata": {
    "ExecuteTime": {
     "end_time": "2019-04-18T07:57:48.490954Z",
     "start_time": "2019-04-18T07:57:48.489042Z"
    },
    "hidden": true
   },
   "source": [
    "### Example 1"
   ]
  },
  {
   "cell_type": "code",
   "execution_count": 72,
   "metadata": {
    "ExecuteTime": {
     "end_time": "2019-04-24T08:43:29.459240Z",
     "start_time": "2019-04-24T08:43:29.453930Z"
    },
    "hidden": true
   },
   "outputs": [
    {
     "name": "stdout",
     "output_type": "stream",
     "text": [
      "Age               41\n",
      "Workclass          4\n",
      "Education          5\n",
      "Marital Status     0\n",
      "Occupation         8\n",
      "Relationship       0\n",
      "Race               4\n",
      "Sex                1\n",
      "Capital Gain       2\n",
      "Capital Loss       0\n",
      "Hours per week    65\n",
      "Country            9\n",
      "Name: 405, dtype: int64\n"
     ]
    }
   ],
   "source": [
    "idx = np.random.choice(range(test_X.shape[0]))\n",
    "x = test_X.iloc[idx]\n",
    "print(x)"
   ]
  },
  {
   "cell_type": "code",
   "execution_count": 73,
   "metadata": {
    "ExecuteTime": {
     "end_time": "2019-04-24T08:43:29.953254Z",
     "start_time": "2019-04-24T08:43:29.672825Z"
    },
    "hidden": true
   },
   "outputs": [
    {
     "name": "stdout",
     "output_type": "stream",
     "text": [
      "Predicted label is  >50K\n"
     ]
    }
   ],
   "source": [
    "response = requests.post(url=service_link, json=make_signatured_json(pd.DataFrame(x).T))\n",
    "prediction = np.array(response.json()[\"Prediction\"])\n",
    "print(f\"Predicted label is {class_names[prediction[0][0]]}\")"
   ]
  },
  {
   "cell_type": "code",
   "execution_count": 74,
   "metadata": {
    "ExecuteTime": {
     "end_time": "2019-04-24T08:45:03.155372Z",
     "start_time": "2019-04-24T08:43:31.410908Z"
    },
    "hidden": true
   },
   "outputs": [],
   "source": [
    "response = requests.post(url=anchor_link, json={\"explained_instance\": x.tolist(),\n",
    "                                                \"application_name\" : \"adult-salary-app\",\n",
    "                                                \"config\" : adult_anchor_config})"
   ]
  },
  {
   "cell_type": "code",
   "execution_count": 75,
   "metadata": {
    "ExecuteTime": {
     "end_time": "2019-04-24T08:45:03.159691Z",
     "start_time": "2019-04-24T08:45:03.156965Z"
    },
    "hidden": true,
    "scrolled": false
   },
   "outputs": [
    {
     "name": "stdout",
     "output_type": "stream",
     "text": [
      "{\n",
      "  \"coverage\": 0.009, \n",
      "  \"explanation\": \"Occupation == White-Collar AND Capital Loss == High\", \n",
      "  \"precision\": 0.975\n",
      "}\n",
      "\n"
     ]
    }
   ],
   "source": [
    "print(response.text)"
   ]
  },
  {
   "cell_type": "code",
   "execution_count": 76,
   "metadata": {
    "ExecuteTime": {
     "end_time": "2019-04-24T08:45:03.165889Z",
     "start_time": "2019-04-24T08:45:03.161740Z"
    },
    "hidden": true,
    "scrolled": true
   },
   "outputs": [
    {
     "name": "stdout",
     "output_type": "stream",
     "text": [
      "Coverage of this explanation is  0.009\n",
      "Precision of this explanation is  0.975\n"
     ]
    }
   ],
   "source": [
    "print(\"Coverage of this explanation is \", response.json()['coverage'])\n",
    "print(\"Precision of this explanation is \", response.json()['precision'])"
   ]
  },
  {
   "cell_type": "code",
   "execution_count": 77,
   "metadata": {
    "ExecuteTime": {
     "end_time": "2019-04-24T08:45:03.172335Z",
     "start_time": "2019-04-24T08:45:03.168349Z"
    },
    "hidden": true,
    "scrolled": true
   },
   "outputs": [
    {
     "data": {
      "text/plain": [
       "['Occupation == White-Collar', 'Capital Loss == High']"
      ]
     },
     "execution_count": 77,
     "metadata": {},
     "output_type": "execute_result"
    }
   ],
   "source": [
    "response.json()['explanation'].split(\" AND \")"
   ]
  },
  {
   "cell_type": "markdown",
   "metadata": {
    "hidden": true
   },
   "source": [
    "### Example 2"
   ]
  },
  {
   "cell_type": "code",
   "execution_count": 94,
   "metadata": {
    "ExecuteTime": {
     "end_time": "2019-04-24T08:50:49.458699Z",
     "start_time": "2019-04-24T08:50:49.454432Z"
    },
    "hidden": true
   },
   "outputs": [
    {
     "name": "stdout",
     "output_type": "stream",
     "text": [
      "Age               56\n",
      "Workclass          2\n",
      "Education          6\n",
      "Marital Status     0\n",
      "Occupation         1\n",
      "Relationship       0\n",
      "Race               1\n",
      "Sex                1\n",
      "Capital Gain       2\n",
      "Capital Loss       2\n",
      "Hours per week    40\n",
      "Country            7\n",
      "Name: 22329, dtype: int64\n"
     ]
    }
   ],
   "source": [
    "idx = np.random.choice(range(test_X.shape[0]))\n",
    "x = test_X.iloc[idx]\n",
    "print(x)"
   ]
  },
  {
   "cell_type": "code",
   "execution_count": 95,
   "metadata": {
    "ExecuteTime": {
     "end_time": "2019-04-24T08:50:50.146872Z",
     "start_time": "2019-04-24T08:50:49.878402Z"
    },
    "hidden": true
   },
   "outputs": [
    {
     "name": "stdout",
     "output_type": "stream",
     "text": [
      "Predicted label is  >50K\n"
     ]
    }
   ],
   "source": [
    "response = requests.post(url=service_link, json=make_signatured_json(pd.DataFrame(x).T))\n",
    "prediction = np.array(response.json()[\"Prediction\"])\n",
    "print(f\"Predicted label is {class_names[prediction[0][0]]}\")"
   ]
  },
  {
   "cell_type": "code",
   "execution_count": 96,
   "metadata": {
    "ExecuteTime": {
     "end_time": "2019-04-24T09:00:36.194138Z",
     "start_time": "2019-04-24T08:50:51.447135Z"
    },
    "hidden": true,
    "scrolled": false
   },
   "outputs": [
    {
     "name": "stdout",
     "output_type": "stream",
     "text": [
      "{\n",
      "  \"coverage\": 0.001, \n",
      "  \"explanation\": \"Hours per week > 36.0 AND Capital Loss == None AND Sex ==  Male AND Education == Prof-School AND Workclass ==  Local-gov\", \n",
      "  \"precision\": 1.0\n",
      "}\n",
      "\n"
     ]
    }
   ],
   "source": [
    "response = requests.post(url=anchor_link, json={\"explained_instance\": x.tolist(),\n",
    "                                                \"application_name\" : \"adult-salary-app\",\n",
    "                                                \"config\" : adult_anchor_config})\n",
    "print(response.text)"
   ]
  },
  {
   "cell_type": "markdown",
   "metadata": {
    "hidden": true
   },
   "source": [
    "### Example 3"
   ]
  },
  {
   "cell_type": "code",
   "execution_count": 97,
   "metadata": {
    "ExecuteTime": {
     "end_time": "2019-04-24T09:00:36.200159Z",
     "start_time": "2019-04-24T09:00:36.195535Z"
    },
    "hidden": true
   },
   "outputs": [
    {
     "name": "stdout",
     "output_type": "stream",
     "text": [
      "Age               37\n",
      "Workclass          4\n",
      "Education          4\n",
      "Marital Status     2\n",
      "Occupation         2\n",
      "Relationship       2\n",
      "Race               2\n",
      "Sex                1\n",
      "Capital Gain       2\n",
      "Capital Loss       2\n",
      "Hours per week    40\n",
      "Country            9\n",
      "Name: 21521, dtype: int64\n"
     ]
    }
   ],
   "source": [
    "idx = np.random.choice(range(test_X.shape[0]))\n",
    "x = test_X.iloc[idx]\n",
    "print(x)"
   ]
  },
  {
   "cell_type": "code",
   "execution_count": 98,
   "metadata": {
    "ExecuteTime": {
     "end_time": "2019-04-24T09:00:36.515964Z",
     "start_time": "2019-04-24T09:00:36.202465Z"
    },
    "hidden": true
   },
   "outputs": [
    {
     "name": "stdout",
     "output_type": "stream",
     "text": [
      "Predicted label is  <=50K\n"
     ]
    }
   ],
   "source": [
    "response = requests.post(url=service_link, json=make_signatured_json(pd.DataFrame(x).T))\n",
    "prediction = np.array(response.json()[\"Prediction\"])\n",
    "print(f\"Predicted label is {class_names[prediction[0][0]]}\")"
   ]
  },
  {
   "cell_type": "code",
   "execution_count": 99,
   "metadata": {
    "ExecuteTime": {
     "end_time": "2019-04-24T09:02:20.555043Z",
     "start_time": "2019-04-24T09:00:36.517387Z"
    },
    "hidden": true,
    "scrolled": true
   },
   "outputs": [
    {
     "name": "stdout",
     "output_type": "stream",
     "text": [
      "{\n",
      "  \"coverage\": 0.03, \n",
      "  \"explanation\": \"Relationship ==  Other-relative\", \n",
      "  \"precision\": 0.993\n",
      "}\n",
      "\n"
     ]
    }
   ],
   "source": [
    "response = requests.post(url=anchor_link, json={\"explained_instance\": x.tolist(),\n",
    "                                                \"application_name\" : \"adult-salary-app\",\n",
    "                                                \"config\" : adult_anchor_config})\n",
    "print(response.text)"
   ]
  }
 ],
 "metadata": {
  "kernelspec": {
   "display_name": "Python 3.7",
   "language": "python",
   "name": "python3.7"
  },
  "language_info": {
   "codemirror_mode": {
    "name": "ipython",
    "version": 3
   },
   "file_extension": ".py",
   "mimetype": "text/x-python",
   "name": "python",
   "nbconvert_exporter": "python",
   "pygments_lexer": "ipython3",
   "version": "3.7.2"
  }
 },
 "nbformat": 4,
 "nbformat_minor": 2
}
